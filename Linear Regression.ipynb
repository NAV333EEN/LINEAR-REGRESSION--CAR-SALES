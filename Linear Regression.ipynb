{
 "cells": [
  {
   "cell_type": "markdown",
   "id": "0356ed5e",
   "metadata": {
    "ExecuteTime": {
     "end_time": "2022-12-08T07:34:07.797048Z",
     "start_time": "2022-12-08T07:34:07.779050Z"
    }
   },
   "source": [
    "<center>\n",
    "<h1> Linear Regression End to End Case Study\n",
    "</center>\n",
    "\n",
    "### Steps for Regression Modeling:\n",
    "1. Business problem definition - One of major automobile company would like to design new product which can improve the sales. Inorder to define the product, they want to understand/identify drivers for the sales (what are the factors driving sales) and Predicting sales of different car models given driving factors. \n",
    "2. Convert business problem into statistical problem  sales = F(sales attributes, product features, marketing info etc.)\n",
    "3. Finding the right technique - Since it is predicting value (Regression Problem) problem so we can use OLS Linear Regression (Oridinary Least Squares )  as one of the technique. We can also use other techniques like Decision Trees, Ensemble learning, KNN, SVM, ANN etc.\n",
    "4. Data collection(Y, X) - Identify the sources of information and collect the data\n",
    "5. Import and Consolidate the data - aggregate and consolidate the data at Model level/customer level/store level depends on business problem\n",
    "6. Data preparation for modeling (create data audit report to identify the steps to perform as part of data preparation)\n",
    "    a. missing value treatment\n",
    "    b. outlier treatment\n",
    "    c. dummy variable creation\n",
    "7. Variable creation by using transformation and derived variable creation.\n",
    "8. Basic assumptions (Normality, linearity, no outliers, homoscadasticity, no pattern in residuals, no auto correlation etc)\n",
    "9. Variable reduction techniques (removing multicollinerity with the help of FA/PCA, correlation matrics, VIF)\n",
    "10. Create dev and validation data sets (50:50 if you have more data else 70:30 or 80:20)\n",
    "11. Modeling on dev data set (identify significant variables, model interpretation, check the signs and coefficients, multi-collinierity check, measures of good neess fit, final mathematical equation etc)\n",
    "12. validating on validation data set (check the stability of model, scoring, decile analysis, cross validation etc.)\n",
    "13. Output interpretation and derive insights (understand the limitations of the model and define strategy to implementation)\n",
    "14. convert statistical solution into business solutions (implementation, model monitoring etc)\n"
   ]
  },
  {
   "cell_type": "code",
   "execution_count": 197,
   "id": "fa6020e2",
   "metadata": {
    "ExecuteTime": {
     "end_time": "2022-12-12T05:32:09.722974Z",
     "start_time": "2022-12-12T05:32:09.700969Z"
    }
   },
   "outputs": [],
   "source": [
    "# Import the necceasary packages\n",
    "\n",
    "# Numerical Operations\n",
    "import numpy as np\n",
    "import pandas as pd  \n",
    "\n",
    "#Plotting\n",
    "import matplotlib.pyplot as plt\n",
    "import seaborn as sns\n",
    "plt.style.use('fivethirtyeight')\n",
    "\n",
    "#Remove warnings\n",
    "import warnings\n",
    "warnings.filterwarnings('ignore')\n",
    "\n",
    "#Date\n",
    "import datetime as dt\n",
    "# Auto EDA\n",
    "#import pandas_profiling\n",
    "\n",
    "#Data Prep \n",
    "from sklearn.model_selection import train_test_split\n",
    "\n",
    "#Models\n",
    "from statsmodels.api import OLS \n"
   ]
  },
  {
   "cell_type": "markdown",
   "id": "1ef24fc1",
   "metadata": {
    "ExecuteTime": {
     "end_time": "2022-12-08T07:48:28.635936Z",
     "start_time": "2022-12-08T07:48:28.616925Z"
    }
   },
   "source": [
    "### Import Data "
   ]
  },
  {
   "cell_type": "code",
   "execution_count": 198,
   "id": "cc915ace",
   "metadata": {
    "ExecuteTime": {
     "end_time": "2022-12-12T05:32:09.785982Z",
     "start_time": "2022-12-12T05:32:09.724967Z"
    }
   },
   "outputs": [
    {
     "data": {
      "text/html": [
       "<div>\n",
       "<style scoped>\n",
       "    .dataframe tbody tr th:only-of-type {\n",
       "        vertical-align: middle;\n",
       "    }\n",
       "\n",
       "    .dataframe tbody tr th {\n",
       "        vertical-align: top;\n",
       "    }\n",
       "\n",
       "    .dataframe thead th {\n",
       "        text-align: right;\n",
       "    }\n",
       "</style>\n",
       "<table border=\"1\" class=\"dataframe\">\n",
       "  <thead>\n",
       "    <tr style=\"text-align: right;\">\n",
       "      <th></th>\n",
       "      <th>Manufacturer</th>\n",
       "      <th>Model</th>\n",
       "      <th>Sales_in_thousands</th>\n",
       "      <th>four_year_resale_value</th>\n",
       "      <th>Vehicle_type</th>\n",
       "      <th>Price_in_thousands</th>\n",
       "      <th>Engine_size</th>\n",
       "      <th>Horsepower</th>\n",
       "      <th>Wheelbase</th>\n",
       "      <th>Width</th>\n",
       "      <th>Length</th>\n",
       "      <th>Curb_weight</th>\n",
       "      <th>Fuel_capacity</th>\n",
       "      <th>Fuel_efficiency</th>\n",
       "      <th>Latest_Launch</th>\n",
       "      <th>Power_perf_factor</th>\n",
       "    </tr>\n",
       "  </thead>\n",
       "  <tbody>\n",
       "    <tr>\n",
       "      <th>0</th>\n",
       "      <td>Acura</td>\n",
       "      <td>Integra</td>\n",
       "      <td>16.919</td>\n",
       "      <td>16.36</td>\n",
       "      <td>Passenger</td>\n",
       "      <td>21.5</td>\n",
       "      <td>1.8</td>\n",
       "      <td>140</td>\n",
       "      <td>101.2</td>\n",
       "      <td>67.3</td>\n",
       "      <td>172.4</td>\n",
       "      <td>2.639</td>\n",
       "      <td>13.2</td>\n",
       "      <td>28</td>\n",
       "      <td>2/2/2012</td>\n",
       "      <td>58.28015</td>\n",
       "    </tr>\n",
       "    <tr>\n",
       "      <th>1</th>\n",
       "      <td>Acura</td>\n",
       "      <td>TL</td>\n",
       "      <td>39.384</td>\n",
       "      <td>19.875</td>\n",
       "      <td>Passenger</td>\n",
       "      <td>28.4</td>\n",
       "      <td>3.2</td>\n",
       "      <td>225</td>\n",
       "      <td>108.1</td>\n",
       "      <td>70.3</td>\n",
       "      <td>192.9</td>\n",
       "      <td>3.517</td>\n",
       "      <td>17.2</td>\n",
       "      <td>25</td>\n",
       "      <td>6/3/2011</td>\n",
       "      <td>91.370778</td>\n",
       "    </tr>\n",
       "    <tr>\n",
       "      <th>2</th>\n",
       "      <td>Acura</td>\n",
       "      <td>CL</td>\n",
       "      <td>14.114</td>\n",
       "      <td>18.225</td>\n",
       "      <td>Passenger</td>\n",
       "      <td>&lt;NA&gt;</td>\n",
       "      <td>3.2</td>\n",
       "      <td>225</td>\n",
       "      <td>106.9</td>\n",
       "      <td>70.6</td>\n",
       "      <td>192.0</td>\n",
       "      <td>3.47</td>\n",
       "      <td>17.2</td>\n",
       "      <td>26</td>\n",
       "      <td>1/4/2012</td>\n",
       "      <td>&lt;NA&gt;</td>\n",
       "    </tr>\n",
       "    <tr>\n",
       "      <th>3</th>\n",
       "      <td>Acura</td>\n",
       "      <td>RL</td>\n",
       "      <td>8.588</td>\n",
       "      <td>29.725</td>\n",
       "      <td>Passenger</td>\n",
       "      <td>42.0</td>\n",
       "      <td>3.5</td>\n",
       "      <td>210</td>\n",
       "      <td>114.6</td>\n",
       "      <td>71.4</td>\n",
       "      <td>196.6</td>\n",
       "      <td>3.85</td>\n",
       "      <td>18.0</td>\n",
       "      <td>22</td>\n",
       "      <td>3/10/2011</td>\n",
       "      <td>91.389779</td>\n",
       "    </tr>\n",
       "    <tr>\n",
       "      <th>4</th>\n",
       "      <td>Audi</td>\n",
       "      <td>A4</td>\n",
       "      <td>20.397</td>\n",
       "      <td>22.255</td>\n",
       "      <td>Passenger</td>\n",
       "      <td>23.99</td>\n",
       "      <td>1.8</td>\n",
       "      <td>150</td>\n",
       "      <td>102.6</td>\n",
       "      <td>68.2</td>\n",
       "      <td>178.0</td>\n",
       "      <td>2.998</td>\n",
       "      <td>16.4</td>\n",
       "      <td>27</td>\n",
       "      <td>10/8/2011</td>\n",
       "      <td>62.777639</td>\n",
       "    </tr>\n",
       "    <tr>\n",
       "      <th>...</th>\n",
       "      <td>...</td>\n",
       "      <td>...</td>\n",
       "      <td>...</td>\n",
       "      <td>...</td>\n",
       "      <td>...</td>\n",
       "      <td>...</td>\n",
       "      <td>...</td>\n",
       "      <td>...</td>\n",
       "      <td>...</td>\n",
       "      <td>...</td>\n",
       "      <td>...</td>\n",
       "      <td>...</td>\n",
       "      <td>...</td>\n",
       "      <td>...</td>\n",
       "      <td>...</td>\n",
       "      <td>...</td>\n",
       "    </tr>\n",
       "    <tr>\n",
       "      <th>152</th>\n",
       "      <td>Volvo</td>\n",
       "      <td>V40</td>\n",
       "      <td>3.545</td>\n",
       "      <td>&lt;NA&gt;</td>\n",
       "      <td>Passenger</td>\n",
       "      <td>24.4</td>\n",
       "      <td>1.9</td>\n",
       "      <td>160</td>\n",
       "      <td>100.5</td>\n",
       "      <td>67.6</td>\n",
       "      <td>176.6</td>\n",
       "      <td>3.042</td>\n",
       "      <td>15.8</td>\n",
       "      <td>25</td>\n",
       "      <td>9/21/2011</td>\n",
       "      <td>66.498812</td>\n",
       "    </tr>\n",
       "    <tr>\n",
       "      <th>153</th>\n",
       "      <td>Volvo</td>\n",
       "      <td>S70</td>\n",
       "      <td>15.245</td>\n",
       "      <td>&lt;NA&gt;</td>\n",
       "      <td>Passenger</td>\n",
       "      <td>27.5</td>\n",
       "      <td>2.4</td>\n",
       "      <td>168</td>\n",
       "      <td>104.9</td>\n",
       "      <td>69.3</td>\n",
       "      <td>185.9</td>\n",
       "      <td>3.208</td>\n",
       "      <td>17.9</td>\n",
       "      <td>25</td>\n",
       "      <td>11/24/2012</td>\n",
       "      <td>70.654495</td>\n",
       "    </tr>\n",
       "    <tr>\n",
       "      <th>154</th>\n",
       "      <td>Volvo</td>\n",
       "      <td>V70</td>\n",
       "      <td>17.531</td>\n",
       "      <td>&lt;NA&gt;</td>\n",
       "      <td>Passenger</td>\n",
       "      <td>28.8</td>\n",
       "      <td>2.4</td>\n",
       "      <td>168</td>\n",
       "      <td>104.9</td>\n",
       "      <td>69.3</td>\n",
       "      <td>186.2</td>\n",
       "      <td>3.259</td>\n",
       "      <td>17.9</td>\n",
       "      <td>25</td>\n",
       "      <td>6/25/2011</td>\n",
       "      <td>71.155978</td>\n",
       "    </tr>\n",
       "    <tr>\n",
       "      <th>155</th>\n",
       "      <td>Volvo</td>\n",
       "      <td>C70</td>\n",
       "      <td>3.493</td>\n",
       "      <td>&lt;NA&gt;</td>\n",
       "      <td>Passenger</td>\n",
       "      <td>45.5</td>\n",
       "      <td>2.3</td>\n",
       "      <td>236</td>\n",
       "      <td>104.9</td>\n",
       "      <td>71.5</td>\n",
       "      <td>185.7</td>\n",
       "      <td>3.601</td>\n",
       "      <td>18.5</td>\n",
       "      <td>23</td>\n",
       "      <td>4/26/2011</td>\n",
       "      <td>101.623357</td>\n",
       "    </tr>\n",
       "    <tr>\n",
       "      <th>156</th>\n",
       "      <td>Volvo</td>\n",
       "      <td>S80</td>\n",
       "      <td>18.969</td>\n",
       "      <td>&lt;NA&gt;</td>\n",
       "      <td>Passenger</td>\n",
       "      <td>36.0</td>\n",
       "      <td>2.9</td>\n",
       "      <td>201</td>\n",
       "      <td>109.9</td>\n",
       "      <td>72.1</td>\n",
       "      <td>189.8</td>\n",
       "      <td>3.6</td>\n",
       "      <td>21.1</td>\n",
       "      <td>24</td>\n",
       "      <td>11/14/2011</td>\n",
       "      <td>85.735655</td>\n",
       "    </tr>\n",
       "  </tbody>\n",
       "</table>\n",
       "<p>157 rows × 16 columns</p>\n",
       "</div>"
      ],
      "text/plain": [
       "    Manufacturer    Model  Sales_in_thousands  four_year_resale_value  \\\n",
       "0          Acura  Integra              16.919                   16.36   \n",
       "1          Acura       TL              39.384                  19.875   \n",
       "2          Acura       CL              14.114                  18.225   \n",
       "3          Acura       RL               8.588                  29.725   \n",
       "4           Audi       A4              20.397                  22.255   \n",
       "..           ...      ...                 ...                     ...   \n",
       "152        Volvo      V40               3.545                    <NA>   \n",
       "153        Volvo      S70              15.245                    <NA>   \n",
       "154        Volvo      V70              17.531                    <NA>   \n",
       "155        Volvo      C70               3.493                    <NA>   \n",
       "156        Volvo      S80              18.969                    <NA>   \n",
       "\n",
       "    Vehicle_type  Price_in_thousands  Engine_size  Horsepower  Wheelbase  \\\n",
       "0      Passenger                21.5          1.8         140      101.2   \n",
       "1      Passenger                28.4          3.2         225      108.1   \n",
       "2      Passenger                <NA>          3.2         225      106.9   \n",
       "3      Passenger                42.0          3.5         210      114.6   \n",
       "4      Passenger               23.99          1.8         150      102.6   \n",
       "..           ...                 ...          ...         ...        ...   \n",
       "152    Passenger                24.4          1.9         160      100.5   \n",
       "153    Passenger                27.5          2.4         168      104.9   \n",
       "154    Passenger                28.8          2.4         168      104.9   \n",
       "155    Passenger                45.5          2.3         236      104.9   \n",
       "156    Passenger                36.0          2.9         201      109.9   \n",
       "\n",
       "     Width  Length  Curb_weight  Fuel_capacity  Fuel_efficiency Latest_Launch  \\\n",
       "0     67.3   172.4        2.639           13.2               28      2/2/2012   \n",
       "1     70.3   192.9        3.517           17.2               25      6/3/2011   \n",
       "2     70.6   192.0         3.47           17.2               26      1/4/2012   \n",
       "3     71.4   196.6         3.85           18.0               22     3/10/2011   \n",
       "4     68.2   178.0        2.998           16.4               27     10/8/2011   \n",
       "..     ...     ...          ...            ...              ...           ...   \n",
       "152   67.6   176.6        3.042           15.8               25     9/21/2011   \n",
       "153   69.3   185.9        3.208           17.9               25    11/24/2012   \n",
       "154   69.3   186.2        3.259           17.9               25     6/25/2011   \n",
       "155   71.5   185.7        3.601           18.5               23     4/26/2011   \n",
       "156   72.1   189.8          3.6           21.1               24    11/14/2011   \n",
       "\n",
       "     Power_perf_factor  \n",
       "0             58.28015  \n",
       "1            91.370778  \n",
       "2                 <NA>  \n",
       "3            91.389779  \n",
       "4            62.777639  \n",
       "..                 ...  \n",
       "152          66.498812  \n",
       "153          70.654495  \n",
       "154          71.155978  \n",
       "155         101.623357  \n",
       "156          85.735655  \n",
       "\n",
       "[157 rows x 16 columns]"
      ]
     },
     "execution_count": 198,
     "metadata": {},
     "output_type": "execute_result"
    }
   ],
   "source": [
    "data = pd.read_csv('Car_sales.csv').convert_dtypes()\n",
    "data"
   ]
  },
  {
   "cell_type": "markdown",
   "id": "d016ba64",
   "metadata": {},
   "source": [
    "## Data Audit"
   ]
  },
  {
   "cell_type": "code",
   "execution_count": 199,
   "id": "398ae82c",
   "metadata": {
    "ExecuteTime": {
     "end_time": "2022-12-12T05:32:09.801966Z",
     "start_time": "2022-12-12T05:32:09.788972Z"
    }
   },
   "outputs": [
    {
     "data": {
      "text/plain": [
       "Manufacturer               0\n",
       "Model                      0\n",
       "Sales_in_thousands         0\n",
       "four_year_resale_value    36\n",
       "Vehicle_type               0\n",
       "Price_in_thousands         2\n",
       "Engine_size                1\n",
       "Horsepower                 1\n",
       "Wheelbase                  1\n",
       "Width                      1\n",
       "Length                     1\n",
       "Curb_weight                2\n",
       "Fuel_capacity              1\n",
       "Fuel_efficiency            3\n",
       "Latest_Launch              0\n",
       "Power_perf_factor          2\n",
       "dtype: int64"
      ]
     },
     "execution_count": 199,
     "metadata": {},
     "output_type": "execute_result"
    }
   ],
   "source": [
    "data.isna().sum()"
   ]
  },
  {
   "cell_type": "code",
   "execution_count": 200,
   "id": "fe108055",
   "metadata": {
    "ExecuteTime": {
     "end_time": "2022-12-12T05:32:09.833962Z",
     "start_time": "2022-12-12T05:32:09.805968Z"
    }
   },
   "outputs": [
    {
     "name": "stdout",
     "output_type": "stream",
     "text": [
      "<class 'pandas.core.frame.DataFrame'>\n",
      "RangeIndex: 157 entries, 0 to 156\n",
      "Data columns (total 16 columns):\n",
      " #   Column                  Non-Null Count  Dtype  \n",
      "---  ------                  --------------  -----  \n",
      " 0   Manufacturer            157 non-null    string \n",
      " 1   Model                   157 non-null    string \n",
      " 2   Sales_in_thousands      157 non-null    Float64\n",
      " 3   four_year_resale_value  121 non-null    Float64\n",
      " 4   Vehicle_type            157 non-null    string \n",
      " 5   Price_in_thousands      155 non-null    Float64\n",
      " 6   Engine_size             156 non-null    Float64\n",
      " 7   Horsepower              156 non-null    Int64  \n",
      " 8   Wheelbase               156 non-null    Float64\n",
      " 9   Width                   156 non-null    Float64\n",
      " 10  Length                  156 non-null    Float64\n",
      " 11  Curb_weight             155 non-null    Float64\n",
      " 12  Fuel_capacity           156 non-null    Float64\n",
      " 13  Fuel_efficiency         154 non-null    Int64  \n",
      " 14  Latest_Launch           157 non-null    string \n",
      " 15  Power_perf_factor       155 non-null    Float64\n",
      "dtypes: Float64(10), Int64(2), string(4)\n",
      "memory usage: 21.6 KB\n"
     ]
    }
   ],
   "source": [
    "data.info()"
   ]
  },
  {
   "cell_type": "code",
   "execution_count": 201,
   "id": "71f8f940",
   "metadata": {
    "ExecuteTime": {
     "end_time": "2022-12-12T05:32:09.849974Z",
     "start_time": "2022-12-12T05:32:09.836974Z"
    }
   },
   "outputs": [
    {
     "data": {
      "text/plain": [
       "(157, 16)"
      ]
     },
     "execution_count": 201,
     "metadata": {},
     "output_type": "execute_result"
    }
   ],
   "source": [
    "data.shape"
   ]
  },
  {
   "cell_type": "code",
   "execution_count": 202,
   "id": "41ca2596",
   "metadata": {
    "ExecuteTime": {
     "end_time": "2022-12-12T05:32:09.881977Z",
     "start_time": "2022-12-12T05:32:09.854968Z"
    }
   },
   "outputs": [
    {
     "data": {
      "text/plain": [
       "Manufacturer              0.000000\n",
       "Model                     0.000000\n",
       "Sales_in_thousands        0.000000\n",
       "four_year_resale_value    0.229299\n",
       "Vehicle_type              0.000000\n",
       "Price_in_thousands        0.012739\n",
       "Engine_size               0.006369\n",
       "Horsepower                0.006369\n",
       "Wheelbase                 0.006369\n",
       "Width                     0.006369\n",
       "Length                    0.006369\n",
       "Curb_weight               0.012739\n",
       "Fuel_capacity             0.006369\n",
       "Fuel_efficiency           0.019108\n",
       "Latest_Launch             0.000000\n",
       "Power_perf_factor         0.012739\n",
       "dtype: float64"
      ]
     },
     "execution_count": 202,
     "metadata": {},
     "output_type": "execute_result"
    }
   ],
   "source": [
    "data.isna().sum() / data.shape[0]"
   ]
  },
  {
   "cell_type": "code",
   "execution_count": 203,
   "id": "454af18f",
   "metadata": {
    "ExecuteTime": {
     "end_time": "2022-12-12T05:32:09.913963Z",
     "start_time": "2022-12-12T05:32:09.887976Z"
    }
   },
   "outputs": [],
   "source": [
    "# Dropping the column \n",
    "\n",
    "data = data.drop(columns=['four_year_resale_value','Model'])\n",
    "data = data.dropna(axis='index',thresh=np.math.floor(data.shape[1] * 0.8 ))\n",
    "\n"
   ]
  },
  {
   "cell_type": "code",
   "execution_count": 204,
   "id": "b7555d60",
   "metadata": {
    "ExecuteTime": {
     "end_time": "2022-12-12T05:32:09.945965Z",
     "start_time": "2022-12-12T05:32:09.918993Z"
    }
   },
   "outputs": [],
   "source": [
    "# Date format\n",
    "\n",
    "data.Latest_Launch =  pd.to_datetime(data.Latest_Launch,format='%m/%d/%Y')"
   ]
  },
  {
   "cell_type": "code",
   "execution_count": 205,
   "id": "787dc1a2",
   "metadata": {
    "ExecuteTime": {
     "end_time": "2022-12-12T05:32:09.961970Z",
     "start_time": "2022-12-12T05:32:09.949978Z"
    }
   },
   "outputs": [],
   "source": [
    "features_col = data.columns.difference(['Sales_in_thousands'])\n",
    "target_col = 'Sales_in_thousands'"
   ]
  },
  {
   "cell_type": "code",
   "execution_count": 206,
   "id": "239740e1",
   "metadata": {
    "ExecuteTime": {
     "end_time": "2022-12-12T05:32:09.992972Z",
     "start_time": "2022-12-12T05:32:09.973978Z"
    }
   },
   "outputs": [
    {
     "data": {
      "text/plain": [
       "Index(['Curb_weight', 'Engine_size', 'Fuel_capacity', 'Fuel_efficiency',\n",
       "       'Horsepower', 'Latest_Launch', 'Length', 'Manufacturer',\n",
       "       'Power_perf_factor', 'Price_in_thousands', 'Vehicle_type', 'Wheelbase',\n",
       "       'Width'],\n",
       "      dtype='object')"
      ]
     },
     "execution_count": 206,
     "metadata": {},
     "output_type": "execute_result"
    }
   ],
   "source": [
    "features_col"
   ]
  },
  {
   "cell_type": "code",
   "execution_count": 207,
   "id": "07c292c1",
   "metadata": {
    "ExecuteTime": {
     "end_time": "2022-12-12T05:32:10.008974Z",
     "start_time": "2022-12-12T05:32:09.997979Z"
    }
   },
   "outputs": [
    {
     "data": {
      "text/plain": [
       "'Sales_in_thousands'"
      ]
     },
     "execution_count": 207,
     "metadata": {},
     "output_type": "execute_result"
    }
   ],
   "source": [
    "target_col"
   ]
  },
  {
   "cell_type": "markdown",
   "id": "90caf4b7",
   "metadata": {},
   "source": [
    "## EDA "
   ]
  },
  {
   "cell_type": "code",
   "execution_count": 208,
   "id": "9df591b3",
   "metadata": {
    "ExecuteTime": {
     "end_time": "2022-12-12T05:32:10.877954Z",
     "start_time": "2022-12-12T05:32:10.012983Z"
    }
   },
   "outputs": [
    {
     "data": {
      "text/plain": [
       "<AxesSubplot:>"
      ]
     },
     "execution_count": 208,
     "metadata": {},
     "output_type": "execute_result"
    },
    {
     "data": {
      "image/png": "[encoded data removed]",
      "text/plain": [
       "<Figure size 432x288 with 2 Axes>"
      ]
     },
     "metadata": {},
     "output_type": "display_data"
    }
   ],
   "source": [
    "d = data.select_dtypes('number').corr()\n",
    "\n",
    "sns.heatmap(d, annot=True)"
   ]
  },
  {
   "cell_type": "code",
   "execution_count": 209,
   "id": "2f61bb5b",
   "metadata": {
    "ExecuteTime": {
     "end_time": "2022-12-12T05:32:10.893969Z",
     "start_time": "2022-12-12T05:32:10.880963Z"
    }
   },
   "outputs": [],
   "source": [
    "#sns.pairplot(data.select_dtypes([float]))"
   ]
  },
  {
   "cell_type": "code",
   "execution_count": 210,
   "id": "039b9d32",
   "metadata": {
    "ExecuteTime": {
     "end_time": "2022-12-12T05:32:11.321690Z",
     "start_time": "2022-12-12T05:32:10.896968Z"
    }
   },
   "outputs": [
    {
     "data": {
      "text/plain": [
       "<AxesSubplot:xlabel='Sales_in_thousands', ylabel='Density'>"
      ]
     },
     "execution_count": 210,
     "metadata": {},
     "output_type": "execute_result"
    },
    {
     "data": {
      "image/png": "[encoded data removed]",
      "text/plain": [
       "<Figure size 432x288 with 1 Axes>"
      ]
     },
     "metadata": {},
     "output_type": "display_data"
    }
   ],
   "source": [
    "# Linear Regression on Normal data ( normally distributed data)\n",
    "# \n",
    "\n",
    "sns.distplot(data[target_col])"
   ]
  },
  {
   "cell_type": "code",
   "execution_count": 211,
   "id": "a5353fa1",
   "metadata": {
    "ExecuteTime": {
     "end_time": "2022-12-12T05:32:11.682153Z",
     "start_time": "2022-12-12T05:32:11.324696Z"
    }
   },
   "outputs": [
    {
     "data": {
      "text/plain": [
       "<AxesSubplot:xlabel='Sales_in_thousands', ylabel='Density'>"
      ]
     },
     "execution_count": 211,
     "metadata": {},
     "output_type": "execute_result"
    },
    {
     "data": {
      "image/png": "[encoded data removed]",
      "text/plain": [
       "<Figure size 432x288 with 1 Axes>"
      ]
     },
     "metadata": {},
     "output_type": "display_data"
    }
   ],
   "source": [
    "sns.distplot(np.log(data[target_col]))"
   ]
  },
  {
   "cell_type": "code",
   "execution_count": 212,
   "id": "41759645",
   "metadata": {
    "ExecuteTime": {
     "end_time": "2022-12-12T05:32:11.698154Z",
     "start_time": "2022-12-12T05:32:11.690154Z"
    }
   },
   "outputs": [],
   "source": [
    "from pandas_profiling import ProfileReport \n",
    "\n",
    "#rp = ProfileReport(data,explorative=True)\n",
    "\n",
    "#rp.to_file('my_report.html')"
   ]
  },
  {
   "cell_type": "code",
   "execution_count": 213,
   "id": "80cd9000",
   "metadata": {
    "ExecuteTime": {
     "end_time": "2022-12-12T05:32:11.713154Z",
     "start_time": "2022-12-12T05:32:11.704152Z"
    }
   },
   "outputs": [],
   "source": [
    "#rp.to_widgets()"
   ]
  },
  {
   "cell_type": "code",
   "execution_count": 214,
   "id": "317c737a",
   "metadata": {
    "ExecuteTime": {
     "end_time": "2022-12-12T05:32:11.743614Z",
     "start_time": "2022-12-12T05:32:11.722167Z"
    }
   },
   "outputs": [],
   "source": [
    "# Try DTale as well for AutoEDA"
   ]
  },
  {
   "cell_type": "code",
   "execution_count": 215,
   "id": "0a71d980",
   "metadata": {
    "ExecuteTime": {
     "end_time": "2022-12-12T05:32:11.838628Z",
     "start_time": "2022-12-12T05:32:11.745622Z"
    }
   },
   "outputs": [
    {
     "data": {
      "application/vnd.plotly.v1+json": {
       "config": {
        "plotlyServerURL": "https://plot.ly"
       },
       "data": [
        {
         "alignmentgroup": "True",
         "hovertemplate": "variable=%{x}<br>value=%{y}<extra></extra>",
         "legendgroup": "",
         "marker": {
          "color": "#636efa"
         },
         "name": "",
         "notched": false,
         "offsetgroup": "",
         "orientation": "v",
         "showlegend": false,
         "type": "box",
         "x": [
          "Fuel_efficiency",
          "Fuel_efficiency",
          "Fuel_efficiency",
          "Fuel_efficiency",
          "Fuel_efficiency",
          "Fuel_efficiency",
          "Fuel_efficiency",
          "Fuel_efficiency",
          "Fuel_efficiency",
          "Fuel_efficiency",
          "Fuel_efficiency",
          "Fuel_efficiency",
          "Fuel_efficiency",
          "Fuel_efficiency",
          "Fuel_efficiency",
          "Fuel_efficiency",
          "Fuel_efficiency",
          "Fuel_efficiency",
          "Fuel_efficiency",
          "Fuel_efficiency",
          "Fuel_efficiency",
          "Fuel_efficiency",
          "Fuel_efficiency",
          "Fuel_efficiency",
          "Fuel_efficiency",
          "Fuel_efficiency",
          "Fuel_efficiency",
          "Fuel_efficiency",
          "Fuel_efficiency",
          "Fuel_efficiency",
          "Fuel_efficiency",
          "Fuel_efficiency",
          "Fuel_efficiency",
          "Fuel_efficiency",
          "Fuel_efficiency",
          "Fuel_efficiency",
          "Fuel_efficiency",
          "Fuel_efficiency",
          "Fuel_efficiency",
          "Fuel_efficiency",
          "Fuel_efficiency",
          "Fuel_efficiency",
          "Fuel_efficiency",
          "Fuel_efficiency",
          "Fuel_efficiency",
          "Fuel_efficiency",
          "Fuel_efficiency",
          "Fuel_efficiency",
          "Fuel_efficiency",
          "Fuel_efficiency",
          "Fuel_efficiency",
          "Fuel_efficiency",
          "Fuel_efficiency",
          "Fuel_efficiency",
          "Fuel_efficiency",
          "Fuel_efficiency",
          "Fuel_efficiency",
          "Fuel_efficiency",
          "Fuel_efficiency",
          "Fuel_efficiency",
          "Fuel_efficiency",
          "Fuel_efficiency",
          "Fuel_efficiency",
          "Fuel_efficiency",
          "Fuel_efficiency",
          "Fuel_efficiency",
          "Fuel_efficiency",
          "Fuel_efficiency",
          "Fuel_efficiency",
          "Fuel_efficiency",
          "Fuel_efficiency",
          "Fuel_efficiency",
          "Fuel_efficiency",
          "Fuel_efficiency",
          "Fuel_efficiency",
          "Fuel_efficiency",
          "Fuel_efficiency",
          "Fuel_efficiency",
          "Fuel_efficiency",
          "Fuel_efficiency",
          "Fuel_efficiency",
          "Fuel_efficiency",
          "Fuel_efficiency",
          "Fuel_efficiency",
          "Fuel_efficiency",
          "Fuel_efficiency",
          "Fuel_efficiency",
          "Fuel_efficiency",
          "Fuel_efficiency",
          "Fuel_efficiency",
          "Fuel_efficiency",
          "Fuel_efficiency",
          "Fuel_efficiency",
          "Fuel_efficiency",
          "Fuel_efficiency",
          "Fuel_efficiency",
          "Fuel_efficiency",
          "Fuel_efficiency",
          "Fuel_efficiency",
          "Fuel_efficiency",
          "Fuel_efficiency",
          "Fuel_efficiency",
          "Fuel_efficiency",
          "Fuel_efficiency",
          "Fuel_efficiency",
          "Fuel_efficiency",
          "Fuel_efficiency",
          "Fuel_efficiency",
          "Fuel_efficiency",
          "Fuel_efficiency",
          "Fuel_efficiency",
          "Fuel_efficiency",
          "Fuel_efficiency",
          "Fuel_efficiency",
          "Fuel_efficiency",
          "Fuel_efficiency",
          "Fuel_efficiency",
          "Fuel_efficiency",
          "Fuel_efficiency",
          "Fuel_efficiency",
          "Fuel_efficiency",
          "Fuel_efficiency",
          "Fuel_efficiency",
          "Fuel_efficiency",
          "Fuel_efficiency",
          "Fuel_efficiency",
          "Fuel_efficiency",
          "Fuel_efficiency",
          "Fuel_efficiency",
          "Fuel_efficiency",
          "Fuel_efficiency",
          "Fuel_efficiency",
          "Fuel_efficiency",
          "Fuel_efficiency",
          "Fuel_efficiency",
          "Fuel_efficiency",
          "Fuel_efficiency",
          "Fuel_efficiency",
          "Fuel_efficiency",
          "Fuel_efficiency",
          "Fuel_efficiency",
          "Fuel_efficiency",
          "Fuel_efficiency",
          "Fuel_efficiency",
          "Fuel_efficiency",
          "Fuel_efficiency",
          "Fuel_efficiency",
          "Fuel_efficiency",
          "Fuel_efficiency",
          "Fuel_efficiency",
          "Fuel_efficiency",
          "Fuel_efficiency",
          "Fuel_efficiency",
          "Fuel_efficiency"
         ],
         "x0": " ",
         "xaxis": "x",
         "y": [
          28,
          25,
          26,
          22,
          27,
          22,
          21,
          26,
          24,
          25,
          25,
          23,
          24,
          25,
          22,
          22,
          22,
          22,
          15,
          27,
          25,
          25,
          27,
          25,
          22,
          33,
          45,
          27,
          24,
          24,
          26,
          27,
          23,
          23,
          29,
          24,
          24,
          16,
          17,
          15,
          16,
          19,
          17,
          24,
          30,
          24,
          25,
          24,
          30,
          21,
          19,
          21,
          16,
          23,
          18,
          32,
          27,
          24,
          19,
          23,
          31,
          27,
          25,
          25,
          21,
          17,
          20,
          19,
          23,
          23,
          21,
          22,
          15,
          21,
          22,
          21,
          15,
          30,
          24,
          25,
          22,
          21,
          18,
          20,
          28,
          30,
          24,
          21,
          18,
          21,
          26,
          25,
          21,
          20,
          26,
          27,
          26,
          20,
          20,
          30,
          25,
          25,
          21,
          19,
          18,
          18,
          25,
          27,
          22,
          19,
          22,
          29,
          27,
          24,
          21,
          27,
          25,
          25,
          25,
          24,
          23,
          22,
          21,
          23,
          23,
          23,
          33,
          33,
          31,
          27,
          28,
          25,
          24,
          33,
          27,
          26,
          31,
          23,
          22,
          27,
          23,
          15,
          26,
          26,
          27,
          26,
          26,
          26,
          25,
          25,
          25,
          25,
          23,
          24
         ],
         "y0": " ",
         "yaxis": "y"
        }
       ],
       "layout": {
        "boxmode": "group",
        "legend": {
         "tracegroupgap": 0
        },
        "margin": {
         "t": 60
        },
        "template": {
         "data": {
          "bar": [
           {
            "error_x": {
             "color": "#2a3f5f"
            },
            "error_y": {
             "color": "#2a3f5f"
            },
            "marker": {
             "line": {
              "color": "#E5ECF6",
              "width": 0.5
             },
             "pattern": {
              "fillmode": "overlay",
              "size": 10,
              "solidity": 0.2
             }
            },
            "type": "bar"
           }
          ],
          "barpolar": [
           {
            "marker": {
             "line": {
              "color": "#E5ECF6",
              "width": 0.5
             },
             "pattern": {
              "fillmode": "overlay",
              "size": 10,
              "solidity": 0.2
             }
            },
            "type": "barpolar"
           }
          ],
          "carpet": [
           {
            "aaxis": {
             "endlinecolor": "#2a3f5f",
             "gridcolor": "white",
             "linecolor": "white",
             "minorgridcolor": "white",
             "startlinecolor": "#2a3f5f"
            },
            "baxis": {
             "endlinecolor": "#2a3f5f",
             "gridcolor": "white",
             "linecolor": "white",
             "minorgridcolor": "white",
             "startlinecolor": "#2a3f5f"
            },
            "type": "carpet"
           }
          ],
          "choropleth": [
           {
            "colorbar": {
             "outlinewidth": 0,
             "ticks": ""
            },
            "type": "choropleth"
           }
          ],
          "contour": [
           {
            "colorbar": {
             "outlinewidth": 0,
             "ticks": ""
            },
            "colorscale": [
             [
              0,
              "#0d0887"
             ],
             [
              0.1111111111111111,
              "#46039f"
             ],
             [
              0.2222222222222222,
              "#7201a8"
             ],
             [
              0.3333333333333333,
              "#9c179e"
             ],
             [
              0.4444444444444444,
              "#bd3786"
             ],
             [
              0.5555555555555556,
              "#d8576b"
             ],
             [
              0.6666666666666666,
              "#ed7953"
             ],
             [
              0.7777777777777778,
              "#fb9f3a"
             ],
             [
              0.8888888888888888,
              "#fdca26"
             ],
             [
              1,
              "#f0f921"
             ]
            ],
            "type": "contour"
           }
          ],
          "contourcarpet": [
           {
            "colorbar": {
             "outlinewidth": 0,
             "ticks": ""
            },
            "type": "contourcarpet"
           }
          ],
          "heatmap": [
           {
            "colorbar": {
             "outlinewidth": 0,
             "ticks": ""
            },
            "colorscale": [
             [
              0,
              "#0d0887"
             ],
             [
              0.1111111111111111,
              "#46039f"
             ],
             [
              0.2222222222222222,
              "#7201a8"
             ],
             [
              0.3333333333333333,
              "#9c179e"
             ],
             [
              0.4444444444444444,
              "#bd3786"
             ],
             [
              0.5555555555555556,
              "#d8576b"
             ],
             [
              0.6666666666666666,
              "#ed7953"
             ],
             [
              0.7777777777777778,
              "#fb9f3a"
             ],
             [
              0.8888888888888888,
              "#fdca26"
             ],
             [
              1,
              "#f0f921"
             ]
            ],
            "type": "heatmap"
           }
          ],
          "heatmapgl": [
           {
            "colorbar": {
             "outlinewidth": 0,
             "ticks": ""
            },
            "colorscale": [
             [
              0,
              "#0d0887"
             ],
             [
              0.1111111111111111,
              "#46039f"
             ],
             [
              0.2222222222222222,
              "#7201a8"
             ],
             [
              0.3333333333333333,
              "#9c179e"
             ],
             [
              0.4444444444444444,
              "#bd3786"
             ],
             [
              0.5555555555555556,
              "#d8576b"
             ],
             [
              0.6666666666666666,
              "#ed7953"
             ],
             [
              0.7777777777777778,
              "#fb9f3a"
             ],
             [
              0.8888888888888888,
              "#fdca26"
             ],
             [
              1,
              "#f0f921"
             ]
            ],
            "type": "heatmapgl"
           }
          ],
          "histogram": [
           {
            "marker": {
             "pattern": {
              "fillmode": "overlay",
              "size": 10,
              "solidity": 0.2
             }
            },
            "type": "histogram"
           }
          ],
          "histogram2d": [
           {
            "colorbar": {
             "outlinewidth": 0,
             "ticks": ""
            },
            "colorscale": [
             [
              0,
              "#0d0887"
             ],
             [
              0.1111111111111111,
              "#46039f"
             ],
             [
              0.2222222222222222,
              "#7201a8"
             ],
             [
              0.3333333333333333,
              "#9c179e"
             ],
             [
              0.4444444444444444,
              "#bd3786"
             ],
             [
              0.5555555555555556,
              "#d8576b"
             ],
             [
              0.6666666666666666,
              "#ed7953"
             ],
             [
              0.7777777777777778,
              "#fb9f3a"
             ],
             [
              0.8888888888888888,
              "#fdca26"
             ],
             [
              1,
              "#f0f921"
             ]
            ],
            "type": "histogram2d"
           }
          ],
          "histogram2dcontour": [
           {
            "colorbar": {
             "outlinewidth": 0,
             "ticks": ""
            },
            "colorscale": [
             [
              0,
              "#0d0887"
             ],
             [
              0.1111111111111111,
              "#46039f"
             ],
             [
              0.2222222222222222,
              "#7201a8"
             ],
             [
              0.3333333333333333,
              "#9c179e"
             ],
             [
              0.4444444444444444,
              "#bd3786"
             ],
             [
              0.5555555555555556,
              "#d8576b"
             ],
             [
              0.6666666666666666,
              "#ed7953"
             ],
             [
              0.7777777777777778,
              "#fb9f3a"
             ],
             [
              0.8888888888888888,
              "#fdca26"
             ],
             [
              1,
              "#f0f921"
             ]
            ],
            "type": "histogram2dcontour"
           }
          ],
          "mesh3d": [
           {
            "colorbar": {
             "outlinewidth": 0,
             "ticks": ""
            },
            "type": "mesh3d"
           }
          ],
          "parcoords": [
           {
            "line": {
             "colorbar": {
              "outlinewidth": 0,
              "ticks": ""
             }
            },
            "type": "parcoords"
           }
          ],
          "pie": [
           {
            "automargin": true,
            "type": "pie"
           }
          ],
          "scatter": [
           {
            "marker": {
             "colorbar": {
              "outlinewidth": 0,
              "ticks": ""
             }
            },
            "type": "scatter"
           }
          ],
          "scatter3d": [
           {
            "line": {
             "colorbar": {
              "outlinewidth": 0,
              "ticks": ""
             }
            },
            "marker": {
             "colorbar": {
              "outlinewidth": 0,
              "ticks": ""
             }
            },
            "type": "scatter3d"
           }
          ],
          "scattercarpet": [
           {
            "marker": {
             "colorbar": {
              "outlinewidth": 0,
              "ticks": ""
             }
            },
            "type": "scattercarpet"
           }
          ],
          "scattergeo": [
           {
            "marker": {
             "colorbar": {
              "outlinewidth": 0,
              "ticks": ""
             }
            },
            "type": "scattergeo"
           }
          ],
          "scattergl": [
           {
            "marker": {
             "colorbar": {
              "outlinewidth": 0,
              "ticks": ""
             }
            },
            "type": "scattergl"
           }
          ],
          "scattermapbox": [
           {
            "marker": {
             "colorbar": {
              "outlinewidth": 0,
              "ticks": ""
             }
            },
            "type": "scattermapbox"
           }
          ],
          "scatterpolar": [
           {
            "marker": {
             "colorbar": {
              "outlinewidth": 0,
              "ticks": ""
             }
            },
            "type": "scatterpolar"
           }
          ],
          "scatterpolargl": [
           {
            "marker": {
             "colorbar": {
              "outlinewidth": 0,
              "ticks": ""
             }
            },
            "type": "scatterpolargl"
           }
          ],
          "scatterternary": [
           {
            "marker": {
             "colorbar": {
              "outlinewidth": 0,
              "ticks": ""
             }
            },
            "type": "scatterternary"
           }
          ],
          "surface": [
           {
            "colorbar": {
             "outlinewidth": 0,
             "ticks": ""
            },
            "colorscale": [
             [
              0,
              "#0d0887"
             ],
             [
              0.1111111111111111,
              "#46039f"
             ],
             [
              0.2222222222222222,
              "#7201a8"
             ],
             [
              0.3333333333333333,
              "#9c179e"
             ],
             [
              0.4444444444444444,
              "#bd3786"
             ],
             [
              0.5555555555555556,
              "#d8576b"
             ],
             [
              0.6666666666666666,
              "#ed7953"
             ],
             [
              0.7777777777777778,
              "#fb9f3a"
             ],
             [
              0.8888888888888888,
              "#fdca26"
             ],
             [
              1,
              "#f0f921"
             ]
            ],
            "type": "surface"
           }
          ],
          "table": [
           {
            "cells": {
             "fill": {
              "color": "#EBF0F8"
             },
             "line": {
              "color": "white"
             }
            },
            "header": {
             "fill": {
              "color": "#C8D4E3"
             },
             "line": {
              "color": "white"
             }
            },
            "type": "table"
           }
          ]
         },
         "layout": {
          "annotationdefaults": {
           "arrowcolor": "#2a3f5f",
           "arrowhead": 0,
           "arrowwidth": 1
          },
          "autotypenumbers": "strict",
          "coloraxis": {
           "colorbar": {
            "outlinewidth": 0,
            "ticks": ""
           }
          },
          "colorscale": {
           "diverging": [
            [
             0,
             "#8e0152"
            ],
            [
             0.1,
             "#c51b7d"
            ],
            [
             0.2,
             "#de77ae"
            ],
            [
             0.3,
             "#f1b6da"
            ],
            [
             0.4,
             "#fde0ef"
            ],
            [
             0.5,
             "#f7f7f7"
            ],
            [
             0.6,
             "#e6f5d0"
            ],
            [
             0.7,
             "#b8e186"
            ],
            [
             0.8,
             "#7fbc41"
            ],
            [
             0.9,
             "#4d9221"
            ],
            [
             1,
             "#276419"
            ]
           ],
           "sequential": [
            [
             0,
             "#0d0887"
            ],
            [
             0.1111111111111111,
             "#46039f"
            ],
            [
             0.2222222222222222,
             "#7201a8"
            ],
            [
             0.3333333333333333,
             "#9c179e"
            ],
            [
             0.4444444444444444,
             "#bd3786"
            ],
            [
             0.5555555555555556,
             "#d8576b"
            ],
            [
             0.6666666666666666,
             "#ed7953"
            ],
            [
             0.7777777777777778,
             "#fb9f3a"
            ],
            [
             0.8888888888888888,
             "#fdca26"
            ],
            [
             1,
             "#f0f921"
            ]
           ],
           "sequentialminus": [
            [
             0,
             "#0d0887"
            ],
            [
             0.1111111111111111,
             "#46039f"
            ],
            [
             0.2222222222222222,
             "#7201a8"
            ],
            [
             0.3333333333333333,
             "#9c179e"
            ],
            [
             0.4444444444444444,
             "#bd3786"
            ],
            [
             0.5555555555555556,
             "#d8576b"
            ],
            [
             0.6666666666666666,
             "#ed7953"
            ],
            [
             0.7777777777777778,
             "#fb9f3a"
            ],
            [
             0.8888888888888888,
             "#fdca26"
            ],
            [
             1,
             "#f0f921"
            ]
           ]
          },
          "colorway": [
           "#636efa",
           "#EF553B",
           "#00cc96",
           "#ab63fa",
           "#FFA15A",
           "#19d3f3",
           "#FF6692",
           "#B6E880",
           "#FF97FF",
           "#FECB52"
          ],
          "font": {
           "color": "#2a3f5f"
          },
          "geo": {
           "bgcolor": "white",
           "lakecolor": "white",
           "landcolor": "#E5ECF6",
           "showlakes": true,
           "showland": true,
           "subunitcolor": "white"
          },
          "hoverlabel": {
           "align": "left"
          },
          "hovermode": "closest",
          "mapbox": {
           "style": "light"
          },
          "paper_bgcolor": "white",
          "plot_bgcolor": "#E5ECF6",
          "polar": {
           "angularaxis": {
            "gridcolor": "white",
            "linecolor": "white",
            "ticks": ""
           },
           "bgcolor": "#E5ECF6",
           "radialaxis": {
            "gridcolor": "white",
            "linecolor": "white",
            "ticks": ""
           }
          },
          "scene": {
           "xaxis": {
            "backgroundcolor": "#E5ECF6",
            "gridcolor": "white",
            "gridwidth": 2,
            "linecolor": "white",
            "showbackground": true,
            "ticks": "",
            "zerolinecolor": "white"
           },
           "yaxis": {
            "backgroundcolor": "#E5ECF6",
            "gridcolor": "white",
            "gridwidth": 2,
            "linecolor": "white",
            "showbackground": true,
            "ticks": "",
            "zerolinecolor": "white"
           },
           "zaxis": {
            "backgroundcolor": "#E5ECF6",
            "gridcolor": "white",
            "gridwidth": 2,
            "linecolor": "white",
            "showbackground": true,
            "ticks": "",
            "zerolinecolor": "white"
           }
          },
          "shapedefaults": {
           "line": {
            "color": "#2a3f5f"
           }
          },
          "ternary": {
           "aaxis": {
            "gridcolor": "white",
            "linecolor": "white",
            "ticks": ""
           },
           "baxis": {
            "gridcolor": "white",
            "linecolor": "white",
            "ticks": ""
           },
           "bgcolor": "#E5ECF6",
           "caxis": {
            "gridcolor": "white",
            "linecolor": "white",
            "ticks": ""
           }
          },
          "title": {
           "x": 0.05
          },
          "xaxis": {
           "automargin": true,
           "gridcolor": "white",
           "linecolor": "white",
           "ticks": "",
           "title": {
            "standoff": 15
           },
           "zerolinecolor": "white",
           "zerolinewidth": 2
          },
          "yaxis": {
           "automargin": true,
           "gridcolor": "white",
           "linecolor": "white",
           "ticks": "",
           "title": {
            "standoff": 15
           },
           "zerolinecolor": "white",
           "zerolinewidth": 2
          }
         }
        },
        "xaxis": {
         "anchor": "y",
         "domain": [
          0,
          1
         ],
         "title": {
          "text": "variable"
         }
        },
        "yaxis": {
         "anchor": "x",
         "domain": [
          0,
          1
         ],
         "title": {
          "text": "value"
         }
        }
       }
      },
      "text/html": [
       "<div>                            <div id=\"99fb1574-f153-4e42-b435-b5f76744ced7\" class=\"plotly-graph-div\" style=\"height:525px; width:100%;\"></div>            <script type=\"text/javascript\">                require([\"plotly\"], function(Plotly) {                    window.PLOTLYENV=window.PLOTLYENV || {};                                    if (document.getElementById(\"99fb1574-f153-4e42-b435-b5f76744ced7\")) {                    Plotly.newPlot(                        \"99fb1574-f153-4e42-b435-b5f76744ced7\",                        [{\"alignmentgroup\":\"True\",\"hovertemplate\":\"variable=%{x}<br>value=%{y}<extra></extra>\",\"legendgroup\":\"\",\"marker\":{\"color\":\"#636efa\"},\"name\":\"\",\"notched\":false,\"offsetgroup\":\"\",\"orientation\":\"v\",\"showlegend\":false,\"x\":[\"Fuel_efficiency\",\"Fuel_efficiency\",\"Fuel_efficiency\",\"Fuel_efficiency\",\"Fuel_efficiency\",\"Fuel_efficiency\",\"Fuel_efficiency\",\"Fuel_efficiency\",\"Fuel_efficiency\",\"Fuel_efficiency\",\"Fuel_efficiency\",\"Fuel_efficiency\",\"Fuel_efficiency\",\"Fuel_efficiency\",\"Fuel_efficiency\",\"Fuel_efficiency\",\"Fuel_efficiency\",\"Fuel_efficiency\",\"Fuel_efficiency\",\"Fuel_efficiency\",\"Fuel_efficiency\",\"Fuel_efficiency\",\"Fuel_efficiency\",\"Fuel_efficiency\",\"Fuel_efficiency\",\"Fuel_efficiency\",\"Fuel_efficiency\",\"Fuel_efficiency\",\"Fuel_efficiency\",\"Fuel_efficiency\",\"Fuel_efficiency\",\"Fuel_efficiency\",\"Fuel_efficiency\",\"Fuel_efficiency\",\"Fuel_efficiency\",\"Fuel_efficiency\",\"Fuel_efficiency\",\"Fuel_efficiency\",\"Fuel_efficiency\",\"Fuel_efficiency\",\"Fuel_efficiency\",\"Fuel_efficiency\",\"Fuel_efficiency\",\"Fuel_efficiency\",\"Fuel_efficiency\",\"Fuel_efficiency\",\"Fuel_efficiency\",\"Fuel_efficiency\",\"Fuel_efficiency\",\"Fuel_efficiency\",\"Fuel_efficiency\",\"Fuel_efficiency\",\"Fuel_efficiency\",\"Fuel_efficiency\",\"Fuel_efficiency\",\"Fuel_efficiency\",\"Fuel_efficiency\",\"Fuel_efficiency\",\"Fuel_efficiency\",\"Fuel_efficiency\",\"Fuel_efficiency\",\"Fuel_efficiency\",\"Fuel_efficiency\",\"Fuel_efficiency\",\"Fuel_efficiency\",\"Fuel_efficiency\",\"Fuel_efficiency\",\"Fuel_efficiency\",\"Fuel_efficiency\",\"Fuel_efficiency\",\"Fuel_efficiency\",\"Fuel_efficiency\",\"Fuel_efficiency\",\"Fuel_efficiency\",\"Fuel_efficiency\",\"Fuel_efficiency\",\"Fuel_efficiency\",\"Fuel_efficiency\",\"Fuel_efficiency\",\"Fuel_efficiency\",\"Fuel_efficiency\",\"Fuel_efficiency\",\"Fuel_efficiency\",\"Fuel_efficiency\",\"Fuel_efficiency\",\"Fuel_efficiency\",\"Fuel_efficiency\",\"Fuel_efficiency\",\"Fuel_efficiency\",\"Fuel_efficiency\",\"Fuel_efficiency\",\"Fuel_efficiency\",\"Fuel_efficiency\",\"Fuel_efficiency\",\"Fuel_efficiency\",\"Fuel_efficiency\",\"Fuel_efficiency\",\"Fuel_efficiency\",\"Fuel_efficiency\",\"Fuel_efficiency\",\"Fuel_efficiency\",\"Fuel_efficiency\",\"Fuel_efficiency\",\"Fuel_efficiency\",\"Fuel_efficiency\",\"Fuel_efficiency\",\"Fuel_efficiency\",\"Fuel_efficiency\",\"Fuel_efficiency\",\"Fuel_efficiency\",\"Fuel_efficiency\",\"Fuel_efficiency\",\"Fuel_efficiency\",\"Fuel_efficiency\",\"Fuel_efficiency\",\"Fuel_efficiency\",\"Fuel_efficiency\",\"Fuel_efficiency\",\"Fuel_efficiency\",\"Fuel_efficiency\",\"Fuel_efficiency\",\"Fuel_efficiency\",\"Fuel_efficiency\",\"Fuel_efficiency\",\"Fuel_efficiency\",\"Fuel_efficiency\",\"Fuel_efficiency\",\"Fuel_efficiency\",\"Fuel_efficiency\",\"Fuel_efficiency\",\"Fuel_efficiency\",\"Fuel_efficiency\",\"Fuel_efficiency\",\"Fuel_efficiency\",\"Fuel_efficiency\",\"Fuel_efficiency\",\"Fuel_efficiency\",\"Fuel_efficiency\",\"Fuel_efficiency\",\"Fuel_efficiency\",\"Fuel_efficiency\",\"Fuel_efficiency\",\"Fuel_efficiency\",\"Fuel_efficiency\",\"Fuel_efficiency\",\"Fuel_efficiency\",\"Fuel_efficiency\",\"Fuel_efficiency\",\"Fuel_efficiency\",\"Fuel_efficiency\",\"Fuel_efficiency\",\"Fuel_efficiency\",\"Fuel_efficiency\",\"Fuel_efficiency\"],\"x0\":\" \",\"xaxis\":\"x\",\"y\":[28,25,26,22,27,22,21,26,24,25,25,23,24,25,22,22,22,22,15,27,25,25,27,25,22,33,45,27,24,24,26,27,23,23,29,24,24,16,17,15,16,19,17,24,30,24,25,24,30,21,19,21,16,23,18,32,27,24,19,23,31,27,25,25,21,17,20,19,23,23,21,22,15,21,22,21,15,30,24,25,22,21,18,20,28,30,24,21,18,21,26,25,21,20,26,27,26,20,20,30,25,25,21,19,18,18,25,27,22,19,22,29,27,24,21,27,25,25,25,24,23,22,21,23,23,23,33,33,31,27,28,25,24,33,27,26,31,23,22,27,23,15,26,26,27,26,26,26,25,25,25,25,23,24],\"y0\":\" \",\"yaxis\":\"y\",\"type\":\"box\"}],                        {\"template\":{\"data\":{\"bar\":[{\"error_x\":{\"color\":\"#2a3f5f\"},\"error_y\":{\"color\":\"#2a3f5f\"},\"marker\":{\"line\":{\"color\":\"#E5ECF6\",\"width\":0.5},\"pattern\":{\"fillmode\":\"overlay\",\"size\":10,\"solidity\":0.2}},\"type\":\"bar\"}],\"barpolar\":[{\"marker\":{\"line\":{\"color\":\"#E5ECF6\",\"width\":0.5},\"pattern\":{\"fillmode\":\"overlay\",\"size\":10,\"solidity\":0.2}},\"type\":\"barpolar\"}],\"carpet\":[{\"aaxis\":{\"endlinecolor\":\"#2a3f5f\",\"gridcolor\":\"white\",\"linecolor\":\"white\",\"minorgridcolor\":\"white\",\"startlinecolor\":\"#2a3f5f\"},\"baxis\":{\"endlinecolor\":\"#2a3f5f\",\"gridcolor\":\"white\",\"linecolor\":\"white\",\"minorgridcolor\":\"white\",\"startlinecolor\":\"#2a3f5f\"},\"type\":\"carpet\"}],\"choropleth\":[{\"colorbar\":{\"outlinewidth\":0,\"ticks\":\"\"},\"type\":\"choropleth\"}],\"contour\":[{\"colorbar\":{\"outlinewidth\":0,\"ticks\":\"\"},\"colorscale\":[[0.0,\"#0d0887\"],[0.1111111111111111,\"#46039f\"],[0.2222222222222222,\"#7201a8\"],[0.3333333333333333,\"#9c179e\"],[0.4444444444444444,\"#bd3786\"],[0.5555555555555556,\"#d8576b\"],[0.6666666666666666,\"#ed7953\"],[0.7777777777777778,\"#fb9f3a\"],[0.8888888888888888,\"#fdca26\"],[1.0,\"#f0f921\"]],\"type\":\"contour\"}],\"contourcarpet\":[{\"colorbar\":{\"outlinewidth\":0,\"ticks\":\"\"},\"type\":\"contourcarpet\"}],\"heatmap\":[{\"colorbar\":{\"outlinewidth\":0,\"ticks\":\"\"},\"colorscale\":[[0.0,\"#0d0887\"],[0.1111111111111111,\"#46039f\"],[0.2222222222222222,\"#7201a8\"],[0.3333333333333333,\"#9c179e\"],[0.4444444444444444,\"#bd3786\"],[0.5555555555555556,\"#d8576b\"],[0.6666666666666666,\"#ed7953\"],[0.7777777777777778,\"#fb9f3a\"],[0.8888888888888888,\"#fdca26\"],[1.0,\"#f0f921\"]],\"type\":\"heatmap\"}],\"heatmapgl\":[{\"colorbar\":{\"outlinewidth\":0,\"ticks\":\"\"},\"colorscale\":[[0.0,\"#0d0887\"],[0.1111111111111111,\"#46039f\"],[0.2222222222222222,\"#7201a8\"],[0.3333333333333333,\"#9c179e\"],[0.4444444444444444,\"#bd3786\"],[0.5555555555555556,\"#d8576b\"],[0.6666666666666666,\"#ed7953\"],[0.7777777777777778,\"#fb9f3a\"],[0.8888888888888888,\"#fdca26\"],[1.0,\"#f0f921\"]],\"type\":\"heatmapgl\"}],\"histogram\":[{\"marker\":{\"pattern\":{\"fillmode\":\"overlay\",\"size\":10,\"solidity\":0.2}},\"type\":\"histogram\"}],\"histogram2d\":[{\"colorbar\":{\"outlinewidth\":0,\"ticks\":\"\"},\"colorscale\":[[0.0,\"#0d0887\"],[0.1111111111111111,\"#46039f\"],[0.2222222222222222,\"#7201a8\"],[0.3333333333333333,\"#9c179e\"],[0.4444444444444444,\"#bd3786\"],[0.5555555555555556,\"#d8576b\"],[0.6666666666666666,\"#ed7953\"],[0.7777777777777778,\"#fb9f3a\"],[0.8888888888888888,\"#fdca26\"],[1.0,\"#f0f921\"]],\"type\":\"histogram2d\"}],\"histogram2dcontour\":[{\"colorbar\":{\"outlinewidth\":0,\"ticks\":\"\"},\"colorscale\":[[0.0,\"#0d0887\"],[0.1111111111111111,\"#46039f\"],[0.2222222222222222,\"#7201a8\"],[0.3333333333333333,\"#9c179e\"],[0.4444444444444444,\"#bd3786\"],[0.5555555555555556,\"#d8576b\"],[0.6666666666666666,\"#ed7953\"],[0.7777777777777778,\"#fb9f3a\"],[0.8888888888888888,\"#fdca26\"],[1.0,\"#f0f921\"]],\"type\":\"histogram2dcontour\"}],\"mesh3d\":[{\"colorbar\":{\"outlinewidth\":0,\"ticks\":\"\"},\"type\":\"mesh3d\"}],\"parcoords\":[{\"line\":{\"colorbar\":{\"outlinewidth\":0,\"ticks\":\"\"}},\"type\":\"parcoords\"}],\"pie\":[{\"automargin\":true,\"type\":\"pie\"}],\"scatter\":[{\"marker\":{\"colorbar\":{\"outlinewidth\":0,\"ticks\":\"\"}},\"type\":\"scatter\"}],\"scatter3d\":[{\"line\":{\"colorbar\":{\"outlinewidth\":0,\"ticks\":\"\"}},\"marker\":{\"colorbar\":{\"outlinewidth\":0,\"ticks\":\"\"}},\"type\":\"scatter3d\"}],\"scattercarpet\":[{\"marker\":{\"colorbar\":{\"outlinewidth\":0,\"ticks\":\"\"}},\"type\":\"scattercarpet\"}],\"scattergeo\":[{\"marker\":{\"colorbar\":{\"outlinewidth\":0,\"ticks\":\"\"}},\"type\":\"scattergeo\"}],\"scattergl\":[{\"marker\":{\"colorbar\":{\"outlinewidth\":0,\"ticks\":\"\"}},\"type\":\"scattergl\"}],\"scattermapbox\":[{\"marker\":{\"colorbar\":{\"outlinewidth\":0,\"ticks\":\"\"}},\"type\":\"scattermapbox\"}],\"scatterpolar\":[{\"marker\":{\"colorbar\":{\"outlinewidth\":0,\"ticks\":\"\"}},\"type\":\"scatterpolar\"}],\"scatterpolargl\":[{\"marker\":{\"colorbar\":{\"outlinewidth\":0,\"ticks\":\"\"}},\"type\":\"scatterpolargl\"}],\"scatterternary\":[{\"marker\":{\"colorbar\":{\"outlinewidth\":0,\"ticks\":\"\"}},\"type\":\"scatterternary\"}],\"surface\":[{\"colorbar\":{\"outlinewidth\":0,\"ticks\":\"\"},\"colorscale\":[[0.0,\"#0d0887\"],[0.1111111111111111,\"#46039f\"],[0.2222222222222222,\"#7201a8\"],[0.3333333333333333,\"#9c179e\"],[0.4444444444444444,\"#bd3786\"],[0.5555555555555556,\"#d8576b\"],[0.6666666666666666,\"#ed7953\"],[0.7777777777777778,\"#fb9f3a\"],[0.8888888888888888,\"#fdca26\"],[1.0,\"#f0f921\"]],\"type\":\"surface\"}],\"table\":[{\"cells\":{\"fill\":{\"color\":\"#EBF0F8\"},\"line\":{\"color\":\"white\"}},\"header\":{\"fill\":{\"color\":\"#C8D4E3\"},\"line\":{\"color\":\"white\"}},\"type\":\"table\"}]},\"layout\":{\"annotationdefaults\":{\"arrowcolor\":\"#2a3f5f\",\"arrowhead\":0,\"arrowwidth\":1},\"autotypenumbers\":\"strict\",\"coloraxis\":{\"colorbar\":{\"outlinewidth\":0,\"ticks\":\"\"}},\"colorscale\":{\"diverging\":[[0,\"#8e0152\"],[0.1,\"#c51b7d\"],[0.2,\"#de77ae\"],[0.3,\"#f1b6da\"],[0.4,\"#fde0ef\"],[0.5,\"#f7f7f7\"],[0.6,\"#e6f5d0\"],[0.7,\"#b8e186\"],[0.8,\"#7fbc41\"],[0.9,\"#4d9221\"],[1,\"#276419\"]],\"sequential\":[[0.0,\"#0d0887\"],[0.1111111111111111,\"#46039f\"],[0.2222222222222222,\"#7201a8\"],[0.3333333333333333,\"#9c179e\"],[0.4444444444444444,\"#bd3786\"],[0.5555555555555556,\"#d8576b\"],[0.6666666666666666,\"#ed7953\"],[0.7777777777777778,\"#fb9f3a\"],[0.8888888888888888,\"#fdca26\"],[1.0,\"#f0f921\"]],\"sequentialminus\":[[0.0,\"#0d0887\"],[0.1111111111111111,\"#46039f\"],[0.2222222222222222,\"#7201a8\"],[0.3333333333333333,\"#9c179e\"],[0.4444444444444444,\"#bd3786\"],[0.5555555555555556,\"#d8576b\"],[0.6666666666666666,\"#ed7953\"],[0.7777777777777778,\"#fb9f3a\"],[0.8888888888888888,\"#fdca26\"],[1.0,\"#f0f921\"]]},\"colorway\":[\"#636efa\",\"#EF553B\",\"#00cc96\",\"#ab63fa\",\"#FFA15A\",\"#19d3f3\",\"#FF6692\",\"#B6E880\",\"#FF97FF\",\"#FECB52\"],\"font\":{\"color\":\"#2a3f5f\"},\"geo\":{\"bgcolor\":\"white\",\"lakecolor\":\"white\",\"landcolor\":\"#E5ECF6\",\"showlakes\":true,\"showland\":true,\"subunitcolor\":\"white\"},\"hoverlabel\":{\"align\":\"left\"},\"hovermode\":\"closest\",\"mapbox\":{\"style\":\"light\"},\"paper_bgcolor\":\"white\",\"plot_bgcolor\":\"#E5ECF6\",\"polar\":{\"angularaxis\":{\"gridcolor\":\"white\",\"linecolor\":\"white\",\"ticks\":\"\"},\"bgcolor\":\"#E5ECF6\",\"radialaxis\":{\"gridcolor\":\"white\",\"linecolor\":\"white\",\"ticks\":\"\"}},\"scene\":{\"xaxis\":{\"backgroundcolor\":\"#E5ECF6\",\"gridcolor\":\"white\",\"gridwidth\":2,\"linecolor\":\"white\",\"showbackground\":true,\"ticks\":\"\",\"zerolinecolor\":\"white\"},\"yaxis\":{\"backgroundcolor\":\"#E5ECF6\",\"gridcolor\":\"white\",\"gridwidth\":2,\"linecolor\":\"white\",\"showbackground\":true,\"ticks\":\"\",\"zerolinecolor\":\"white\"},\"zaxis\":{\"backgroundcolor\":\"#E5ECF6\",\"gridcolor\":\"white\",\"gridwidth\":2,\"linecolor\":\"white\",\"showbackground\":true,\"ticks\":\"\",\"zerolinecolor\":\"white\"}},\"shapedefaults\":{\"line\":{\"color\":\"#2a3f5f\"}},\"ternary\":{\"aaxis\":{\"gridcolor\":\"white\",\"linecolor\":\"white\",\"ticks\":\"\"},\"baxis\":{\"gridcolor\":\"white\",\"linecolor\":\"white\",\"ticks\":\"\"},\"bgcolor\":\"#E5ECF6\",\"caxis\":{\"gridcolor\":\"white\",\"linecolor\":\"white\",\"ticks\":\"\"}},\"title\":{\"x\":0.05},\"xaxis\":{\"automargin\":true,\"gridcolor\":\"white\",\"linecolor\":\"white\",\"ticks\":\"\",\"title\":{\"standoff\":15},\"zerolinecolor\":\"white\",\"zerolinewidth\":2},\"yaxis\":{\"automargin\":true,\"gridcolor\":\"white\",\"linecolor\":\"white\",\"ticks\":\"\",\"title\":{\"standoff\":15},\"zerolinecolor\":\"white\",\"zerolinewidth\":2}}},\"xaxis\":{\"anchor\":\"y\",\"domain\":[0.0,1.0],\"title\":{\"text\":\"variable\"}},\"yaxis\":{\"anchor\":\"x\",\"domain\":[0.0,1.0],\"title\":{\"text\":\"value\"}},\"legend\":{\"tracegroupgap\":0},\"margin\":{\"t\":60},\"boxmode\":\"group\"},                        {\"responsive\": true}                    ).then(function(){\n",
       "                            \n",
       "var gd = document.getElementById('99fb1574-f153-4e42-b435-b5f76744ced7');\n",
       "var x = new MutationObserver(function (mutations, observer) {{\n",
       "        var display = window.getComputedStyle(gd).display;\n",
       "        if (!display || display === 'none') {{\n",
       "            console.log([gd, 'removed!']);\n",
       "            Plotly.purge(gd);\n",
       "            observer.disconnect();\n",
       "        }}\n",
       "}});\n",
       "\n",
       "// Listen for the removal of the full notebook cells\n",
       "var notebookContainer = gd.closest('#notebook-container');\n",
       "if (notebookContainer) {{\n",
       "    x.observe(notebookContainer, {childList: true});\n",
       "}}\n",
       "\n",
       "// Listen for the clearing of the current output cell\n",
       "var outputEl = gd.closest('.output');\n",
       "if (outputEl) {{\n",
       "    x.observe(outputEl, {childList: true});\n",
       "}}\n",
       "\n",
       "                        })                };                });            </script>        </div>"
      ]
     },
     "metadata": {},
     "output_type": "display_data"
    }
   ],
   "source": [
    "data.Fuel_efficiency.dropna().plot(kind='box',backend='plotly')"
   ]
  },
  {
   "cell_type": "markdown",
   "id": "3d4e7797",
   "metadata": {},
   "source": [
    "### Data Preparation \n",
    "\n",
    " The objective of this stage is to prepare our data to feed it to the model"
   ]
  },
  {
   "cell_type": "code",
   "execution_count": 216,
   "id": "8faa70ab",
   "metadata": {
    "ExecuteTime": {
     "end_time": "2022-12-12T05:32:11.870624Z",
     "start_time": "2022-12-12T05:32:11.843645Z"
    }
   },
   "outputs": [
    {
     "name": "stdout",
     "output_type": "stream",
     "text": [
      "(124, 13)\n",
      "(32, 13)\n"
     ]
    }
   ],
   "source": [
    "x_train,x_test ,y_train,y_test = train_test_split(data[features_col],data[target_col],test_size=0.2,random_state=12345)\n",
    "\n",
    "copy_of_raw_xtrain = x_train.copy()\n",
    "print(x_train.shape)\n",
    "print(x_test.shape)\n"
   ]
  },
  {
   "cell_type": "code",
   "execution_count": 217,
   "id": "c672783c",
   "metadata": {
    "ExecuteTime": {
     "end_time": "2022-12-12T05:32:11.902625Z",
     "start_time": "2022-12-12T05:32:11.873618Z"
    }
   },
   "outputs": [
    {
     "name": "stdout",
     "output_type": "stream",
     "text": [
      "<class 'pandas.core.frame.DataFrame'>\n",
      "Int64Index: 124 entries, 96 to 29\n",
      "Data columns (total 13 columns):\n",
      " #   Column              Non-Null Count  Dtype         \n",
      "---  ------              --------------  -----         \n",
      " 0   Curb_weight         123 non-null    Float64       \n",
      " 1   Engine_size         124 non-null    Float64       \n",
      " 2   Fuel_capacity       124 non-null    Float64       \n",
      " 3   Fuel_efficiency     122 non-null    Int64         \n",
      " 4   Horsepower          124 non-null    Int64         \n",
      " 5   Latest_Launch       124 non-null    datetime64[ns]\n",
      " 6   Length              124 non-null    Float64       \n",
      " 7   Manufacturer        124 non-null    string        \n",
      " 8   Power_perf_factor   124 non-null    Float64       \n",
      " 9   Price_in_thousands  124 non-null    Float64       \n",
      " 10  Vehicle_type        124 non-null    string        \n",
      " 11  Wheelbase           124 non-null    Float64       \n",
      " 12  Width               124 non-null    Float64       \n",
      "dtypes: Float64(8), Int64(2), datetime64[ns](1), string(2)\n",
      "memory usage: 14.8 KB\n"
     ]
    }
   ],
   "source": [
    "x_train.info()\n"
   ]
  },
  {
   "cell_type": "code",
   "execution_count": 218,
   "id": "8227c6f5",
   "metadata": {
    "ExecuteTime": {
     "end_time": "2022-12-12T05:32:11.966619Z",
     "start_time": "2022-12-12T05:32:11.905616Z"
    }
   },
   "outputs": [
    {
     "data": {
      "text/html": [
       "<div>\n",
       "<style scoped>\n",
       "    .dataframe tbody tr th:only-of-type {\n",
       "        vertical-align: middle;\n",
       "    }\n",
       "\n",
       "    .dataframe tbody tr th {\n",
       "        vertical-align: top;\n",
       "    }\n",
       "\n",
       "    .dataframe thead th {\n",
       "        text-align: right;\n",
       "    }\n",
       "</style>\n",
       "<table border=\"1\" class=\"dataframe\">\n",
       "  <thead>\n",
       "    <tr style=\"text-align: right;\">\n",
       "      <th></th>\n",
       "      <th>Curb_weight</th>\n",
       "      <th>Engine_size</th>\n",
       "      <th>Fuel_capacity</th>\n",
       "      <th>Fuel_efficiency</th>\n",
       "      <th>Horsepower</th>\n",
       "      <th>Length</th>\n",
       "      <th>Power_perf_factor</th>\n",
       "      <th>Price_in_thousands</th>\n",
       "      <th>Wheelbase</th>\n",
       "      <th>Width</th>\n",
       "    </tr>\n",
       "  </thead>\n",
       "  <tbody>\n",
       "    <tr>\n",
       "      <th>count</th>\n",
       "      <td>123.000000</td>\n",
       "      <td>124.000000</td>\n",
       "      <td>124.000000</td>\n",
       "      <td>122.000000</td>\n",
       "      <td>124.000000</td>\n",
       "      <td>124.000000</td>\n",
       "      <td>124.000000</td>\n",
       "      <td>124.000000</td>\n",
       "      <td>124.000000</td>\n",
       "      <td>124.000000</td>\n",
       "    </tr>\n",
       "    <tr>\n",
       "      <th>mean</th>\n",
       "      <td>3.396236</td>\n",
       "      <td>3.093548</td>\n",
       "      <td>18.087903</td>\n",
       "      <td>23.663934</td>\n",
       "      <td>185.612903</td>\n",
       "      <td>186.798387</td>\n",
       "      <td>77.056845</td>\n",
       "      <td>27.479355</td>\n",
       "      <td>107.238710</td>\n",
       "      <td>71.288710</td>\n",
       "    </tr>\n",
       "    <tr>\n",
       "      <th>std</th>\n",
       "      <td>0.656506</td>\n",
       "      <td>1.062498</td>\n",
       "      <td>4.025520</td>\n",
       "      <td>4.486178</td>\n",
       "      <td>55.365557</td>\n",
       "      <td>13.800736</td>\n",
       "      <td>24.607375</td>\n",
       "      <td>14.223204</td>\n",
       "      <td>7.463273</td>\n",
       "      <td>3.580735</td>\n",
       "    </tr>\n",
       "    <tr>\n",
       "      <th>min</th>\n",
       "      <td>1.895000</td>\n",
       "      <td>1.000000</td>\n",
       "      <td>10.300000</td>\n",
       "      <td>15.000000</td>\n",
       "      <td>55.000000</td>\n",
       "      <td>149.400000</td>\n",
       "      <td>23.276272</td>\n",
       "      <td>9.235000</td>\n",
       "      <td>92.600000</td>\n",
       "      <td>62.600000</td>\n",
       "    </tr>\n",
       "    <tr>\n",
       "      <th>10%</th>\n",
       "      <td>2.599600</td>\n",
       "      <td>1.930000</td>\n",
       "      <td>13.200000</td>\n",
       "      <td>18.000000</td>\n",
       "      <td>120.000000</td>\n",
       "      <td>171.390000</td>\n",
       "      <td>48.410215</td>\n",
       "      <td>14.077900</td>\n",
       "      <td>97.560000</td>\n",
       "      <td>66.900000</td>\n",
       "    </tr>\n",
       "    <tr>\n",
       "      <th>20%</th>\n",
       "      <td>2.919400</td>\n",
       "      <td>2.000000</td>\n",
       "      <td>15.200000</td>\n",
       "      <td>21.000000</td>\n",
       "      <td>140.000000</td>\n",
       "      <td>175.040000</td>\n",
       "      <td>57.566502</td>\n",
       "      <td>17.169400</td>\n",
       "      <td>100.980000</td>\n",
       "      <td>67.860000</td>\n",
       "    </tr>\n",
       "    <tr>\n",
       "      <th>30%</th>\n",
       "      <td>3.044200</td>\n",
       "      <td>2.400000</td>\n",
       "      <td>16.000000</td>\n",
       "      <td>21.300000</td>\n",
       "      <td>152.700000</td>\n",
       "      <td>178.180000</td>\n",
       "      <td>62.344016</td>\n",
       "      <td>19.355700</td>\n",
       "      <td>103.190000</td>\n",
       "      <td>68.900000</td>\n",
       "    </tr>\n",
       "    <tr>\n",
       "      <th>40%</th>\n",
       "      <td>3.191000</td>\n",
       "      <td>2.700000</td>\n",
       "      <td>16.920000</td>\n",
       "      <td>23.000000</td>\n",
       "      <td>170.000000</td>\n",
       "      <td>183.220000</td>\n",
       "      <td>69.824635</td>\n",
       "      <td>21.570000</td>\n",
       "      <td>105.920000</td>\n",
       "      <td>70.100000</td>\n",
       "    </tr>\n",
       "    <tr>\n",
       "      <th>50%</th>\n",
       "      <td>3.340000</td>\n",
       "      <td>3.000000</td>\n",
       "      <td>17.350000</td>\n",
       "      <td>24.000000</td>\n",
       "      <td>180.000000</td>\n",
       "      <td>186.450000</td>\n",
       "      <td>72.897067</td>\n",
       "      <td>23.099500</td>\n",
       "      <td>107.050000</td>\n",
       "      <td>70.750000</td>\n",
       "    </tr>\n",
       "    <tr>\n",
       "      <th>60%</th>\n",
       "      <td>3.489600</td>\n",
       "      <td>3.300000</td>\n",
       "      <td>18.500000</td>\n",
       "      <td>25.000000</td>\n",
       "      <td>194.800000</td>\n",
       "      <td>191.780000</td>\n",
       "      <td>80.628492</td>\n",
       "      <td>26.007000</td>\n",
       "      <td>108.460000</td>\n",
       "      <td>72.080000</td>\n",
       "    </tr>\n",
       "    <tr>\n",
       "      <th>70%</th>\n",
       "      <td>3.620000</td>\n",
       "      <td>3.500000</td>\n",
       "      <td>19.000000</td>\n",
       "      <td>25.000000</td>\n",
       "      <td>205.000000</td>\n",
       "      <td>193.740000</td>\n",
       "      <td>84.591672</td>\n",
       "      <td>29.315600</td>\n",
       "      <td>111.600000</td>\n",
       "      <td>73.100000</td>\n",
       "    </tr>\n",
       "    <tr>\n",
       "      <th>80%</th>\n",
       "      <td>3.896000</td>\n",
       "      <td>3.900000</td>\n",
       "      <td>20.000000</td>\n",
       "      <td>27.000000</td>\n",
       "      <td>218.200000</td>\n",
       "      <td>198.800000</td>\n",
       "      <td>92.141037</td>\n",
       "      <td>36.054000</td>\n",
       "      <td>113.000000</td>\n",
       "      <td>74.400000</td>\n",
       "    </tr>\n",
       "    <tr>\n",
       "      <th>90%</th>\n",
       "      <td>4.119800</td>\n",
       "      <td>4.600000</td>\n",
       "      <td>23.550000</td>\n",
       "      <td>28.900000</td>\n",
       "      <td>253.000000</td>\n",
       "      <td>204.330000</td>\n",
       "      <td>106.617257</td>\n",
       "      <td>42.940000</td>\n",
       "      <td>115.120000</td>\n",
       "      <td>76.400000</td>\n",
       "    </tr>\n",
       "    <tr>\n",
       "      <th>max</th>\n",
       "      <td>5.572000</td>\n",
       "      <td>8.000000</td>\n",
       "      <td>32.000000</td>\n",
       "      <td>45.000000</td>\n",
       "      <td>450.000000</td>\n",
       "      <td>224.200000</td>\n",
       "      <td>188.144323</td>\n",
       "      <td>85.500000</td>\n",
       "      <td>138.700000</td>\n",
       "      <td>79.900000</td>\n",
       "    </tr>\n",
       "  </tbody>\n",
       "</table>\n",
       "</div>"
      ],
      "text/plain": [
       "       Curb_weight  Engine_size  Fuel_capacity  Fuel_efficiency  Horsepower  \\\n",
       "count   123.000000   124.000000     124.000000       122.000000  124.000000   \n",
       "mean      3.396236     3.093548      18.087903        23.663934  185.612903   \n",
       "std       0.656506     1.062498       4.025520         4.486178   55.365557   \n",
       "min       1.895000     1.000000      10.300000        15.000000   55.000000   \n",
       "10%       2.599600     1.930000      13.200000        18.000000  120.000000   \n",
       "20%       2.919400     2.000000      15.200000        21.000000  140.000000   \n",
       "30%       3.044200     2.400000      16.000000        21.300000  152.700000   \n",
       "40%       3.191000     2.700000      16.920000        23.000000  170.000000   \n",
       "50%       3.340000     3.000000      17.350000        24.000000  180.000000   \n",
       "60%       3.489600     3.300000      18.500000        25.000000  194.800000   \n",
       "70%       3.620000     3.500000      19.000000        25.000000  205.000000   \n",
       "80%       3.896000     3.900000      20.000000        27.000000  218.200000   \n",
       "90%       4.119800     4.600000      23.550000        28.900000  253.000000   \n",
       "max       5.572000     8.000000      32.000000        45.000000  450.000000   \n",
       "\n",
       "           Length  Power_perf_factor  Price_in_thousands   Wheelbase  \\\n",
       "count  124.000000         124.000000          124.000000  124.000000   \n",
       "mean   186.798387          77.056845           27.479355  107.238710   \n",
       "std     13.800736          24.607375           14.223204    7.463273   \n",
       "min    149.400000          23.276272            9.235000   92.600000   \n",
       "10%    171.390000          48.410215           14.077900   97.560000   \n",
       "20%    175.040000          57.566502           17.169400  100.980000   \n",
       "30%    178.180000          62.344016           19.355700  103.190000   \n",
       "40%    183.220000          69.824635           21.570000  105.920000   \n",
       "50%    186.450000          72.897067           23.099500  107.050000   \n",
       "60%    191.780000          80.628492           26.007000  108.460000   \n",
       "70%    193.740000          84.591672           29.315600  111.600000   \n",
       "80%    198.800000          92.141037           36.054000  113.000000   \n",
       "90%    204.330000         106.617257           42.940000  115.120000   \n",
       "max    224.200000         188.144323           85.500000  138.700000   \n",
       "\n",
       "            Width  \n",
       "count  124.000000  \n",
       "mean    71.288710  \n",
       "std      3.580735  \n",
       "min     62.600000  \n",
       "10%     66.900000  \n",
       "20%     67.860000  \n",
       "30%     68.900000  \n",
       "40%     70.100000  \n",
       "50%     70.750000  \n",
       "60%     72.080000  \n",
       "70%     73.100000  \n",
       "80%     74.400000  \n",
       "90%     76.400000  \n",
       "max     79.900000  "
      ]
     },
     "execution_count": 218,
     "metadata": {},
     "output_type": "execute_result"
    }
   ],
   "source": [
    "x_train.select_dtypes(np.number).describe(percentiles=[0.1,0.2,0.3,0.4,0.5,0.6,0.7,0.8,0.9])"
   ]
  },
  {
   "cell_type": "code",
   "execution_count": 219,
   "id": "d26446b2",
   "metadata": {
    "ExecuteTime": {
     "end_time": "2022-12-12T05:32:11.998626Z",
     "start_time": "2022-12-12T05:32:11.972624Z"
    }
   },
   "outputs": [
    {
     "data": {
      "text/html": [
       "<div>\n",
       "<style scoped>\n",
       "    .dataframe tbody tr th:only-of-type {\n",
       "        vertical-align: middle;\n",
       "    }\n",
       "\n",
       "    .dataframe tbody tr th {\n",
       "        vertical-align: top;\n",
       "    }\n",
       "\n",
       "    .dataframe thead th {\n",
       "        text-align: right;\n",
       "    }\n",
       "</style>\n",
       "<table border=\"1\" class=\"dataframe\">\n",
       "  <thead>\n",
       "    <tr style=\"text-align: right;\">\n",
       "      <th></th>\n",
       "      <th>Curb_weight</th>\n",
       "      <th>Engine_size</th>\n",
       "      <th>Fuel_capacity</th>\n",
       "      <th>Fuel_efficiency</th>\n",
       "      <th>Horsepower</th>\n",
       "      <th>Latest_Launch</th>\n",
       "      <th>Length</th>\n",
       "      <th>Manufacturer</th>\n",
       "      <th>Power_perf_factor</th>\n",
       "      <th>Price_in_thousands</th>\n",
       "      <th>Vehicle_type</th>\n",
       "      <th>Wheelbase</th>\n",
       "      <th>Width</th>\n",
       "    </tr>\n",
       "  </thead>\n",
       "  <tbody>\n",
       "    <tr>\n",
       "      <th>96</th>\n",
       "      <td>3.055</td>\n",
       "      <td>2.3</td>\n",
       "      <td>15.9</td>\n",
       "      <td>26</td>\n",
       "      <td>190</td>\n",
       "      <td>2011-01-16</td>\n",
       "      <td>157.9</td>\n",
       "      <td>Mercedes-B</td>\n",
       "      <td>82.807362</td>\n",
       "      <td>38.9</td>\n",
       "      <td>Passenger</td>\n",
       "      <td>94.5</td>\n",
       "      <td>67.5</td>\n",
       "    </tr>\n",
       "    <tr>\n",
       "      <th>142</th>\n",
       "      <td>2.668</td>\n",
       "      <td>2.0</td>\n",
       "      <td>15.3</td>\n",
       "      <td>27</td>\n",
       "      <td>127</td>\n",
       "      <td>2011-05-06</td>\n",
       "      <td>163.8</td>\n",
       "      <td>Toyota</td>\n",
       "      <td>51.955109</td>\n",
       "      <td>16.888</td>\n",
       "      <td>Car</td>\n",
       "      <td>94.9</td>\n",
       "      <td>66.7</td>\n",
       "    </tr>\n",
       "    <tr>\n",
       "      <th>66</th>\n",
       "      <td>3.65</td>\n",
       "      <td>3.0</td>\n",
       "      <td>18.4</td>\n",
       "      <td>21</td>\n",
       "      <td>240</td>\n",
       "      <td>2012-11-03</td>\n",
       "      <td>191.3</td>\n",
       "      <td>Jaguar</td>\n",
       "      <td>102.178985</td>\n",
       "      <td>42.8</td>\n",
       "      <td>Passenger</td>\n",
       "      <td>114.5</td>\n",
       "      <td>71.6</td>\n",
       "    </tr>\n",
       "    <tr>\n",
       "      <th>100</th>\n",
       "      <td>4.387</td>\n",
       "      <td>3.2</td>\n",
       "      <td>19.0</td>\n",
       "      <td>20</td>\n",
       "      <td>215</td>\n",
       "      <td>2011-02-10</td>\n",
       "      <td>180.6</td>\n",
       "      <td>Mercedes-B</td>\n",
       "      <td>90.495532</td>\n",
       "      <td>35.3</td>\n",
       "      <td>Car</td>\n",
       "      <td>111.0</td>\n",
       "      <td>72.2</td>\n",
       "    </tr>\n",
       "    <tr>\n",
       "      <th>123</th>\n",
       "      <td>3.942</td>\n",
       "      <td>3.4</td>\n",
       "      <td>25.0</td>\n",
       "      <td>23</td>\n",
       "      <td>185</td>\n",
       "      <td>2012-07-22</td>\n",
       "      <td>201.3</td>\n",
       "      <td>Pontiac</td>\n",
       "      <td>76.20844</td>\n",
       "      <td>25.635</td>\n",
       "      <td>Car</td>\n",
       "      <td>120.0</td>\n",
       "      <td>72.7</td>\n",
       "    </tr>\n",
       "    <tr>\n",
       "      <th>...</th>\n",
       "      <td>...</td>\n",
       "      <td>...</td>\n",
       "      <td>...</td>\n",
       "      <td>...</td>\n",
       "      <td>...</td>\n",
       "      <td>...</td>\n",
       "      <td>...</td>\n",
       "      <td>...</td>\n",
       "      <td>...</td>\n",
       "      <td>...</td>\n",
       "      <td>...</td>\n",
       "      <td>...</td>\n",
       "      <td>...</td>\n",
       "    </tr>\n",
       "    <tr>\n",
       "      <th>35</th>\n",
       "      <td>2.567</td>\n",
       "      <td>2.0</td>\n",
       "      <td>12.5</td>\n",
       "      <td>29</td>\n",
       "      <td>132</td>\n",
       "      <td>2011-12-12</td>\n",
       "      <td>174.4</td>\n",
       "      <td>Dodge</td>\n",
       "      <td>52.084899</td>\n",
       "      <td>12.64</td>\n",
       "      <td>Passenger</td>\n",
       "      <td>105.0</td>\n",
       "      <td>74.4</td>\n",
       "    </tr>\n",
       "    <tr>\n",
       "      <th>102</th>\n",
       "      <td>3.012</td>\n",
       "      <td>2.4</td>\n",
       "      <td>15.9</td>\n",
       "      <td>25</td>\n",
       "      <td>155</td>\n",
       "      <td>2011-08-02</td>\n",
       "      <td>183.5</td>\n",
       "      <td>Nissan</td>\n",
       "      <td>63.313728</td>\n",
       "      <td>20.39</td>\n",
       "      <td>Passenger</td>\n",
       "      <td>103.1</td>\n",
       "      <td>69.1</td>\n",
       "    </tr>\n",
       "    <tr>\n",
       "      <th>127</th>\n",
       "      <td>3.28</td>\n",
       "      <td>2.3</td>\n",
       "      <td>18.5</td>\n",
       "      <td>23</td>\n",
       "      <td>170</td>\n",
       "      <td>2012-11-09</td>\n",
       "      <td>189.2</td>\n",
       "      <td>Saab</td>\n",
       "      <td>73.503778</td>\n",
       "      <td>33.12</td>\n",
       "      <td>Passenger</td>\n",
       "      <td>106.4</td>\n",
       "      <td>70.6</td>\n",
       "    </tr>\n",
       "    <tr>\n",
       "      <th>130</th>\n",
       "      <td>2.367</td>\n",
       "      <td>1.9</td>\n",
       "      <td>12.1</td>\n",
       "      <td>33</td>\n",
       "      <td>100</td>\n",
       "      <td>2011-03-16</td>\n",
       "      <td>180.0</td>\n",
       "      <td>Saturn</td>\n",
       "      <td>40.700072</td>\n",
       "      <td>12.535</td>\n",
       "      <td>Passenger</td>\n",
       "      <td>102.4</td>\n",
       "      <td>66.4</td>\n",
       "    </tr>\n",
       "    <tr>\n",
       "      <th>29</th>\n",
       "      <td>3.332</td>\n",
       "      <td>2.5</td>\n",
       "      <td>16.0</td>\n",
       "      <td>24</td>\n",
       "      <td>168</td>\n",
       "      <td>2011-11-17</td>\n",
       "      <td>193.0</td>\n",
       "      <td>Chrysler</td>\n",
       "      <td>69.521355</td>\n",
       "      <td>24.495</td>\n",
       "      <td>Passenger</td>\n",
       "      <td>106.0</td>\n",
       "      <td>69.2</td>\n",
       "    </tr>\n",
       "  </tbody>\n",
       "</table>\n",
       "<p>124 rows × 13 columns</p>\n",
       "</div>"
      ],
      "text/plain": [
       "     Curb_weight  Engine_size  Fuel_capacity  Fuel_efficiency  Horsepower  \\\n",
       "96         3.055          2.3           15.9               26         190   \n",
       "142        2.668          2.0           15.3               27         127   \n",
       "66          3.65          3.0           18.4               21         240   \n",
       "100        4.387          3.2           19.0               20         215   \n",
       "123        3.942          3.4           25.0               23         185   \n",
       "..           ...          ...            ...              ...         ...   \n",
       "35         2.567          2.0           12.5               29         132   \n",
       "102        3.012          2.4           15.9               25         155   \n",
       "127         3.28          2.3           18.5               23         170   \n",
       "130        2.367          1.9           12.1               33         100   \n",
       "29         3.332          2.5           16.0               24         168   \n",
       "\n",
       "    Latest_Launch  Length Manufacturer  Power_perf_factor  Price_in_thousands  \\\n",
       "96     2011-01-16   157.9   Mercedes-B          82.807362                38.9   \n",
       "142    2011-05-06   163.8       Toyota          51.955109              16.888   \n",
       "66     2012-11-03   191.3       Jaguar         102.178985                42.8   \n",
       "100    2011-02-10   180.6   Mercedes-B          90.495532                35.3   \n",
       "123    2012-07-22   201.3      Pontiac           76.20844              25.635   \n",
       "..            ...     ...          ...                ...                 ...   \n",
       "35     2011-12-12   174.4        Dodge          52.084899               12.64   \n",
       "102    2011-08-02   183.5       Nissan          63.313728               20.39   \n",
       "127    2012-11-09   189.2         Saab          73.503778               33.12   \n",
       "130    2011-03-16   180.0       Saturn          40.700072              12.535   \n",
       "29     2011-11-17   193.0     Chrysler          69.521355              24.495   \n",
       "\n",
       "    Vehicle_type  Wheelbase  Width  \n",
       "96     Passenger       94.5   67.5  \n",
       "142          Car       94.9   66.7  \n",
       "66     Passenger      114.5   71.6  \n",
       "100          Car      111.0   72.2  \n",
       "123          Car      120.0   72.7  \n",
       "..           ...        ...    ...  \n",
       "35     Passenger      105.0   74.4  \n",
       "102    Passenger      103.1   69.1  \n",
       "127    Passenger      106.4   70.6  \n",
       "130    Passenger      102.4   66.4  \n",
       "29     Passenger      106.0   69.2  \n",
       "\n",
       "[124 rows x 13 columns]"
      ]
     },
     "execution_count": 219,
     "metadata": {},
     "output_type": "execute_result"
    }
   ],
   "source": [
    "x_train"
   ]
  },
  {
   "cell_type": "code",
   "execution_count": 220,
   "id": "7e45670d",
   "metadata": {
    "ExecuteTime": {
     "end_time": "2022-12-12T05:32:12.045630Z",
     "start_time": "2022-12-12T05:32:12.002625Z"
    }
   },
   "outputs": [
    {
     "data": {
      "text/html": [
       "<div>\n",
       "<style scoped>\n",
       "    .dataframe tbody tr th:only-of-type {\n",
       "        vertical-align: middle;\n",
       "    }\n",
       "\n",
       "    .dataframe tbody tr th {\n",
       "        vertical-align: top;\n",
       "    }\n",
       "\n",
       "    .dataframe thead th {\n",
       "        text-align: right;\n",
       "    }\n",
       "</style>\n",
       "<table border=\"1\" class=\"dataframe\">\n",
       "  <thead>\n",
       "    <tr style=\"text-align: right;\">\n",
       "      <th></th>\n",
       "      <th>Curb_weight</th>\n",
       "      <th>Engine_size</th>\n",
       "      <th>Fuel_capacity</th>\n",
       "      <th>Fuel_efficiency</th>\n",
       "      <th>Horsepower</th>\n",
       "      <th>Length</th>\n",
       "      <th>Manufacturer</th>\n",
       "      <th>Power_perf_factor</th>\n",
       "      <th>Price_in_thousands</th>\n",
       "      <th>Vehicle_type</th>\n",
       "      <th>Wheelbase</th>\n",
       "      <th>Width</th>\n",
       "      <th>Days_since_launch</th>\n",
       "    </tr>\n",
       "  </thead>\n",
       "  <tbody>\n",
       "    <tr>\n",
       "      <th>96</th>\n",
       "      <td>3.055</td>\n",
       "      <td>2.3</td>\n",
       "      <td>15.9</td>\n",
       "      <td>26</td>\n",
       "      <td>190</td>\n",
       "      <td>157.9</td>\n",
       "      <td>Mercedes-B</td>\n",
       "      <td>82.807362</td>\n",
       "      <td>38.9</td>\n",
       "      <td>Passenger</td>\n",
       "      <td>94.5</td>\n",
       "      <td>67.5</td>\n",
       "      <td>4348</td>\n",
       "    </tr>\n",
       "    <tr>\n",
       "      <th>142</th>\n",
       "      <td>2.668</td>\n",
       "      <td>2.0</td>\n",
       "      <td>15.3</td>\n",
       "      <td>27</td>\n",
       "      <td>127</td>\n",
       "      <td>163.8</td>\n",
       "      <td>Toyota</td>\n",
       "      <td>51.955109</td>\n",
       "      <td>16.888</td>\n",
       "      <td>Car</td>\n",
       "      <td>94.9</td>\n",
       "      <td>66.7</td>\n",
       "      <td>4238</td>\n",
       "    </tr>\n",
       "    <tr>\n",
       "      <th>66</th>\n",
       "      <td>3.65</td>\n",
       "      <td>3.0</td>\n",
       "      <td>18.4</td>\n",
       "      <td>21</td>\n",
       "      <td>240</td>\n",
       "      <td>191.3</td>\n",
       "      <td>Jaguar</td>\n",
       "      <td>102.178985</td>\n",
       "      <td>42.8</td>\n",
       "      <td>Passenger</td>\n",
       "      <td>114.5</td>\n",
       "      <td>71.6</td>\n",
       "      <td>3691</td>\n",
       "    </tr>\n",
       "    <tr>\n",
       "      <th>100</th>\n",
       "      <td>4.387</td>\n",
       "      <td>3.2</td>\n",
       "      <td>19.0</td>\n",
       "      <td>20</td>\n",
       "      <td>215</td>\n",
       "      <td>180.6</td>\n",
       "      <td>Mercedes-B</td>\n",
       "      <td>90.495532</td>\n",
       "      <td>35.3</td>\n",
       "      <td>Car</td>\n",
       "      <td>111.0</td>\n",
       "      <td>72.2</td>\n",
       "      <td>4323</td>\n",
       "    </tr>\n",
       "    <tr>\n",
       "      <th>123</th>\n",
       "      <td>3.942</td>\n",
       "      <td>3.4</td>\n",
       "      <td>25.0</td>\n",
       "      <td>23</td>\n",
       "      <td>185</td>\n",
       "      <td>201.3</td>\n",
       "      <td>Pontiac</td>\n",
       "      <td>76.20844</td>\n",
       "      <td>25.635</td>\n",
       "      <td>Car</td>\n",
       "      <td>120.0</td>\n",
       "      <td>72.7</td>\n",
       "      <td>3795</td>\n",
       "    </tr>\n",
       "    <tr>\n",
       "      <th>...</th>\n",
       "      <td>...</td>\n",
       "      <td>...</td>\n",
       "      <td>...</td>\n",
       "      <td>...</td>\n",
       "      <td>...</td>\n",
       "      <td>...</td>\n",
       "      <td>...</td>\n",
       "      <td>...</td>\n",
       "      <td>...</td>\n",
       "      <td>...</td>\n",
       "      <td>...</td>\n",
       "      <td>...</td>\n",
       "      <td>...</td>\n",
       "    </tr>\n",
       "    <tr>\n",
       "      <th>35</th>\n",
       "      <td>2.567</td>\n",
       "      <td>2.0</td>\n",
       "      <td>12.5</td>\n",
       "      <td>29</td>\n",
       "      <td>132</td>\n",
       "      <td>174.4</td>\n",
       "      <td>Dodge</td>\n",
       "      <td>52.084899</td>\n",
       "      <td>12.64</td>\n",
       "      <td>Passenger</td>\n",
       "      <td>105.0</td>\n",
       "      <td>74.4</td>\n",
       "      <td>4018</td>\n",
       "    </tr>\n",
       "    <tr>\n",
       "      <th>102</th>\n",
       "      <td>3.012</td>\n",
       "      <td>2.4</td>\n",
       "      <td>15.9</td>\n",
       "      <td>25</td>\n",
       "      <td>155</td>\n",
       "      <td>183.5</td>\n",
       "      <td>Nissan</td>\n",
       "      <td>63.313728</td>\n",
       "      <td>20.39</td>\n",
       "      <td>Passenger</td>\n",
       "      <td>103.1</td>\n",
       "      <td>69.1</td>\n",
       "      <td>4150</td>\n",
       "    </tr>\n",
       "    <tr>\n",
       "      <th>127</th>\n",
       "      <td>3.28</td>\n",
       "      <td>2.3</td>\n",
       "      <td>18.5</td>\n",
       "      <td>23</td>\n",
       "      <td>170</td>\n",
       "      <td>189.2</td>\n",
       "      <td>Saab</td>\n",
       "      <td>73.503778</td>\n",
       "      <td>33.12</td>\n",
       "      <td>Passenger</td>\n",
       "      <td>106.4</td>\n",
       "      <td>70.6</td>\n",
       "      <td>3685</td>\n",
       "    </tr>\n",
       "    <tr>\n",
       "      <th>130</th>\n",
       "      <td>2.367</td>\n",
       "      <td>1.9</td>\n",
       "      <td>12.1</td>\n",
       "      <td>33</td>\n",
       "      <td>100</td>\n",
       "      <td>180.0</td>\n",
       "      <td>Saturn</td>\n",
       "      <td>40.700072</td>\n",
       "      <td>12.535</td>\n",
       "      <td>Passenger</td>\n",
       "      <td>102.4</td>\n",
       "      <td>66.4</td>\n",
       "      <td>4289</td>\n",
       "    </tr>\n",
       "    <tr>\n",
       "      <th>29</th>\n",
       "      <td>3.332</td>\n",
       "      <td>2.5</td>\n",
       "      <td>16.0</td>\n",
       "      <td>24</td>\n",
       "      <td>168</td>\n",
       "      <td>193.0</td>\n",
       "      <td>Chrysler</td>\n",
       "      <td>69.521355</td>\n",
       "      <td>24.495</td>\n",
       "      <td>Passenger</td>\n",
       "      <td>106.0</td>\n",
       "      <td>69.2</td>\n",
       "      <td>4043</td>\n",
       "    </tr>\n",
       "  </tbody>\n",
       "</table>\n",
       "<p>124 rows × 13 columns</p>\n",
       "</div>"
      ],
      "text/plain": [
       "     Curb_weight  Engine_size  Fuel_capacity  Fuel_efficiency  Horsepower  \\\n",
       "96         3.055          2.3           15.9               26         190   \n",
       "142        2.668          2.0           15.3               27         127   \n",
       "66          3.65          3.0           18.4               21         240   \n",
       "100        4.387          3.2           19.0               20         215   \n",
       "123        3.942          3.4           25.0               23         185   \n",
       "..           ...          ...            ...              ...         ...   \n",
       "35         2.567          2.0           12.5               29         132   \n",
       "102        3.012          2.4           15.9               25         155   \n",
       "127         3.28          2.3           18.5               23         170   \n",
       "130        2.367          1.9           12.1               33         100   \n",
       "29         3.332          2.5           16.0               24         168   \n",
       "\n",
       "     Length Manufacturer  Power_perf_factor  Price_in_thousands Vehicle_type  \\\n",
       "96    157.9   Mercedes-B          82.807362                38.9    Passenger   \n",
       "142   163.8       Toyota          51.955109              16.888          Car   \n",
       "66    191.3       Jaguar         102.178985                42.8    Passenger   \n",
       "100   180.6   Mercedes-B          90.495532                35.3          Car   \n",
       "123   201.3      Pontiac           76.20844              25.635          Car   \n",
       "..      ...          ...                ...                 ...          ...   \n",
       "35    174.4        Dodge          52.084899               12.64    Passenger   \n",
       "102   183.5       Nissan          63.313728               20.39    Passenger   \n",
       "127   189.2         Saab          73.503778               33.12    Passenger   \n",
       "130   180.0       Saturn          40.700072              12.535    Passenger   \n",
       "29    193.0     Chrysler          69.521355              24.495    Passenger   \n",
       "\n",
       "     Wheelbase  Width  Days_since_launch  \n",
       "96        94.5   67.5               4348  \n",
       "142       94.9   66.7               4238  \n",
       "66       114.5   71.6               3691  \n",
       "100      111.0   72.2               4323  \n",
       "123      120.0   72.7               3795  \n",
       "..         ...    ...                ...  \n",
       "35       105.0   74.4               4018  \n",
       "102      103.1   69.1               4150  \n",
       "127      106.4   70.6               3685  \n",
       "130      102.4   66.4               4289  \n",
       "29       106.0   69.2               4043  \n",
       "\n",
       "[124 rows x 13 columns]"
      ]
     },
     "execution_count": 220,
     "metadata": {},
     "output_type": "execute_result"
    }
   ],
   "source": [
    "x_train['Days_since_launch'] = (dt.datetime.now() - x_train['Latest_Launch']).dt.days\n",
    "x_train = x_train.drop(columns=['Latest_Launch'])\n",
    "\n",
    "x_train"
   ]
  },
  {
   "cell_type": "code",
   "execution_count": 221,
   "id": "6281e8d5",
   "metadata": {
    "ExecuteTime": {
     "end_time": "2022-12-12T05:32:12.077621Z",
     "start_time": "2022-12-12T05:32:12.049667Z"
    }
   },
   "outputs": [
    {
     "data": {
      "text/plain": [
       "Dodge         9\n",
       "Ford          8\n",
       "Toyota        8\n",
       "Mercedes-B    7\n",
       "Mitsubishi    7\n",
       "Chevrolet     7\n",
       "Nissan        6\n",
       "Pontiac       6\n",
       "Oldsmobile    5\n",
       "Volvo         5\n",
       "Volkswagen    5\n",
       "Mercury       4\n",
       "Chrysler      4\n",
       "Plymouth      4\n",
       "Hyundai       3\n",
       "Jeep          3\n",
       "Buick         3\n",
       "BMW           3\n",
       "Lexus         3\n",
       "Honda         3\n",
       "Porsche       3\n",
       "Lincoln       3\n",
       "Acura         3\n",
       "Cadillac      3\n",
       "Audi          2\n",
       "Saab          2\n",
       "Saturn        2\n",
       "Subaru        1\n",
       "Jaguar        1\n",
       "Infiniti      1\n",
       "Name: Manufacturer, dtype: Int64"
      ]
     },
     "execution_count": 221,
     "metadata": {},
     "output_type": "execute_result"
    }
   ],
   "source": [
    "x_train.Manufacturer.value_counts()"
   ]
  },
  {
   "cell_type": "code",
   "execution_count": 222,
   "id": "41e278b6",
   "metadata": {
    "ExecuteTime": {
     "end_time": "2022-12-12T05:32:12.109618Z",
     "start_time": "2022-12-12T05:32:12.080645Z"
    }
   },
   "outputs": [],
   "source": [
    "# Assigning manafactuter with less variance / fewer examples to 'Others'\n",
    "\n",
    "b = (x_train.Manufacturer.value_counts() > 5)\n",
    "final_manf =  x_train.Manufacturer.value_counts().index[b]\n",
    "\n",
    "x_train['Manufacturer'] = np.where(x_train['Manufacturer'].isin( final_manf),x_train.Manufacturer,'Others')"
   ]
  },
  {
   "cell_type": "code",
   "execution_count": 223,
   "id": "338a594a",
   "metadata": {
    "ExecuteTime": {
     "end_time": "2022-12-12T05:32:12.156627Z",
     "start_time": "2022-12-12T05:32:12.112624Z"
    }
   },
   "outputs": [
    {
     "data": {
      "text/html": [
       "<div>\n",
       "<style scoped>\n",
       "    .dataframe tbody tr th:only-of-type {\n",
       "        vertical-align: middle;\n",
       "    }\n",
       "\n",
       "    .dataframe tbody tr th {\n",
       "        vertical-align: top;\n",
       "    }\n",
       "\n",
       "    .dataframe thead th {\n",
       "        text-align: right;\n",
       "    }\n",
       "</style>\n",
       "<table border=\"1\" class=\"dataframe\">\n",
       "  <thead>\n",
       "    <tr style=\"text-align: right;\">\n",
       "      <th></th>\n",
       "      <th>Curb_weight</th>\n",
       "      <th>Engine_size</th>\n",
       "      <th>Fuel_capacity</th>\n",
       "      <th>Fuel_efficiency</th>\n",
       "      <th>Horsepower</th>\n",
       "      <th>Length</th>\n",
       "      <th>Manufacturer</th>\n",
       "      <th>Power_perf_factor</th>\n",
       "      <th>Price_in_thousands</th>\n",
       "      <th>Vehicle_type</th>\n",
       "      <th>Wheelbase</th>\n",
       "      <th>Width</th>\n",
       "      <th>Days_since_launch</th>\n",
       "    </tr>\n",
       "  </thead>\n",
       "  <tbody>\n",
       "    <tr>\n",
       "      <th>96</th>\n",
       "      <td>3.055</td>\n",
       "      <td>2.3</td>\n",
       "      <td>15.9</td>\n",
       "      <td>26</td>\n",
       "      <td>190</td>\n",
       "      <td>157.9</td>\n",
       "      <td>Mercedes-B</td>\n",
       "      <td>82.807362</td>\n",
       "      <td>38.9</td>\n",
       "      <td>Passenger</td>\n",
       "      <td>94.5</td>\n",
       "      <td>67.5</td>\n",
       "      <td>4348</td>\n",
       "    </tr>\n",
       "    <tr>\n",
       "      <th>142</th>\n",
       "      <td>2.668</td>\n",
       "      <td>2.0</td>\n",
       "      <td>15.3</td>\n",
       "      <td>27</td>\n",
       "      <td>127</td>\n",
       "      <td>163.8</td>\n",
       "      <td>Toyota</td>\n",
       "      <td>51.955109</td>\n",
       "      <td>16.888</td>\n",
       "      <td>Car</td>\n",
       "      <td>94.9</td>\n",
       "      <td>66.7</td>\n",
       "      <td>4238</td>\n",
       "    </tr>\n",
       "    <tr>\n",
       "      <th>66</th>\n",
       "      <td>3.65</td>\n",
       "      <td>3.0</td>\n",
       "      <td>18.4</td>\n",
       "      <td>21</td>\n",
       "      <td>240</td>\n",
       "      <td>191.3</td>\n",
       "      <td>Others</td>\n",
       "      <td>102.178985</td>\n",
       "      <td>42.8</td>\n",
       "      <td>Passenger</td>\n",
       "      <td>114.5</td>\n",
       "      <td>71.6</td>\n",
       "      <td>3691</td>\n",
       "    </tr>\n",
       "    <tr>\n",
       "      <th>100</th>\n",
       "      <td>4.387</td>\n",
       "      <td>3.2</td>\n",
       "      <td>19.0</td>\n",
       "      <td>20</td>\n",
       "      <td>215</td>\n",
       "      <td>180.6</td>\n",
       "      <td>Mercedes-B</td>\n",
       "      <td>90.495532</td>\n",
       "      <td>35.3</td>\n",
       "      <td>Car</td>\n",
       "      <td>111.0</td>\n",
       "      <td>72.2</td>\n",
       "      <td>4323</td>\n",
       "    </tr>\n",
       "    <tr>\n",
       "      <th>123</th>\n",
       "      <td>3.942</td>\n",
       "      <td>3.4</td>\n",
       "      <td>25.0</td>\n",
       "      <td>23</td>\n",
       "      <td>185</td>\n",
       "      <td>201.3</td>\n",
       "      <td>Pontiac</td>\n",
       "      <td>76.20844</td>\n",
       "      <td>25.635</td>\n",
       "      <td>Car</td>\n",
       "      <td>120.0</td>\n",
       "      <td>72.7</td>\n",
       "      <td>3795</td>\n",
       "    </tr>\n",
       "    <tr>\n",
       "      <th>...</th>\n",
       "      <td>...</td>\n",
       "      <td>...</td>\n",
       "      <td>...</td>\n",
       "      <td>...</td>\n",
       "      <td>...</td>\n",
       "      <td>...</td>\n",
       "      <td>...</td>\n",
       "      <td>...</td>\n",
       "      <td>...</td>\n",
       "      <td>...</td>\n",
       "      <td>...</td>\n",
       "      <td>...</td>\n",
       "      <td>...</td>\n",
       "    </tr>\n",
       "    <tr>\n",
       "      <th>35</th>\n",
       "      <td>2.567</td>\n",
       "      <td>2.0</td>\n",
       "      <td>12.5</td>\n",
       "      <td>29</td>\n",
       "      <td>132</td>\n",
       "      <td>174.4</td>\n",
       "      <td>Dodge</td>\n",
       "      <td>52.084899</td>\n",
       "      <td>12.64</td>\n",
       "      <td>Passenger</td>\n",
       "      <td>105.0</td>\n",
       "      <td>74.4</td>\n",
       "      <td>4018</td>\n",
       "    </tr>\n",
       "    <tr>\n",
       "      <th>102</th>\n",
       "      <td>3.012</td>\n",
       "      <td>2.4</td>\n",
       "      <td>15.9</td>\n",
       "      <td>25</td>\n",
       "      <td>155</td>\n",
       "      <td>183.5</td>\n",
       "      <td>Nissan</td>\n",
       "      <td>63.313728</td>\n",
       "      <td>20.39</td>\n",
       "      <td>Passenger</td>\n",
       "      <td>103.1</td>\n",
       "      <td>69.1</td>\n",
       "      <td>4150</td>\n",
       "    </tr>\n",
       "    <tr>\n",
       "      <th>127</th>\n",
       "      <td>3.28</td>\n",
       "      <td>2.3</td>\n",
       "      <td>18.5</td>\n",
       "      <td>23</td>\n",
       "      <td>170</td>\n",
       "      <td>189.2</td>\n",
       "      <td>Others</td>\n",
       "      <td>73.503778</td>\n",
       "      <td>33.12</td>\n",
       "      <td>Passenger</td>\n",
       "      <td>106.4</td>\n",
       "      <td>70.6</td>\n",
       "      <td>3685</td>\n",
       "    </tr>\n",
       "    <tr>\n",
       "      <th>130</th>\n",
       "      <td>2.367</td>\n",
       "      <td>1.9</td>\n",
       "      <td>12.1</td>\n",
       "      <td>33</td>\n",
       "      <td>100</td>\n",
       "      <td>180.0</td>\n",
       "      <td>Others</td>\n",
       "      <td>40.700072</td>\n",
       "      <td>12.535</td>\n",
       "      <td>Passenger</td>\n",
       "      <td>102.4</td>\n",
       "      <td>66.4</td>\n",
       "      <td>4289</td>\n",
       "    </tr>\n",
       "    <tr>\n",
       "      <th>29</th>\n",
       "      <td>3.332</td>\n",
       "      <td>2.5</td>\n",
       "      <td>16.0</td>\n",
       "      <td>24</td>\n",
       "      <td>168</td>\n",
       "      <td>193.0</td>\n",
       "      <td>Others</td>\n",
       "      <td>69.521355</td>\n",
       "      <td>24.495</td>\n",
       "      <td>Passenger</td>\n",
       "      <td>106.0</td>\n",
       "      <td>69.2</td>\n",
       "      <td>4043</td>\n",
       "    </tr>\n",
       "  </tbody>\n",
       "</table>\n",
       "<p>124 rows × 13 columns</p>\n",
       "</div>"
      ],
      "text/plain": [
       "     Curb_weight  Engine_size  Fuel_capacity  Fuel_efficiency  Horsepower  \\\n",
       "96         3.055          2.3           15.9               26         190   \n",
       "142        2.668          2.0           15.3               27         127   \n",
       "66          3.65          3.0           18.4               21         240   \n",
       "100        4.387          3.2           19.0               20         215   \n",
       "123        3.942          3.4           25.0               23         185   \n",
       "..           ...          ...            ...              ...         ...   \n",
       "35         2.567          2.0           12.5               29         132   \n",
       "102        3.012          2.4           15.9               25         155   \n",
       "127         3.28          2.3           18.5               23         170   \n",
       "130        2.367          1.9           12.1               33         100   \n",
       "29         3.332          2.5           16.0               24         168   \n",
       "\n",
       "     Length Manufacturer  Power_perf_factor  Price_in_thousands Vehicle_type  \\\n",
       "96    157.9   Mercedes-B          82.807362                38.9    Passenger   \n",
       "142   163.8       Toyota          51.955109              16.888          Car   \n",
       "66    191.3       Others         102.178985                42.8    Passenger   \n",
       "100   180.6   Mercedes-B          90.495532                35.3          Car   \n",
       "123   201.3      Pontiac           76.20844              25.635          Car   \n",
       "..      ...          ...                ...                 ...          ...   \n",
       "35    174.4        Dodge          52.084899               12.64    Passenger   \n",
       "102   183.5       Nissan          63.313728               20.39    Passenger   \n",
       "127   189.2       Others          73.503778               33.12    Passenger   \n",
       "130   180.0       Others          40.700072              12.535    Passenger   \n",
       "29    193.0       Others          69.521355              24.495    Passenger   \n",
       "\n",
       "     Wheelbase  Width  Days_since_launch  \n",
       "96        94.5   67.5               4348  \n",
       "142       94.9   66.7               4238  \n",
       "66       114.5   71.6               3691  \n",
       "100      111.0   72.2               4323  \n",
       "123      120.0   72.7               3795  \n",
       "..         ...    ...                ...  \n",
       "35       105.0   74.4               4018  \n",
       "102      103.1   69.1               4150  \n",
       "127      106.4   70.6               3685  \n",
       "130      102.4   66.4               4289  \n",
       "29       106.0   69.2               4043  \n",
       "\n",
       "[124 rows x 13 columns]"
      ]
     },
     "execution_count": 223,
     "metadata": {},
     "output_type": "execute_result"
    }
   ],
   "source": [
    "x_train"
   ]
  },
  {
   "cell_type": "code",
   "execution_count": 224,
   "id": "fef29099",
   "metadata": {
    "ExecuteTime": {
     "end_time": "2022-12-12T05:32:12.235628Z",
     "start_time": "2022-12-12T05:32:12.163625Z"
    }
   },
   "outputs": [],
   "source": [
    "#Outlier treatment\n",
    "\n",
    "for i in x_train.select_dtypes(np.number):\n",
    "    lower_bound = x_train[i].quantile(0.01)\n",
    "    upper_bound = x_train[i].quantile(0.99)\n",
    "    x_train[i] = np.clip(x_train[i],lower_bound,upper_bound)"
   ]
  },
  {
   "cell_type": "code",
   "execution_count": 225,
   "id": "3b555f08",
   "metadata": {
    "ExecuteTime": {
     "end_time": "2022-12-12T05:32:12.329622Z",
     "start_time": "2022-12-12T05:32:12.243631Z"
    }
   },
   "outputs": [
    {
     "data": {
      "text/html": [
       "<div>\n",
       "<style scoped>\n",
       "    .dataframe tbody tr th:only-of-type {\n",
       "        vertical-align: middle;\n",
       "    }\n",
       "\n",
       "    .dataframe tbody tr th {\n",
       "        vertical-align: top;\n",
       "    }\n",
       "\n",
       "    .dataframe thead th {\n",
       "        text-align: right;\n",
       "    }\n",
       "</style>\n",
       "<table border=\"1\" class=\"dataframe\">\n",
       "  <thead>\n",
       "    <tr style=\"text-align: right;\">\n",
       "      <th></th>\n",
       "      <th>Curb_weight</th>\n",
       "      <th>Engine_size</th>\n",
       "      <th>Fuel_capacity</th>\n",
       "      <th>Fuel_efficiency</th>\n",
       "      <th>Length</th>\n",
       "      <th>Power_perf_factor</th>\n",
       "      <th>Price_in_thousands</th>\n",
       "      <th>Wheelbase</th>\n",
       "      <th>Width</th>\n",
       "      <th>Days_since_launch</th>\n",
       "    </tr>\n",
       "  </thead>\n",
       "  <tbody>\n",
       "    <tr>\n",
       "      <th>count</th>\n",
       "      <td>123.000000</td>\n",
       "      <td>124.000000</td>\n",
       "      <td>124.000000</td>\n",
       "      <td>122.000000</td>\n",
       "      <td>124.000000</td>\n",
       "      <td>124.000000</td>\n",
       "      <td>124.000000</td>\n",
       "      <td>124.000000</td>\n",
       "      <td>124.000000</td>\n",
       "      <td>124.000000</td>\n",
       "    </tr>\n",
       "    <tr>\n",
       "      <th>mean</th>\n",
       "      <td>3.397658</td>\n",
       "      <td>3.079032</td>\n",
       "      <td>18.093758</td>\n",
       "      <td>23.565574</td>\n",
       "      <td>186.755000</td>\n",
       "      <td>76.781198</td>\n",
       "      <td>27.391315</td>\n",
       "      <td>107.126677</td>\n",
       "      <td>71.309613</td>\n",
       "      <td>4028.442903</td>\n",
       "    </tr>\n",
       "    <tr>\n",
       "      <th>std</th>\n",
       "      <td>0.646084</td>\n",
       "      <td>0.981807</td>\n",
       "      <td>3.976642</td>\n",
       "      <td>4.132091</td>\n",
       "      <td>13.494971</td>\n",
       "      <td>22.902944</td>\n",
       "      <td>13.836830</td>\n",
       "      <td>7.071235</td>\n",
       "      <td>3.510229</td>\n",
       "      <td>235.334980</td>\n",
       "    </tr>\n",
       "    <tr>\n",
       "      <th>min</th>\n",
       "      <td>2.242200</td>\n",
       "      <td>1.569000</td>\n",
       "      <td>11.923000</td>\n",
       "      <td>15.000000</td>\n",
       "      <td>153.219000</td>\n",
       "      <td>37.598675</td>\n",
       "      <td>10.182000</td>\n",
       "      <td>92.715000</td>\n",
       "      <td>65.861000</td>\n",
       "      <td>3641.460000</td>\n",
       "    </tr>\n",
       "    <tr>\n",
       "      <th>10%</th>\n",
       "      <td>2.599600</td>\n",
       "      <td>1.930000</td>\n",
       "      <td>13.200000</td>\n",
       "      <td>18.000000</td>\n",
       "      <td>171.390000</td>\n",
       "      <td>48.410215</td>\n",
       "      <td>14.077900</td>\n",
       "      <td>97.560000</td>\n",
       "      <td>66.900000</td>\n",
       "      <td>3720.000000</td>\n",
       "    </tr>\n",
       "    <tr>\n",
       "      <th>20%</th>\n",
       "      <td>2.919400</td>\n",
       "      <td>2.000000</td>\n",
       "      <td>15.200000</td>\n",
       "      <td>21.000000</td>\n",
       "      <td>175.040000</td>\n",
       "      <td>57.566502</td>\n",
       "      <td>17.169400</td>\n",
       "      <td>100.980000</td>\n",
       "      <td>67.860000</td>\n",
       "      <td>3819.200000</td>\n",
       "    </tr>\n",
       "    <tr>\n",
       "      <th>30%</th>\n",
       "      <td>3.044200</td>\n",
       "      <td>2.400000</td>\n",
       "      <td>16.000000</td>\n",
       "      <td>21.300000</td>\n",
       "      <td>178.180000</td>\n",
       "      <td>62.344016</td>\n",
       "      <td>19.355700</td>\n",
       "      <td>103.190000</td>\n",
       "      <td>68.900000</td>\n",
       "      <td>3890.400000</td>\n",
       "    </tr>\n",
       "    <tr>\n",
       "      <th>40%</th>\n",
       "      <td>3.191000</td>\n",
       "      <td>2.700000</td>\n",
       "      <td>16.920000</td>\n",
       "      <td>23.000000</td>\n",
       "      <td>183.220000</td>\n",
       "      <td>69.824635</td>\n",
       "      <td>21.570000</td>\n",
       "      <td>105.920000</td>\n",
       "      <td>70.100000</td>\n",
       "      <td>3945.800000</td>\n",
       "    </tr>\n",
       "    <tr>\n",
       "      <th>50%</th>\n",
       "      <td>3.340000</td>\n",
       "      <td>3.000000</td>\n",
       "      <td>17.350000</td>\n",
       "      <td>24.000000</td>\n",
       "      <td>186.450000</td>\n",
       "      <td>72.897067</td>\n",
       "      <td>23.099500</td>\n",
       "      <td>107.050000</td>\n",
       "      <td>70.750000</td>\n",
       "      <td>4019.000000</td>\n",
       "    </tr>\n",
       "    <tr>\n",
       "      <th>60%</th>\n",
       "      <td>3.489600</td>\n",
       "      <td>3.300000</td>\n",
       "      <td>18.500000</td>\n",
       "      <td>25.000000</td>\n",
       "      <td>191.780000</td>\n",
       "      <td>80.628492</td>\n",
       "      <td>26.007000</td>\n",
       "      <td>108.460000</td>\n",
       "      <td>72.080000</td>\n",
       "      <td>4099.200000</td>\n",
       "    </tr>\n",
       "    <tr>\n",
       "      <th>70%</th>\n",
       "      <td>3.620000</td>\n",
       "      <td>3.500000</td>\n",
       "      <td>19.000000</td>\n",
       "      <td>25.000000</td>\n",
       "      <td>193.740000</td>\n",
       "      <td>84.591672</td>\n",
       "      <td>29.315600</td>\n",
       "      <td>111.600000</td>\n",
       "      <td>73.100000</td>\n",
       "      <td>4151.000000</td>\n",
       "    </tr>\n",
       "    <tr>\n",
       "      <th>80%</th>\n",
       "      <td>3.896000</td>\n",
       "      <td>3.900000</td>\n",
       "      <td>20.000000</td>\n",
       "      <td>27.000000</td>\n",
       "      <td>198.800000</td>\n",
       "      <td>92.141037</td>\n",
       "      <td>36.054000</td>\n",
       "      <td>113.000000</td>\n",
       "      <td>74.400000</td>\n",
       "      <td>4230.800000</td>\n",
       "    </tr>\n",
       "    <tr>\n",
       "      <th>90%</th>\n",
       "      <td>4.119800</td>\n",
       "      <td>4.600000</td>\n",
       "      <td>23.550000</td>\n",
       "      <td>28.900000</td>\n",
       "      <td>204.330000</td>\n",
       "      <td>106.617257</td>\n",
       "      <td>42.940000</td>\n",
       "      <td>115.120000</td>\n",
       "      <td>76.400000</td>\n",
       "      <td>4297.100000</td>\n",
       "    </tr>\n",
       "    <tr>\n",
       "      <th>max</th>\n",
       "      <td>5.399240</td>\n",
       "      <td>5.631000</td>\n",
       "      <td>31.540000</td>\n",
       "      <td>33.000000</td>\n",
       "      <td>214.541000</td>\n",
       "      <td>139.908141</td>\n",
       "      <td>74.061500</td>\n",
       "      <td>125.889000</td>\n",
       "      <td>79.185000</td>\n",
       "      <td>4801.000000</td>\n",
       "    </tr>\n",
       "  </tbody>\n",
       "</table>\n",
       "</div>"
      ],
      "text/plain": [
       "       Curb_weight  Engine_size  Fuel_capacity  Fuel_efficiency      Length  \\\n",
       "count   123.000000   124.000000     124.000000       122.000000  124.000000   \n",
       "mean      3.397658     3.079032      18.093758        23.565574  186.755000   \n",
       "std       0.646084     0.981807       3.976642         4.132091   13.494971   \n",
       "min       2.242200     1.569000      11.923000        15.000000  153.219000   \n",
       "10%       2.599600     1.930000      13.200000        18.000000  171.390000   \n",
       "20%       2.919400     2.000000      15.200000        21.000000  175.040000   \n",
       "30%       3.044200     2.400000      16.000000        21.300000  178.180000   \n",
       "40%       3.191000     2.700000      16.920000        23.000000  183.220000   \n",
       "50%       3.340000     3.000000      17.350000        24.000000  186.450000   \n",
       "60%       3.489600     3.300000      18.500000        25.000000  191.780000   \n",
       "70%       3.620000     3.500000      19.000000        25.000000  193.740000   \n",
       "80%       3.896000     3.900000      20.000000        27.000000  198.800000   \n",
       "90%       4.119800     4.600000      23.550000        28.900000  204.330000   \n",
       "max       5.399240     5.631000      31.540000        33.000000  214.541000   \n",
       "\n",
       "       Power_perf_factor  Price_in_thousands   Wheelbase       Width  \\\n",
       "count         124.000000          124.000000  124.000000  124.000000   \n",
       "mean           76.781198           27.391315  107.126677   71.309613   \n",
       "std            22.902944           13.836830    7.071235    3.510229   \n",
       "min            37.598675           10.182000   92.715000   65.861000   \n",
       "10%            48.410215           14.077900   97.560000   66.900000   \n",
       "20%            57.566502           17.169400  100.980000   67.860000   \n",
       "30%            62.344016           19.355700  103.190000   68.900000   \n",
       "40%            69.824635           21.570000  105.920000   70.100000   \n",
       "50%            72.897067           23.099500  107.050000   70.750000   \n",
       "60%            80.628492           26.007000  108.460000   72.080000   \n",
       "70%            84.591672           29.315600  111.600000   73.100000   \n",
       "80%            92.141037           36.054000  113.000000   74.400000   \n",
       "90%           106.617257           42.940000  115.120000   76.400000   \n",
       "max           139.908141           74.061500  125.889000   79.185000   \n",
       "\n",
       "       Days_since_launch  \n",
       "count         124.000000  \n",
       "mean         4028.442903  \n",
       "std           235.334980  \n",
       "min          3641.460000  \n",
       "10%          3720.000000  \n",
       "20%          3819.200000  \n",
       "30%          3890.400000  \n",
       "40%          3945.800000  \n",
       "50%          4019.000000  \n",
       "60%          4099.200000  \n",
       "70%          4151.000000  \n",
       "80%          4230.800000  \n",
       "90%          4297.100000  \n",
       "max          4801.000000  "
      ]
     },
     "execution_count": 225,
     "metadata": {},
     "output_type": "execute_result"
    }
   ],
   "source": [
    "x_train.select_dtypes(np.number).describe(percentiles=[0.1,0.2,0.3,0.4,0.5,0.6,0.7,0.8,0.9])"
   ]
  },
  {
   "cell_type": "code",
   "execution_count": 226,
   "id": "cc73cbc2",
   "metadata": {
    "ExecuteTime": {
     "end_time": "2022-12-12T05:32:12.360627Z",
     "start_time": "2022-12-12T05:32:12.332627Z"
    }
   },
   "outputs": [
    {
     "data": {
      "text/html": [
       "<div>\n",
       "<style scoped>\n",
       "    .dataframe tbody tr th:only-of-type {\n",
       "        vertical-align: middle;\n",
       "    }\n",
       "\n",
       "    .dataframe tbody tr th {\n",
       "        vertical-align: top;\n",
       "    }\n",
       "\n",
       "    .dataframe thead th {\n",
       "        text-align: right;\n",
       "    }\n",
       "</style>\n",
       "<table border=\"1\" class=\"dataframe\">\n",
       "  <thead>\n",
       "    <tr style=\"text-align: right;\">\n",
       "      <th></th>\n",
       "      <th>Curb_weight</th>\n",
       "      <th>Engine_size</th>\n",
       "      <th>Fuel_capacity</th>\n",
       "      <th>Fuel_efficiency</th>\n",
       "      <th>Horsepower</th>\n",
       "      <th>Length</th>\n",
       "      <th>Manufacturer</th>\n",
       "      <th>Power_perf_factor</th>\n",
       "      <th>Price_in_thousands</th>\n",
       "      <th>Vehicle_type</th>\n",
       "      <th>Wheelbase</th>\n",
       "      <th>Width</th>\n",
       "      <th>Days_since_launch</th>\n",
       "    </tr>\n",
       "  </thead>\n",
       "  <tbody>\n",
       "    <tr>\n",
       "      <th>96</th>\n",
       "      <td>3.055</td>\n",
       "      <td>2.3</td>\n",
       "      <td>15.9</td>\n",
       "      <td>26</td>\n",
       "      <td>190</td>\n",
       "      <td>157.9</td>\n",
       "      <td>Mercedes-B</td>\n",
       "      <td>82.807362</td>\n",
       "      <td>38.9</td>\n",
       "      <td>Passenger</td>\n",
       "      <td>94.5</td>\n",
       "      <td>67.5</td>\n",
       "      <td>4348.0</td>\n",
       "    </tr>\n",
       "    <tr>\n",
       "      <th>142</th>\n",
       "      <td>2.668</td>\n",
       "      <td>2.0</td>\n",
       "      <td>15.3</td>\n",
       "      <td>27</td>\n",
       "      <td>127</td>\n",
       "      <td>163.8</td>\n",
       "      <td>Toyota</td>\n",
       "      <td>51.955109</td>\n",
       "      <td>16.888</td>\n",
       "      <td>Car</td>\n",
       "      <td>94.9</td>\n",
       "      <td>66.7</td>\n",
       "      <td>4238.0</td>\n",
       "    </tr>\n",
       "    <tr>\n",
       "      <th>66</th>\n",
       "      <td>3.65</td>\n",
       "      <td>3.0</td>\n",
       "      <td>18.4</td>\n",
       "      <td>21</td>\n",
       "      <td>240</td>\n",
       "      <td>191.3</td>\n",
       "      <td>Others</td>\n",
       "      <td>102.178985</td>\n",
       "      <td>42.8</td>\n",
       "      <td>Passenger</td>\n",
       "      <td>114.5</td>\n",
       "      <td>71.6</td>\n",
       "      <td>3691.0</td>\n",
       "    </tr>\n",
       "    <tr>\n",
       "      <th>100</th>\n",
       "      <td>4.387</td>\n",
       "      <td>3.2</td>\n",
       "      <td>19.0</td>\n",
       "      <td>20</td>\n",
       "      <td>215</td>\n",
       "      <td>180.6</td>\n",
       "      <td>Mercedes-B</td>\n",
       "      <td>90.495532</td>\n",
       "      <td>35.3</td>\n",
       "      <td>Car</td>\n",
       "      <td>111.0</td>\n",
       "      <td>72.2</td>\n",
       "      <td>4323.0</td>\n",
       "    </tr>\n",
       "    <tr>\n",
       "      <th>123</th>\n",
       "      <td>3.942</td>\n",
       "      <td>3.4</td>\n",
       "      <td>25.0</td>\n",
       "      <td>23</td>\n",
       "      <td>185</td>\n",
       "      <td>201.3</td>\n",
       "      <td>Pontiac</td>\n",
       "      <td>76.20844</td>\n",
       "      <td>25.635</td>\n",
       "      <td>Car</td>\n",
       "      <td>120.0</td>\n",
       "      <td>72.7</td>\n",
       "      <td>3795.0</td>\n",
       "    </tr>\n",
       "    <tr>\n",
       "      <th>...</th>\n",
       "      <td>...</td>\n",
       "      <td>...</td>\n",
       "      <td>...</td>\n",
       "      <td>...</td>\n",
       "      <td>...</td>\n",
       "      <td>...</td>\n",
       "      <td>...</td>\n",
       "      <td>...</td>\n",
       "      <td>...</td>\n",
       "      <td>...</td>\n",
       "      <td>...</td>\n",
       "      <td>...</td>\n",
       "      <td>...</td>\n",
       "    </tr>\n",
       "    <tr>\n",
       "      <th>35</th>\n",
       "      <td>2.567</td>\n",
       "      <td>2.0</td>\n",
       "      <td>12.5</td>\n",
       "      <td>29</td>\n",
       "      <td>132</td>\n",
       "      <td>174.4</td>\n",
       "      <td>Dodge</td>\n",
       "      <td>52.084899</td>\n",
       "      <td>12.64</td>\n",
       "      <td>Passenger</td>\n",
       "      <td>105.0</td>\n",
       "      <td>74.4</td>\n",
       "      <td>4018.0</td>\n",
       "    </tr>\n",
       "    <tr>\n",
       "      <th>102</th>\n",
       "      <td>3.012</td>\n",
       "      <td>2.4</td>\n",
       "      <td>15.9</td>\n",
       "      <td>25</td>\n",
       "      <td>155</td>\n",
       "      <td>183.5</td>\n",
       "      <td>Nissan</td>\n",
       "      <td>63.313728</td>\n",
       "      <td>20.39</td>\n",
       "      <td>Passenger</td>\n",
       "      <td>103.1</td>\n",
       "      <td>69.1</td>\n",
       "      <td>4150.0</td>\n",
       "    </tr>\n",
       "    <tr>\n",
       "      <th>127</th>\n",
       "      <td>3.28</td>\n",
       "      <td>2.3</td>\n",
       "      <td>18.5</td>\n",
       "      <td>23</td>\n",
       "      <td>170</td>\n",
       "      <td>189.2</td>\n",
       "      <td>Others</td>\n",
       "      <td>73.503778</td>\n",
       "      <td>33.12</td>\n",
       "      <td>Passenger</td>\n",
       "      <td>106.4</td>\n",
       "      <td>70.6</td>\n",
       "      <td>3685.0</td>\n",
       "    </tr>\n",
       "    <tr>\n",
       "      <th>130</th>\n",
       "      <td>2.367</td>\n",
       "      <td>1.9</td>\n",
       "      <td>12.1</td>\n",
       "      <td>33</td>\n",
       "      <td>100</td>\n",
       "      <td>180.0</td>\n",
       "      <td>Others</td>\n",
       "      <td>40.700072</td>\n",
       "      <td>12.535</td>\n",
       "      <td>Passenger</td>\n",
       "      <td>102.4</td>\n",
       "      <td>66.4</td>\n",
       "      <td>4289.0</td>\n",
       "    </tr>\n",
       "    <tr>\n",
       "      <th>29</th>\n",
       "      <td>3.332</td>\n",
       "      <td>2.5</td>\n",
       "      <td>16.0</td>\n",
       "      <td>24</td>\n",
       "      <td>168</td>\n",
       "      <td>193.0</td>\n",
       "      <td>Others</td>\n",
       "      <td>69.521355</td>\n",
       "      <td>24.495</td>\n",
       "      <td>Passenger</td>\n",
       "      <td>106.0</td>\n",
       "      <td>69.2</td>\n",
       "      <td>4043.0</td>\n",
       "    </tr>\n",
       "  </tbody>\n",
       "</table>\n",
       "<p>124 rows × 13 columns</p>\n",
       "</div>"
      ],
      "text/plain": [
       "     Curb_weight  Engine_size  Fuel_capacity  Fuel_efficiency Horsepower  \\\n",
       "96         3.055          2.3           15.9               26        190   \n",
       "142        2.668          2.0           15.3               27        127   \n",
       "66          3.65          3.0           18.4               21        240   \n",
       "100        4.387          3.2           19.0               20        215   \n",
       "123        3.942          3.4           25.0               23        185   \n",
       "..           ...          ...            ...              ...        ...   \n",
       "35         2.567          2.0           12.5               29        132   \n",
       "102        3.012          2.4           15.9               25        155   \n",
       "127         3.28          2.3           18.5               23        170   \n",
       "130        2.367          1.9           12.1               33        100   \n",
       "29         3.332          2.5           16.0               24        168   \n",
       "\n",
       "     Length Manufacturer  Power_perf_factor  Price_in_thousands Vehicle_type  \\\n",
       "96    157.9   Mercedes-B          82.807362                38.9    Passenger   \n",
       "142   163.8       Toyota          51.955109              16.888          Car   \n",
       "66    191.3       Others         102.178985                42.8    Passenger   \n",
       "100   180.6   Mercedes-B          90.495532                35.3          Car   \n",
       "123   201.3      Pontiac           76.20844              25.635          Car   \n",
       "..      ...          ...                ...                 ...          ...   \n",
       "35    174.4        Dodge          52.084899               12.64    Passenger   \n",
       "102   183.5       Nissan          63.313728               20.39    Passenger   \n",
       "127   189.2       Others          73.503778               33.12    Passenger   \n",
       "130   180.0       Others          40.700072              12.535    Passenger   \n",
       "29    193.0       Others          69.521355              24.495    Passenger   \n",
       "\n",
       "     Wheelbase  Width  Days_since_launch  \n",
       "96        94.5   67.5             4348.0  \n",
       "142       94.9   66.7             4238.0  \n",
       "66       114.5   71.6             3691.0  \n",
       "100      111.0   72.2             4323.0  \n",
       "123      120.0   72.7             3795.0  \n",
       "..         ...    ...                ...  \n",
       "35       105.0   74.4             4018.0  \n",
       "102      103.1   69.1             4150.0  \n",
       "127      106.4   70.6             3685.0  \n",
       "130      102.4   66.4             4289.0  \n",
       "29       106.0   69.2             4043.0  \n",
       "\n",
       "[124 rows x 13 columns]"
      ]
     },
     "execution_count": 226,
     "metadata": {},
     "output_type": "execute_result"
    }
   ],
   "source": [
    "# Univariate Missing imputation\n",
    "# for numeric columns we can impute it with either the mean or the median \n",
    "# for categoricals we can impute it with the mode \n",
    "\n",
    "x_train"
   ]
  },
  {
   "cell_type": "code",
   "execution_count": 227,
   "id": "b049accb",
   "metadata": {
    "ExecuteTime": {
     "end_time": "2022-12-12T05:32:12.407627Z",
     "start_time": "2022-12-12T05:32:12.366651Z"
    }
   },
   "outputs": [
    {
     "data": {
      "text/html": [
       "<div>\n",
       "<style scoped>\n",
       "    .dataframe tbody tr th:only-of-type {\n",
       "        vertical-align: middle;\n",
       "    }\n",
       "\n",
       "    .dataframe tbody tr th {\n",
       "        vertical-align: top;\n",
       "    }\n",
       "\n",
       "    .dataframe thead th {\n",
       "        text-align: right;\n",
       "    }\n",
       "</style>\n",
       "<table border=\"1\" class=\"dataframe\">\n",
       "  <thead>\n",
       "    <tr style=\"text-align: right;\">\n",
       "      <th></th>\n",
       "      <th>Curb_weight</th>\n",
       "      <th>Engine_size</th>\n",
       "      <th>Fuel_capacity</th>\n",
       "      <th>Fuel_efficiency</th>\n",
       "      <th>Horsepower</th>\n",
       "      <th>Length</th>\n",
       "      <th>Manufacturer</th>\n",
       "      <th>Power_perf_factor</th>\n",
       "      <th>Price_in_thousands</th>\n",
       "      <th>Vehicle_type</th>\n",
       "      <th>Wheelbase</th>\n",
       "      <th>Width</th>\n",
       "      <th>Days_since_launch</th>\n",
       "    </tr>\n",
       "  </thead>\n",
       "  <tbody>\n",
       "    <tr>\n",
       "      <th>38</th>\n",
       "      <td>3.489</td>\n",
       "      <td>2.7</td>\n",
       "      <td>17.0</td>\n",
       "      <td>&lt;NA&gt;</td>\n",
       "      <td>202</td>\n",
       "      <td>203.7</td>\n",
       "      <td>Dodge</td>\n",
       "      <td>80.83147</td>\n",
       "      <td>22.505</td>\n",
       "      <td>Passenger</td>\n",
       "      <td>113.0</td>\n",
       "      <td>74.7</td>\n",
       "      <td>3845.0</td>\n",
       "    </tr>\n",
       "    <tr>\n",
       "      <th>109</th>\n",
       "      <td>3.455</td>\n",
       "      <td>3.5</td>\n",
       "      <td>18.0</td>\n",
       "      <td>&lt;NA&gt;</td>\n",
       "      <td>215</td>\n",
       "      <td>195.9</td>\n",
       "      <td>Others</td>\n",
       "      <td>86.272523</td>\n",
       "      <td>24.15</td>\n",
       "      <td>Passenger</td>\n",
       "      <td>109.0</td>\n",
       "      <td>73.6</td>\n",
       "      <td>4273.0</td>\n",
       "    </tr>\n",
       "    <tr>\n",
       "      <th>15</th>\n",
       "      <td>&lt;NA&gt;</td>\n",
       "      <td>4.6</td>\n",
       "      <td>18.5</td>\n",
       "      <td>22</td>\n",
       "      <td>275</td>\n",
       "      <td>201.0</td>\n",
       "      <td>Others</td>\n",
       "      <td>115.621358</td>\n",
       "      <td>44.475</td>\n",
       "      <td>Passenger</td>\n",
       "      <td>112.2</td>\n",
       "      <td>75.0</td>\n",
       "      <td>4245.0</td>\n",
       "    </tr>\n",
       "  </tbody>\n",
       "</table>\n",
       "</div>"
      ],
      "text/plain": [
       "     Curb_weight  Engine_size  Fuel_capacity  Fuel_efficiency Horsepower  \\\n",
       "38         3.489          2.7           17.0             <NA>        202   \n",
       "109        3.455          3.5           18.0             <NA>        215   \n",
       "15          <NA>          4.6           18.5               22        275   \n",
       "\n",
       "     Length Manufacturer  Power_perf_factor  Price_in_thousands Vehicle_type  \\\n",
       "38    203.7        Dodge           80.83147              22.505    Passenger   \n",
       "109   195.9       Others          86.272523               24.15    Passenger   \n",
       "15    201.0       Others         115.621358              44.475    Passenger   \n",
       "\n",
       "     Wheelbase  Width  Days_since_launch  \n",
       "38       113.0   74.7             3845.0  \n",
       "109      109.0   73.6             4273.0  \n",
       "15       112.2   75.0             4245.0  "
      ]
     },
     "execution_count": 227,
     "metadata": {},
     "output_type": "execute_result"
    }
   ],
   "source": [
    "x_train.loc[x_train.isna().sum(axis=1)>0]"
   ]
  },
  {
   "cell_type": "code",
   "execution_count": 228,
   "id": "29c0819c",
   "metadata": {
    "ExecuteTime": {
     "end_time": "2022-12-12T05:32:12.438629Z",
     "start_time": "2022-12-12T05:32:12.411628Z"
    }
   },
   "outputs": [
    {
     "data": {
      "text/plain": [
       "96     26\n",
       "142    27\n",
       "66     21\n",
       "100    20\n",
       "123    23\n",
       "       ..\n",
       "35     29\n",
       "102    25\n",
       "127    23\n",
       "130    33\n",
       "29     24\n",
       "Name: Fuel_efficiency, Length: 124, dtype: Int64"
      ]
     },
     "execution_count": 228,
     "metadata": {},
     "output_type": "execute_result"
    }
   ],
   "source": [
    "x_train.Fuel_efficiency"
   ]
  },
  {
   "cell_type": "code",
   "execution_count": 229,
   "id": "7ec75427",
   "metadata": {
    "ExecuteTime": {
     "end_time": "2022-12-12T05:32:12.454625Z",
     "start_time": "2022-12-12T05:32:12.441630Z"
    }
   },
   "outputs": [],
   "source": [
    "d =  x_train.fillna({'Fuel_efficiency':x_train.Fuel_efficiency.mean()//1,'Curb_weight': 3.8})"
   ]
  },
  {
   "cell_type": "code",
   "execution_count": 230,
   "id": "b63083aa",
   "metadata": {
    "ExecuteTime": {
     "end_time": "2022-12-12T05:32:12.486633Z",
     "start_time": "2022-12-12T05:32:12.456631Z"
    }
   },
   "outputs": [
    {
     "data": {
      "text/html": [
       "<div>\n",
       "<style scoped>\n",
       "    .dataframe tbody tr th:only-of-type {\n",
       "        vertical-align: middle;\n",
       "    }\n",
       "\n",
       "    .dataframe tbody tr th {\n",
       "        vertical-align: top;\n",
       "    }\n",
       "\n",
       "    .dataframe thead th {\n",
       "        text-align: right;\n",
       "    }\n",
       "</style>\n",
       "<table border=\"1\" class=\"dataframe\">\n",
       "  <thead>\n",
       "    <tr style=\"text-align: right;\">\n",
       "      <th></th>\n",
       "      <th>Curb_weight</th>\n",
       "      <th>Engine_size</th>\n",
       "      <th>Fuel_capacity</th>\n",
       "      <th>Fuel_efficiency</th>\n",
       "      <th>Horsepower</th>\n",
       "      <th>Length</th>\n",
       "      <th>Manufacturer</th>\n",
       "      <th>Power_perf_factor</th>\n",
       "      <th>Price_in_thousands</th>\n",
       "      <th>Vehicle_type</th>\n",
       "      <th>Wheelbase</th>\n",
       "      <th>Width</th>\n",
       "      <th>Days_since_launch</th>\n",
       "    </tr>\n",
       "  </thead>\n",
       "  <tbody>\n",
       "    <tr>\n",
       "      <th>38</th>\n",
       "      <td>3.489</td>\n",
       "      <td>2.7</td>\n",
       "      <td>17.0</td>\n",
       "      <td>23</td>\n",
       "      <td>202</td>\n",
       "      <td>203.7</td>\n",
       "      <td>Dodge</td>\n",
       "      <td>80.83147</td>\n",
       "      <td>22.505</td>\n",
       "      <td>Passenger</td>\n",
       "      <td>113.0</td>\n",
       "      <td>74.7</td>\n",
       "      <td>3845.0</td>\n",
       "    </tr>\n",
       "    <tr>\n",
       "      <th>109</th>\n",
       "      <td>3.455</td>\n",
       "      <td>3.5</td>\n",
       "      <td>18.0</td>\n",
       "      <td>23</td>\n",
       "      <td>215</td>\n",
       "      <td>195.9</td>\n",
       "      <td>Others</td>\n",
       "      <td>86.272523</td>\n",
       "      <td>24.15</td>\n",
       "      <td>Passenger</td>\n",
       "      <td>109.0</td>\n",
       "      <td>73.6</td>\n",
       "      <td>4273.0</td>\n",
       "    </tr>\n",
       "    <tr>\n",
       "      <th>15</th>\n",
       "      <td>3.8</td>\n",
       "      <td>4.6</td>\n",
       "      <td>18.5</td>\n",
       "      <td>22</td>\n",
       "      <td>275</td>\n",
       "      <td>201.0</td>\n",
       "      <td>Others</td>\n",
       "      <td>115.621358</td>\n",
       "      <td>44.475</td>\n",
       "      <td>Passenger</td>\n",
       "      <td>112.2</td>\n",
       "      <td>75.0</td>\n",
       "      <td>4245.0</td>\n",
       "    </tr>\n",
       "  </tbody>\n",
       "</table>\n",
       "</div>"
      ],
      "text/plain": [
       "     Curb_weight  Engine_size  Fuel_capacity  Fuel_efficiency Horsepower  \\\n",
       "38         3.489          2.7           17.0               23        202   \n",
       "109        3.455          3.5           18.0               23        215   \n",
       "15           3.8          4.6           18.5               22        275   \n",
       "\n",
       "     Length Manufacturer  Power_perf_factor  Price_in_thousands Vehicle_type  \\\n",
       "38    203.7        Dodge           80.83147              22.505    Passenger   \n",
       "109   195.9       Others          86.272523               24.15    Passenger   \n",
       "15    201.0       Others         115.621358              44.475    Passenger   \n",
       "\n",
       "     Wheelbase  Width  Days_since_launch  \n",
       "38       113.0   74.7             3845.0  \n",
       "109      109.0   73.6             4273.0  \n",
       "15       112.2   75.0             4245.0  "
      ]
     },
     "execution_count": 230,
     "metadata": {},
     "output_type": "execute_result"
    }
   ],
   "source": [
    "d.loc[x_train.isna().sum(axis=1)>0]"
   ]
  },
  {
   "cell_type": "code",
   "execution_count": 231,
   "id": "becf99e5",
   "metadata": {
    "ExecuteTime": {
     "end_time": "2022-12-12T05:32:12.502635Z",
     "start_time": "2022-12-12T05:32:12.492631Z"
    }
   },
   "outputs": [
    {
     "data": {
      "text/plain": [
       "23.0"
      ]
     },
     "execution_count": 231,
     "metadata": {},
     "output_type": "execute_result"
    }
   ],
   "source": [
    "x_train.Fuel_efficiency.mean() // 1 "
   ]
  },
  {
   "cell_type": "code",
   "execution_count": 232,
   "id": "d38fc35f",
   "metadata": {
    "ExecuteTime": {
     "end_time": "2022-12-12T05:32:12.534641Z",
     "start_time": "2022-12-12T05:32:12.507630Z"
    }
   },
   "outputs": [
    {
     "data": {
      "text/plain": [
       "{'Curb_weight': 2.2422,\n",
       " 'Engine_size': 2.0,\n",
       " 'Fuel_capacity': 18.5,\n",
       " 'Fuel_efficiency': 25,\n",
       " 'Horsepower': 150,\n",
       " 'Length': 186.3,\n",
       " 'Manufacturer': 'Others',\n",
       " 'Power_perf_factor': 37.5986750132,\n",
       " 'Price_in_thousands': 10.182,\n",
       " 'Vehicle_type': 'Passenger',\n",
       " 'Wheelbase': 112.2,\n",
       " 'Width': 66.7,\n",
       " 'Days_since_launch': 4801.0}"
      ]
     },
     "execution_count": 232,
     "metadata": {},
     "output_type": "execute_result"
    }
   ],
   "source": [
    "# Missing Value treatment\n",
    "missing_imputer={}\n",
    "for i in x_train:\n",
    "    if pd.api.types.is_number(x_train[i]):\n",
    "        missing_imputer[i] = x_train[i].median()\n",
    "    else:\n",
    "        missing_imputer[i] = x_train[i].mode()[0]\n",
    "        \n",
    "\n",
    "missing_imputer"
   ]
  },
  {
   "cell_type": "code",
   "execution_count": 233,
   "id": "d0552341",
   "metadata": {
    "ExecuteTime": {
     "end_time": "2022-12-12T05:32:12.549644Z",
     "start_time": "2022-12-12T05:32:12.537633Z"
    }
   },
   "outputs": [],
   "source": [
    "x_train = x_train.fillna(missing_imputer)"
   ]
  },
  {
   "cell_type": "code",
   "execution_count": 234,
   "id": "88a4a389",
   "metadata": {
    "ExecuteTime": {
     "end_time": "2022-12-12T05:32:12.565640Z",
     "start_time": "2022-12-12T05:32:12.553636Z"
    },
    "scrolled": true
   },
   "outputs": [],
   "source": [
    "# Dealing with categoricals\n",
    "\n",
    "x_train = pd.get_dummies(x_train,columns=['Manufacturer','Vehicle_type']).drop(columns=['Manufacturer_Others','Vehicle_type_Passenger'])"
   ]
  },
  {
   "cell_type": "code",
   "execution_count": 235,
   "id": "2a3e8959",
   "metadata": {
    "ExecuteTime": {
     "end_time": "2022-12-12T05:32:12.628647Z",
     "start_time": "2022-12-12T05:32:12.570638Z"
    }
   },
   "outputs": [
    {
     "data": {
      "text/html": [
       "<div>\n",
       "<style scoped>\n",
       "    .dataframe tbody tr th:only-of-type {\n",
       "        vertical-align: middle;\n",
       "    }\n",
       "\n",
       "    .dataframe tbody tr th {\n",
       "        vertical-align: top;\n",
       "    }\n",
       "\n",
       "    .dataframe thead th {\n",
       "        text-align: right;\n",
       "    }\n",
       "</style>\n",
       "<table border=\"1\" class=\"dataframe\">\n",
       "  <thead>\n",
       "    <tr style=\"text-align: right;\">\n",
       "      <th></th>\n",
       "      <th>Curb_weight</th>\n",
       "      <th>Engine_size</th>\n",
       "      <th>Fuel_capacity</th>\n",
       "      <th>Fuel_efficiency</th>\n",
       "      <th>Horsepower</th>\n",
       "      <th>Length</th>\n",
       "      <th>Power_perf_factor</th>\n",
       "      <th>Price_in_thousands</th>\n",
       "      <th>Wheelbase</th>\n",
       "      <th>Width</th>\n",
       "      <th>Days_since_launch</th>\n",
       "      <th>Manufacturer_Chevrolet</th>\n",
       "      <th>Manufacturer_Dodge</th>\n",
       "      <th>Manufacturer_Ford</th>\n",
       "      <th>Manufacturer_Mercedes-B</th>\n",
       "      <th>Manufacturer_Mitsubishi</th>\n",
       "      <th>Manufacturer_Nissan</th>\n",
       "      <th>Manufacturer_Pontiac</th>\n",
       "      <th>Manufacturer_Toyota</th>\n",
       "      <th>Vehicle_type_Car</th>\n",
       "    </tr>\n",
       "  </thead>\n",
       "  <tbody>\n",
       "    <tr>\n",
       "      <th>96</th>\n",
       "      <td>3.055</td>\n",
       "      <td>2.3</td>\n",
       "      <td>15.9</td>\n",
       "      <td>26</td>\n",
       "      <td>190.0</td>\n",
       "      <td>157.9</td>\n",
       "      <td>82.807362</td>\n",
       "      <td>38.9</td>\n",
       "      <td>94.5</td>\n",
       "      <td>67.5</td>\n",
       "      <td>4348.0</td>\n",
       "      <td>0</td>\n",
       "      <td>0</td>\n",
       "      <td>0</td>\n",
       "      <td>1</td>\n",
       "      <td>0</td>\n",
       "      <td>0</td>\n",
       "      <td>0</td>\n",
       "      <td>0</td>\n",
       "      <td>0</td>\n",
       "    </tr>\n",
       "    <tr>\n",
       "      <th>142</th>\n",
       "      <td>2.668</td>\n",
       "      <td>2.0</td>\n",
       "      <td>15.3</td>\n",
       "      <td>27</td>\n",
       "      <td>127.0</td>\n",
       "      <td>163.8</td>\n",
       "      <td>51.955109</td>\n",
       "      <td>16.888</td>\n",
       "      <td>94.9</td>\n",
       "      <td>66.7</td>\n",
       "      <td>4238.0</td>\n",
       "      <td>0</td>\n",
       "      <td>0</td>\n",
       "      <td>0</td>\n",
       "      <td>0</td>\n",
       "      <td>0</td>\n",
       "      <td>0</td>\n",
       "      <td>0</td>\n",
       "      <td>1</td>\n",
       "      <td>1</td>\n",
       "    </tr>\n",
       "    <tr>\n",
       "      <th>66</th>\n",
       "      <td>3.65</td>\n",
       "      <td>3.0</td>\n",
       "      <td>18.4</td>\n",
       "      <td>21</td>\n",
       "      <td>240.0</td>\n",
       "      <td>191.3</td>\n",
       "      <td>102.178985</td>\n",
       "      <td>42.8</td>\n",
       "      <td>114.5</td>\n",
       "      <td>71.6</td>\n",
       "      <td>3691.0</td>\n",
       "      <td>0</td>\n",
       "      <td>0</td>\n",
       "      <td>0</td>\n",
       "      <td>0</td>\n",
       "      <td>0</td>\n",
       "      <td>0</td>\n",
       "      <td>0</td>\n",
       "      <td>0</td>\n",
       "      <td>0</td>\n",
       "    </tr>\n",
       "    <tr>\n",
       "      <th>100</th>\n",
       "      <td>4.387</td>\n",
       "      <td>3.2</td>\n",
       "      <td>19.0</td>\n",
       "      <td>20</td>\n",
       "      <td>215.0</td>\n",
       "      <td>180.6</td>\n",
       "      <td>90.495532</td>\n",
       "      <td>35.3</td>\n",
       "      <td>111.0</td>\n",
       "      <td>72.2</td>\n",
       "      <td>4323.0</td>\n",
       "      <td>0</td>\n",
       "      <td>0</td>\n",
       "      <td>0</td>\n",
       "      <td>1</td>\n",
       "      <td>0</td>\n",
       "      <td>0</td>\n",
       "      <td>0</td>\n",
       "      <td>0</td>\n",
       "      <td>1</td>\n",
       "    </tr>\n",
       "    <tr>\n",
       "      <th>123</th>\n",
       "      <td>3.942</td>\n",
       "      <td>3.4</td>\n",
       "      <td>25.0</td>\n",
       "      <td>23</td>\n",
       "      <td>185.0</td>\n",
       "      <td>201.3</td>\n",
       "      <td>76.20844</td>\n",
       "      <td>25.635</td>\n",
       "      <td>120.0</td>\n",
       "      <td>72.7</td>\n",
       "      <td>3795.0</td>\n",
       "      <td>0</td>\n",
       "      <td>0</td>\n",
       "      <td>0</td>\n",
       "      <td>0</td>\n",
       "      <td>0</td>\n",
       "      <td>0</td>\n",
       "      <td>1</td>\n",
       "      <td>0</td>\n",
       "      <td>1</td>\n",
       "    </tr>\n",
       "    <tr>\n",
       "      <th>...</th>\n",
       "      <td>...</td>\n",
       "      <td>...</td>\n",
       "      <td>...</td>\n",
       "      <td>...</td>\n",
       "      <td>...</td>\n",
       "      <td>...</td>\n",
       "      <td>...</td>\n",
       "      <td>...</td>\n",
       "      <td>...</td>\n",
       "      <td>...</td>\n",
       "      <td>...</td>\n",
       "      <td>...</td>\n",
       "      <td>...</td>\n",
       "      <td>...</td>\n",
       "      <td>...</td>\n",
       "      <td>...</td>\n",
       "      <td>...</td>\n",
       "      <td>...</td>\n",
       "      <td>...</td>\n",
       "      <td>...</td>\n",
       "    </tr>\n",
       "    <tr>\n",
       "      <th>35</th>\n",
       "      <td>2.567</td>\n",
       "      <td>2.0</td>\n",
       "      <td>12.5</td>\n",
       "      <td>29</td>\n",
       "      <td>132.0</td>\n",
       "      <td>174.4</td>\n",
       "      <td>52.084899</td>\n",
       "      <td>12.64</td>\n",
       "      <td>105.0</td>\n",
       "      <td>74.4</td>\n",
       "      <td>4018.0</td>\n",
       "      <td>0</td>\n",
       "      <td>1</td>\n",
       "      <td>0</td>\n",
       "      <td>0</td>\n",
       "      <td>0</td>\n",
       "      <td>0</td>\n",
       "      <td>0</td>\n",
       "      <td>0</td>\n",
       "      <td>0</td>\n",
       "    </tr>\n",
       "    <tr>\n",
       "      <th>102</th>\n",
       "      <td>3.012</td>\n",
       "      <td>2.4</td>\n",
       "      <td>15.9</td>\n",
       "      <td>25</td>\n",
       "      <td>155.0</td>\n",
       "      <td>183.5</td>\n",
       "      <td>63.313728</td>\n",
       "      <td>20.39</td>\n",
       "      <td>103.1</td>\n",
       "      <td>69.1</td>\n",
       "      <td>4150.0</td>\n",
       "      <td>0</td>\n",
       "      <td>0</td>\n",
       "      <td>0</td>\n",
       "      <td>0</td>\n",
       "      <td>0</td>\n",
       "      <td>1</td>\n",
       "      <td>0</td>\n",
       "      <td>0</td>\n",
       "      <td>0</td>\n",
       "    </tr>\n",
       "    <tr>\n",
       "      <th>127</th>\n",
       "      <td>3.28</td>\n",
       "      <td>2.3</td>\n",
       "      <td>18.5</td>\n",
       "      <td>23</td>\n",
       "      <td>170.0</td>\n",
       "      <td>189.2</td>\n",
       "      <td>73.503778</td>\n",
       "      <td>33.12</td>\n",
       "      <td>106.4</td>\n",
       "      <td>70.6</td>\n",
       "      <td>3685.0</td>\n",
       "      <td>0</td>\n",
       "      <td>0</td>\n",
       "      <td>0</td>\n",
       "      <td>0</td>\n",
       "      <td>0</td>\n",
       "      <td>0</td>\n",
       "      <td>0</td>\n",
       "      <td>0</td>\n",
       "      <td>0</td>\n",
       "    </tr>\n",
       "    <tr>\n",
       "      <th>130</th>\n",
       "      <td>2.367</td>\n",
       "      <td>1.9</td>\n",
       "      <td>12.1</td>\n",
       "      <td>33</td>\n",
       "      <td>100.0</td>\n",
       "      <td>180.0</td>\n",
       "      <td>40.700072</td>\n",
       "      <td>12.535</td>\n",
       "      <td>102.4</td>\n",
       "      <td>66.4</td>\n",
       "      <td>4289.0</td>\n",
       "      <td>0</td>\n",
       "      <td>0</td>\n",
       "      <td>0</td>\n",
       "      <td>0</td>\n",
       "      <td>0</td>\n",
       "      <td>0</td>\n",
       "      <td>0</td>\n",
       "      <td>0</td>\n",
       "      <td>0</td>\n",
       "    </tr>\n",
       "    <tr>\n",
       "      <th>29</th>\n",
       "      <td>3.332</td>\n",
       "      <td>2.5</td>\n",
       "      <td>16.0</td>\n",
       "      <td>24</td>\n",
       "      <td>168.0</td>\n",
       "      <td>193.0</td>\n",
       "      <td>69.521355</td>\n",
       "      <td>24.495</td>\n",
       "      <td>106.0</td>\n",
       "      <td>69.2</td>\n",
       "      <td>4043.0</td>\n",
       "      <td>0</td>\n",
       "      <td>0</td>\n",
       "      <td>0</td>\n",
       "      <td>0</td>\n",
       "      <td>0</td>\n",
       "      <td>0</td>\n",
       "      <td>0</td>\n",
       "      <td>0</td>\n",
       "      <td>0</td>\n",
       "    </tr>\n",
       "  </tbody>\n",
       "</table>\n",
       "<p>124 rows × 20 columns</p>\n",
       "</div>"
      ],
      "text/plain": [
       "     Curb_weight  Engine_size  Fuel_capacity  Fuel_efficiency  Horsepower  \\\n",
       "96         3.055          2.3           15.9               26       190.0   \n",
       "142        2.668          2.0           15.3               27       127.0   \n",
       "66          3.65          3.0           18.4               21       240.0   \n",
       "100        4.387          3.2           19.0               20       215.0   \n",
       "123        3.942          3.4           25.0               23       185.0   \n",
       "..           ...          ...            ...              ...         ...   \n",
       "35         2.567          2.0           12.5               29       132.0   \n",
       "102        3.012          2.4           15.9               25       155.0   \n",
       "127         3.28          2.3           18.5               23       170.0   \n",
       "130        2.367          1.9           12.1               33       100.0   \n",
       "29         3.332          2.5           16.0               24       168.0   \n",
       "\n",
       "     Length  Power_perf_factor  Price_in_thousands  Wheelbase  Width  \\\n",
       "96    157.9          82.807362                38.9       94.5   67.5   \n",
       "142   163.8          51.955109              16.888       94.9   66.7   \n",
       "66    191.3         102.178985                42.8      114.5   71.6   \n",
       "100   180.6          90.495532                35.3      111.0   72.2   \n",
       "123   201.3           76.20844              25.635      120.0   72.7   \n",
       "..      ...                ...                 ...        ...    ...   \n",
       "35    174.4          52.084899               12.64      105.0   74.4   \n",
       "102   183.5          63.313728               20.39      103.1   69.1   \n",
       "127   189.2          73.503778               33.12      106.4   70.6   \n",
       "130   180.0          40.700072              12.535      102.4   66.4   \n",
       "29    193.0          69.521355              24.495      106.0   69.2   \n",
       "\n",
       "     Days_since_launch  Manufacturer_Chevrolet  Manufacturer_Dodge  \\\n",
       "96              4348.0                       0                   0   \n",
       "142             4238.0                       0                   0   \n",
       "66              3691.0                       0                   0   \n",
       "100             4323.0                       0                   0   \n",
       "123             3795.0                       0                   0   \n",
       "..                 ...                     ...                 ...   \n",
       "35              4018.0                       0                   1   \n",
       "102             4150.0                       0                   0   \n",
       "127             3685.0                       0                   0   \n",
       "130             4289.0                       0                   0   \n",
       "29              4043.0                       0                   0   \n",
       "\n",
       "     Manufacturer_Ford  Manufacturer_Mercedes-B  Manufacturer_Mitsubishi  \\\n",
       "96                   0                        1                        0   \n",
       "142                  0                        0                        0   \n",
       "66                   0                        0                        0   \n",
       "100                  0                        1                        0   \n",
       "123                  0                        0                        0   \n",
       "..                 ...                      ...                      ...   \n",
       "35                   0                        0                        0   \n",
       "102                  0                        0                        0   \n",
       "127                  0                        0                        0   \n",
       "130                  0                        0                        0   \n",
       "29                   0                        0                        0   \n",
       "\n",
       "     Manufacturer_Nissan  Manufacturer_Pontiac  Manufacturer_Toyota  \\\n",
       "96                     0                     0                    0   \n",
       "142                    0                     0                    1   \n",
       "66                     0                     0                    0   \n",
       "100                    0                     0                    0   \n",
       "123                    0                     1                    0   \n",
       "..                   ...                   ...                  ...   \n",
       "35                     0                     0                    0   \n",
       "102                    1                     0                    0   \n",
       "127                    0                     0                    0   \n",
       "130                    0                     0                    0   \n",
       "29                     0                     0                    0   \n",
       "\n",
       "     Vehicle_type_Car  \n",
       "96                  0  \n",
       "142                 1  \n",
       "66                  0  \n",
       "100                 1  \n",
       "123                 1  \n",
       "..                ...  \n",
       "35                  0  \n",
       "102                 0  \n",
       "127                 0  \n",
       "130                 0  \n",
       "29                  0  \n",
       "\n",
       "[124 rows x 20 columns]"
      ]
     },
     "execution_count": 235,
     "metadata": {},
     "output_type": "execute_result"
    }
   ],
   "source": [
    "x_train"
   ]
  },
  {
   "cell_type": "code",
   "execution_count": 236,
   "id": "6d2d62fa",
   "metadata": {
    "ExecuteTime": {
     "end_time": "2022-12-12T05:32:12.676631Z",
     "start_time": "2022-12-12T05:32:12.631644Z"
    }
   },
   "outputs": [
    {
     "name": "stdout",
     "output_type": "stream",
     "text": [
      "<class 'pandas.core.frame.DataFrame'>\n",
      "Int64Index: 124 entries, 96 to 29\n",
      "Data columns (total 20 columns):\n",
      " #   Column                   Non-Null Count  Dtype  \n",
      "---  ------                   --------------  -----  \n",
      " 0   Curb_weight              124 non-null    Float64\n",
      " 1   Engine_size              124 non-null    Float64\n",
      " 2   Fuel_capacity            124 non-null    Float64\n",
      " 3   Fuel_efficiency          124 non-null    Int64  \n",
      " 4   Horsepower               124 non-null    Float64\n",
      " 5   Length                   124 non-null    Float64\n",
      " 6   Power_perf_factor        124 non-null    Float64\n",
      " 7   Price_in_thousands       124 non-null    Float64\n",
      " 8   Wheelbase                124 non-null    Float64\n",
      " 9   Width                    124 non-null    Float64\n",
      " 10  Days_since_launch        124 non-null    Float64\n",
      " 11  Manufacturer_Chevrolet   124 non-null    UInt8  \n",
      " 12  Manufacturer_Dodge       124 non-null    UInt8  \n",
      " 13  Manufacturer_Ford        124 non-null    UInt8  \n",
      " 14  Manufacturer_Mercedes-B  124 non-null    UInt8  \n",
      " 15  Manufacturer_Mitsubishi  124 non-null    UInt8  \n",
      " 16  Manufacturer_Nissan      124 non-null    UInt8  \n",
      " 17  Manufacturer_Pontiac     124 non-null    UInt8  \n",
      " 18  Manufacturer_Toyota      124 non-null    UInt8  \n",
      " 19  Vehicle_type_Car         124 non-null    UInt8  \n",
      "dtypes: Float64(10), Int64(1), UInt8(9)\n",
      "memory usage: 15.1 KB\n"
     ]
    }
   ],
   "source": [
    "x_train = x_train.convert_dtypes()\n",
    "x_train.info()"
   ]
  },
  {
   "cell_type": "markdown",
   "id": "24e6e211",
   "metadata": {},
   "source": [
    "### Feature Selection "
   ]
  },
  {
   "cell_type": "code",
   "execution_count": 237,
   "id": "7770b24f",
   "metadata": {
    "ExecuteTime": {
     "end_time": "2022-12-12T05:32:12.724627Z",
     "start_time": "2022-12-12T05:32:12.680645Z"
    }
   },
   "outputs": [
    {
     "name": "stdout",
     "output_type": "stream",
     "text": [
      "                            OLS Regression Results                            \n",
      "==============================================================================\n",
      "Dep. Variable:     Sales_in_thousands   R-squared:                       0.588\n",
      "Model:                            OLS   Adj. R-squared:                  0.508\n",
      "Method:                 Least Squares   F-statistic:                     7.360\n",
      "Date:                Mon, 12 Dec 2022   Prob (F-statistic):           2.17e-12\n",
      "Time:                        11:02:12   Log-Likelihood:                -155.48\n",
      "No. Observations:                 124   AIC:                             353.0\n",
      "Df Residuals:                     103   BIC:                             412.2\n",
      "Df Model:                          20                                         \n",
      "Covariance Type:            nonrobust                                         \n",
      "===========================================================================================\n",
      "                              coef    std err          t      P>|t|      [0.025      0.975]\n",
      "-------------------------------------------------------------------------------------------\n",
      "const                       2.6493      3.518      0.753      0.453      -4.329       9.627\n",
      "Curb_weight                 0.2911      0.355      0.820      0.414      -0.413       0.996\n",
      "Engine_size                 0.3475      0.264      1.314      0.192      -0.177       0.872\n",
      "Fuel_capacity              -0.0765      0.052     -1.478      0.142      -0.179       0.026\n",
      "Fuel_efficiency             0.0570      0.059      0.974      0.333      -0.059       0.173\n",
      "Horsepower                  0.1534      0.101      1.522      0.131      -0.046       0.353\n",
      "Length                      0.0201      0.016      1.240      0.218      -0.012       0.052\n",
      "Power_perf_factor          -0.4295      0.287     -1.495      0.138      -0.999       0.140\n",
      "Price_in_thousands          0.1164      0.117      0.993      0.323      -0.116       0.349\n",
      "Wheelbase                   0.0275      0.027      1.004      0.318      -0.027       0.082\n",
      "Width                      -0.0708      0.044     -1.625      0.107      -0.157       0.016\n",
      "Days_since_launch          -0.0005      0.000     -1.215      0.227      -0.001       0.000\n",
      "Manufacturer_Chevrolet      0.1370      0.415      0.330      0.742      -0.686       0.961\n",
      "Manufacturer_Dodge          0.7743      0.397      1.950      0.054      -0.013       1.562\n",
      "Manufacturer_Ford           1.1905      0.386      3.083      0.003       0.425       1.956\n",
      "Manufacturer_Mercedes-B     0.1812      0.453      0.400      0.690      -0.718       1.080\n",
      "Manufacturer_Mitsubishi    -0.8644      0.403     -2.142      0.035      -1.665      -0.064\n",
      "Manufacturer_Nissan         0.4117      0.426      0.966      0.336      -0.433       1.257\n",
      "Manufacturer_Pontiac        0.2613      0.428      0.611      0.543      -0.587       1.110\n",
      "Manufacturer_Toyota         0.6638      0.379      1.749      0.083      -0.089       1.416\n",
      "Vehicle_type_Car            0.7138      0.367      1.948      0.054      -0.013       1.441\n",
      "==============================================================================\n",
      "Omnibus:                       36.682   Durbin-Watson:                   2.115\n",
      "Prob(Omnibus):                  0.000   Jarque-Bera (JB):              100.312\n",
      "Skew:                          -1.096   Prob(JB):                     1.65e-22\n",
      "Kurtosis:                       6.822   Cond. No.                     1.71e+05\n",
      "==============================================================================\n",
      "\n",
      "Notes:\n",
      "[1] Standard Errors assume that the covariance matrix of the errors is correctly specified.\n",
      "[2] The condition number is large, 1.71e+05. This might indicate that there are\n",
      "strong multicollinearity or other numerical problems.\n"
     ]
    }
   ],
   "source": [
    "from statsmodels.api import OLS\n",
    "from statsmodels.api import add_constant\n",
    "\n",
    "\n",
    "model = OLS(np.log(y_train.astype(float)),add_constant(x_train.astype(float)))\n",
    "\n",
    "model = model.fit() \n",
    "\n",
    "\n",
    "print(model.summary())\n",
    "\n",
    "\n"
   ]
  },
  {
   "cell_type": "code",
   "execution_count": 238,
   "id": "7b9881d6",
   "metadata": {
    "ExecuteTime": {
     "end_time": "2022-12-12T05:32:12.755630Z",
     "start_time": "2022-12-12T05:32:12.730635Z"
    }
   },
   "outputs": [],
   "source": [
    "from sklearn import metrics\n",
    "\n",
    "def validate(true, predict):\n",
    "    \n",
    "    \n",
    "    print('MAE:', metrics.mean_absolute_error(true, predict))\n",
    "    print('MAPE:', metrics.mean_absolute_percentage_error(true, predict))\n",
    "    print('RMSE:', np.sqrt(metrics.mean_squared_error(true, predict)))\n",
    "    print('R2:', metrics.r2_score(true, predict))\n",
    " "
   ]
  },
  {
   "cell_type": "code",
   "execution_count": 239,
   "id": "2f72d3de",
   "metadata": {
    "ExecuteTime": {
     "end_time": "2022-12-12T05:32:12.802636Z",
     "start_time": "2022-12-12T05:32:12.761634Z"
    }
   },
   "outputs": [
    {
     "name": "stdout",
     "output_type": "stream",
     "text": [
      "MAE: 0.6190318132106827\n",
      "MAPE: 0.5629315684618489\n",
      "RMSE: 0.8478194555513273\n",
      "R2: 0.5883145468505542\n"
     ]
    }
   ],
   "source": [
    "validate(np.log(y_train),model.predict(add_constant(x_train)))"
   ]
  },
  {
   "cell_type": "raw",
   "id": "a50f5a89",
   "metadata": {},
   "source": [
    "Can we reduce the number the features while mainting the same performance \n",
    "\n",
    "1.Multicolinearity ( Problem while interpreting the results ) \n",
    "2. More faster inference \n",
    "3.It might not be possible to collect all the features during infernce \n",
    "4. Reduces overfitting \n",
    "5. Training will be faster \n",
    "6. Curse of Dimensionality ( we atleast need 5 rows for 1 col ) \n",
    "\n",
    "\n",
    "\n"
   ]
  },
  {
   "cell_type": "code",
   "execution_count": 240,
   "id": "6ed532c5",
   "metadata": {
    "ExecuteTime": {
     "end_time": "2022-12-12T05:32:12.850630Z",
     "start_time": "2022-12-12T05:32:12.807629Z"
    }
   },
   "outputs": [
    {
     "name": "stdout",
     "output_type": "stream",
     "text": [
      "                            OLS Regression Results                            \n",
      "==============================================================================\n",
      "Dep. Variable:     Sales_in_thousands   R-squared:                       0.588\n",
      "Model:                            OLS   Adj. R-squared:                  0.508\n",
      "Method:                 Least Squares   F-statistic:                     7.360\n",
      "Date:                Mon, 12 Dec 2022   Prob (F-statistic):           2.17e-12\n",
      "Time:                        11:02:12   Log-Likelihood:                -155.48\n",
      "No. Observations:                 124   AIC:                             353.0\n",
      "Df Residuals:                     103   BIC:                             412.2\n",
      "Df Model:                          20                                         \n",
      "Covariance Type:            nonrobust                                         \n",
      "===========================================================================================\n",
      "                              coef    std err          t      P>|t|      [0.025      0.975]\n",
      "-------------------------------------------------------------------------------------------\n",
      "const                       2.6493      3.518      0.753      0.453      -4.329       9.627\n",
      "Curb_weight                 0.2911      0.355      0.820      0.414      -0.413       0.996\n",
      "Engine_size                 0.3475      0.264      1.314      0.192      -0.177       0.872\n",
      "Fuel_capacity              -0.0765      0.052     -1.478      0.142      -0.179       0.026\n",
      "Fuel_efficiency             0.0570      0.059      0.974      0.333      -0.059       0.173\n",
      "Horsepower                  0.1534      0.101      1.522      0.131      -0.046       0.353\n",
      "Length                      0.0201      0.016      1.240      0.218      -0.012       0.052\n",
      "Power_perf_factor          -0.4295      0.287     -1.495      0.138      -0.999       0.140\n",
      "Price_in_thousands          0.1164      0.117      0.993      0.323      -0.116       0.349\n",
      "Wheelbase                   0.0275      0.027      1.004      0.318      -0.027       0.082\n",
      "Width                      -0.0708      0.044     -1.625      0.107      -0.157       0.016\n",
      "Days_since_launch          -0.0005      0.000     -1.215      0.227      -0.001       0.000\n",
      "Manufacturer_Chevrolet      0.1370      0.415      0.330      0.742      -0.686       0.961\n",
      "Manufacturer_Dodge          0.7743      0.397      1.950      0.054      -0.013       1.562\n",
      "Manufacturer_Ford           1.1905      0.386      3.083      0.003       0.425       1.956\n",
      "Manufacturer_Mercedes-B     0.1812      0.453      0.400      0.690      -0.718       1.080\n",
      "Manufacturer_Mitsubishi    -0.8644      0.403     -2.142      0.035      -1.665      -0.064\n",
      "Manufacturer_Nissan         0.4117      0.426      0.966      0.336      -0.433       1.257\n",
      "Manufacturer_Pontiac        0.2613      0.428      0.611      0.543      -0.587       1.110\n",
      "Manufacturer_Toyota         0.6638      0.379      1.749      0.083      -0.089       1.416\n",
      "Vehicle_type_Car            0.7138      0.367      1.948      0.054      -0.013       1.441\n",
      "==============================================================================\n",
      "Omnibus:                       36.682   Durbin-Watson:                   2.115\n",
      "Prob(Omnibus):                  0.000   Jarque-Bera (JB):              100.312\n",
      "Skew:                          -1.096   Prob(JB):                     1.65e-22\n",
      "Kurtosis:                       6.822   Cond. No.                     1.71e+05\n",
      "==============================================================================\n",
      "\n",
      "Notes:\n",
      "[1] Standard Errors assume that the covariance matrix of the errors is correctly specified.\n",
      "[2] The condition number is large, 1.71e+05. This might indicate that there are\n",
      "strong multicollinearity or other numerical problems.\n"
     ]
    }
   ],
   "source": [
    "# P Values \n",
    "\n",
    "# the probabilty of the coeff being 0\n",
    "\n",
    "# if p is high feature will die \n",
    "# if p is low feature will fly  \n",
    "\n",
    "#thumb rule:  we will drop the feature if p is greater than 5% -10 %\n",
    "\n",
    "print(model.summary())\n",
    "\n",
    "\n"
   ]
  },
  {
   "cell_type": "markdown",
   "id": "241b5b83",
   "metadata": {},
   "source": [
    "### P Values "
   ]
  },
  {
   "cell_type": "code",
   "execution_count": 241,
   "id": "da69855a",
   "metadata": {
    "ExecuteTime": {
     "end_time": "2022-12-12T05:32:12.866642Z",
     "start_time": "2022-12-12T05:32:12.854635Z"
    }
   },
   "outputs": [
    {
     "data": {
      "text/plain": [
       "Index(['Manufacturer_Dodge', 'Manufacturer_Ford', 'Manufacturer_Mitsubishi',\n",
       "       'Manufacturer_Toyota', 'Vehicle_type_Car'],\n",
       "      dtype='object')"
      ]
     },
     "execution_count": 241,
     "metadata": {},
     "output_type": "execute_result"
    }
   ],
   "source": [
    "f1 = model.pvalues.index[model.pvalues < 0.1] \n",
    "\n",
    "f1"
   ]
  },
  {
   "cell_type": "markdown",
   "id": "263833e3",
   "metadata": {},
   "source": [
    "### VIF"
   ]
  },
  {
   "cell_type": "code",
   "execution_count": 242,
   "id": "b493db72",
   "metadata": {
    "ExecuteTime": {
     "end_time": "2022-12-12T05:32:12.882630Z",
     "start_time": "2022-12-12T05:32:12.870636Z"
    }
   },
   "outputs": [],
   "source": [
    "\n",
    "def VIF(x, drop=[]):\n",
    "    from statsmodels.stats.outliers_influence import variance_inflation_factor\n",
    "\n",
    "    x = x.drop(columns=drop)\n",
    "    output = pd.DataFrame()\n",
    "    output['Columns'] = x.columns\n",
    "    x = x.values.astype(float)\n",
    "    output['VIF'] = [variance_inflation_factor(x, i) for i in range(x.shape[1])]\n",
    "\n",
    "    return output.sort_values('VIF', ascending=False)"
   ]
  },
  {
   "cell_type": "raw",
   "id": "de066b05",
   "metadata": {},
   "source": [
    "There is no automatic solution to find the best columns for VIF \n",
    "\n",
    "1. Manually , Keep as many columns as possible while retaining the VIF < 5 \n",
    "2. According to end user / client needs \n",
    "\n",
    "\n",
    "AS long as all the columns VIF is less than 5 the model will still be interpretable "
   ]
  },
  {
   "cell_type": "code",
   "execution_count": 243,
   "id": "dde5cf76",
   "metadata": {
    "ExecuteTime": {
     "end_time": "2022-12-12T05:32:12.945631Z",
     "start_time": "2022-12-12T05:32:12.888641Z"
    }
   },
   "outputs": [
    {
     "data": {
      "text/html": [
       "<div>\n",
       "<style scoped>\n",
       "    .dataframe tbody tr th:only-of-type {\n",
       "        vertical-align: middle;\n",
       "    }\n",
       "\n",
       "    .dataframe tbody tr th {\n",
       "        vertical-align: top;\n",
       "    }\n",
       "\n",
       "    .dataframe thead th {\n",
       "        text-align: right;\n",
       "    }\n",
       "</style>\n",
       "<table border=\"1\" class=\"dataframe\">\n",
       "  <thead>\n",
       "    <tr style=\"text-align: right;\">\n",
       "      <th></th>\n",
       "      <th>Columns</th>\n",
       "      <th>VIF</th>\n",
       "    </tr>\n",
       "  </thead>\n",
       "  <tbody>\n",
       "    <tr>\n",
       "      <th>0</th>\n",
       "      <td>Fuel_efficiency</td>\n",
       "      <td>4.831410</td>\n",
       "    </tr>\n",
       "    <tr>\n",
       "      <th>1</th>\n",
       "      <td>Price_in_thousands</td>\n",
       "      <td>4.290886</td>\n",
       "    </tr>\n",
       "    <tr>\n",
       "      <th>10</th>\n",
       "      <td>Vehicle_type_Car</td>\n",
       "      <td>1.589376</td>\n",
       "    </tr>\n",
       "    <tr>\n",
       "      <th>5</th>\n",
       "      <td>Manufacturer_Mercedes-B</td>\n",
       "      <td>1.219217</td>\n",
       "    </tr>\n",
       "    <tr>\n",
       "      <th>9</th>\n",
       "      <td>Manufacturer_Toyota</td>\n",
       "      <td>1.199411</td>\n",
       "    </tr>\n",
       "    <tr>\n",
       "      <th>2</th>\n",
       "      <td>Manufacturer_Chevrolet</td>\n",
       "      <td>1.184419</td>\n",
       "    </tr>\n",
       "    <tr>\n",
       "      <th>4</th>\n",
       "      <td>Manufacturer_Ford</td>\n",
       "      <td>1.174979</td>\n",
       "    </tr>\n",
       "    <tr>\n",
       "      <th>3</th>\n",
       "      <td>Manufacturer_Dodge</td>\n",
       "      <td>1.173384</td>\n",
       "    </tr>\n",
       "    <tr>\n",
       "      <th>7</th>\n",
       "      <td>Manufacturer_Nissan</td>\n",
       "      <td>1.163061</td>\n",
       "    </tr>\n",
       "    <tr>\n",
       "      <th>6</th>\n",
       "      <td>Manufacturer_Mitsubishi</td>\n",
       "      <td>1.108376</td>\n",
       "    </tr>\n",
       "    <tr>\n",
       "      <th>8</th>\n",
       "      <td>Manufacturer_Pontiac</td>\n",
       "      <td>1.101616</td>\n",
       "    </tr>\n",
       "  </tbody>\n",
       "</table>\n",
       "</div>"
      ],
      "text/plain": [
       "                    Columns       VIF\n",
       "0           Fuel_efficiency  4.831410\n",
       "1        Price_in_thousands  4.290886\n",
       "10         Vehicle_type_Car  1.589376\n",
       "5   Manufacturer_Mercedes-B  1.219217\n",
       "9       Manufacturer_Toyota  1.199411\n",
       "2    Manufacturer_Chevrolet  1.184419\n",
       "4         Manufacturer_Ford  1.174979\n",
       "3        Manufacturer_Dodge  1.173384\n",
       "7       Manufacturer_Nissan  1.163061\n",
       "6   Manufacturer_Mitsubishi  1.108376\n",
       "8      Manufacturer_Pontiac  1.101616"
      ]
     },
     "execution_count": 243,
     "metadata": {},
     "output_type": "execute_result"
    }
   ],
   "source": [
    "d = VIF(x_train,drop=['Power_perf_factor', 'Length', 'Width', 'Wheelbase',\n",
    "        'Curb_weight', 'Days_since_launch', 'Horsepower', 'Fuel_capacity', 'Engine_size']) \n",
    "\n",
    "d "
   ]
  },
  {
   "cell_type": "code",
   "execution_count": 244,
   "id": "786ac35b",
   "metadata": {
    "ExecuteTime": {
     "end_time": "2022-12-12T05:32:12.960631Z",
     "start_time": "2022-12-12T05:32:12.948632Z"
    }
   },
   "outputs": [],
   "source": [
    "f2 = set(d.Columns)"
   ]
  },
  {
   "cell_type": "code",
   "execution_count": 245,
   "id": "f3597605",
   "metadata": {
    "ExecuteTime": {
     "end_time": "2022-12-12T05:32:12.976640Z",
     "start_time": "2022-12-12T05:32:12.964639Z"
    }
   },
   "outputs": [],
   "source": [
    "f3= ['Manufacturer_Mercedes-B','Manufacturer_Toyota','Manufacturer_Toyota','Manufacturer_Nissan']"
   ]
  },
  {
   "cell_type": "code",
   "execution_count": 246,
   "id": "90849b2c",
   "metadata": {
    "ExecuteTime": {
     "end_time": "2022-12-12T05:32:13.008638Z",
     "start_time": "2022-12-12T05:32:12.987637Z"
    }
   },
   "outputs": [
    {
     "data": {
      "text/plain": [
       "Index(['Fuel_efficiency', 'Manufacturer_Chevrolet', 'Manufacturer_Dodge',\n",
       "       'Manufacturer_Ford', 'Manufacturer_Mitsubishi', 'Manufacturer_Pontiac',\n",
       "       'Price_in_thousands', 'Vehicle_type_Car'],\n",
       "      dtype='object')"
      ]
     },
     "execution_count": 246,
     "metadata": {},
     "output_type": "execute_result"
    }
   ],
   "source": [
    "final_cols = f1.union(f2).difference(f3)\n",
    "x_train = x_train[final_cols]\n",
    "\n",
    "final_cols"
   ]
  },
  {
   "cell_type": "code",
   "execution_count": 247,
   "id": "dde52668",
   "metadata": {
    "ExecuteTime": {
     "end_time": "2022-12-12T05:32:13.055635Z",
     "start_time": "2022-12-12T05:32:13.013642Z"
    }
   },
   "outputs": [
    {
     "name": "stdout",
     "output_type": "stream",
     "text": [
      "                            OLS Regression Results                            \n",
      "==============================================================================\n",
      "Dep. Variable:     Sales_in_thousands   R-squared:                       0.470\n",
      "Model:                            OLS   Adj. R-squared:                  0.433\n",
      "Method:                 Least Squares   F-statistic:                     12.75\n",
      "Date:                Mon, 12 Dec 2022   Prob (F-statistic):           5.38e-13\n",
      "Time:                        11:02:13   Log-Likelihood:                -171.13\n",
      "No. Observations:                 124   AIC:                             360.3\n",
      "Df Residuals:                     115   BIC:                             385.7\n",
      "Df Model:                           8                                         \n",
      "Covariance Type:            nonrobust                                         \n",
      "===========================================================================================\n",
      "                              coef    std err          t      P>|t|      [0.025      0.975]\n",
      "-------------------------------------------------------------------------------------------\n",
      "const                       4.6607      1.201      3.881      0.000       2.282       7.040\n",
      "Fuel_efficiency            -0.0090      0.040     -0.226      0.822      -0.087       0.070\n",
      "Manufacturer_Chevrolet      0.2561      0.407      0.630      0.530      -0.549       1.061\n",
      "Manufacturer_Dodge          0.3630      0.368      0.987      0.326      -0.365       1.091\n",
      "Manufacturer_Ford           1.2600      0.377      3.339      0.001       0.513       2.007\n",
      "Manufacturer_Mitsubishi    -1.0911      0.402     -2.713      0.008      -1.888      -0.294\n",
      "Manufacturer_Pontiac        0.5842      0.425      1.375      0.172      -0.257       1.426\n",
      "Price_in_thousands         -0.0515      0.009     -5.598      0.000      -0.070      -0.033\n",
      "Vehicle_type_Car            0.5555      0.298      1.864      0.065      -0.035       1.146\n",
      "==============================================================================\n",
      "Omnibus:                       32.452   Durbin-Watson:                   2.039\n",
      "Prob(Omnibus):                  0.000   Jarque-Bera (JB):               73.720\n",
      "Skew:                          -1.039   Prob(JB):                     9.82e-17\n",
      "Kurtosis:                       6.155   Cond. No.                         514.\n",
      "==============================================================================\n",
      "\n",
      "Notes:\n",
      "[1] Standard Errors assume that the covariance matrix of the errors is correctly specified.\n"
     ]
    }
   ],
   "source": [
    "model = OLS(np.log(y_train.astype(float)),add_constant(x_train.astype(float)))\n",
    "\n",
    "model = model.fit() \n",
    "\n",
    "\n",
    "print(model.summary())\n"
   ]
  },
  {
   "cell_type": "code",
   "execution_count": 248,
   "id": "d95fe958",
   "metadata": {
    "ExecuteTime": {
     "end_time": "2022-12-12T05:32:13.087637Z",
     "start_time": "2022-12-12T05:32:13.058644Z"
    }
   },
   "outputs": [
    {
     "data": {
      "text/html": [
       "<style>#sk-container-id-9 {color: black;background-color: white;}#sk-container-id-9 pre{padding: 0;}#sk-container-id-9 div.sk-toggleable {background-color: white;}#sk-container-id-9 label.sk-toggleable__label {cursor: pointer;display: block;width: 100%;margin-bottom: 0;padding: 0.3em;box-sizing: border-box;text-align: center;}#sk-container-id-9 label.sk-toggleable__label-arrow:before {content: \"▸\";float: left;margin-right: 0.25em;color: #696969;}#sk-container-id-9 label.sk-toggleable__label-arrow:hover:before {color: black;}#sk-container-id-9 div.sk-estimator:hover label.sk-toggleable__label-arrow:before {color: black;}#sk-container-id-9 div.sk-toggleable__content {max-height: 0;max-width: 0;overflow: hidden;text-align: left;background-color: #f0f8ff;}#sk-container-id-9 div.sk-toggleable__content pre {margin: 0.2em;color: black;border-radius: 0.25em;background-color: #f0f8ff;}#sk-container-id-9 input.sk-toggleable__control:checked~div.sk-toggleable__content {max-height: 200px;max-width: 100%;overflow: auto;}#sk-container-id-9 input.sk-toggleable__control:checked~label.sk-toggleable__label-arrow:before {content: \"▾\";}#sk-container-id-9 div.sk-estimator input.sk-toggleable__control:checked~label.sk-toggleable__label {background-color: #d4ebff;}#sk-container-id-9 div.sk-label input.sk-toggleable__control:checked~label.sk-toggleable__label {background-color: #d4ebff;}#sk-container-id-9 input.sk-hidden--visually {border: 0;clip: rect(1px 1px 1px 1px);clip: rect(1px, 1px, 1px, 1px);height: 1px;margin: -1px;overflow: hidden;padding: 0;position: absolute;width: 1px;}#sk-container-id-9 div.sk-estimator {font-family: monospace;background-color: #f0f8ff;border: 1px dotted black;border-radius: 0.25em;box-sizing: border-box;margin-bottom: 0.5em;}#sk-container-id-9 div.sk-estimator:hover {background-color: #d4ebff;}#sk-container-id-9 div.sk-parallel-item::after {content: \"\";width: 100%;border-bottom: 1px solid gray;flex-grow: 1;}#sk-container-id-9 div.sk-label:hover label.sk-toggleable__label {background-color: #d4ebff;}#sk-container-id-9 div.sk-serial::before {content: \"\";position: absolute;border-left: 1px solid gray;box-sizing: border-box;top: 0;bottom: 0;left: 50%;z-index: 0;}#sk-container-id-9 div.sk-serial {display: flex;flex-direction: column;align-items: center;background-color: white;padding-right: 0.2em;padding-left: 0.2em;position: relative;}#sk-container-id-9 div.sk-item {position: relative;z-index: 1;}#sk-container-id-9 div.sk-parallel {display: flex;align-items: stretch;justify-content: center;background-color: white;position: relative;}#sk-container-id-9 div.sk-item::before, #sk-container-id-9 div.sk-parallel-item::before {content: \"\";position: absolute;border-left: 1px solid gray;box-sizing: border-box;top: 0;bottom: 0;left: 50%;z-index: -1;}#sk-container-id-9 div.sk-parallel-item {display: flex;flex-direction: column;z-index: 1;position: relative;background-color: white;}#sk-container-id-9 div.sk-parallel-item:first-child::after {align-self: flex-end;width: 50%;}#sk-container-id-9 div.sk-parallel-item:last-child::after {align-self: flex-start;width: 50%;}#sk-container-id-9 div.sk-parallel-item:only-child::after {width: 0;}#sk-container-id-9 div.sk-dashed-wrapped {border: 1px dashed gray;margin: 0 0.4em 0.5em 0.4em;box-sizing: border-box;padding-bottom: 0.4em;background-color: white;}#sk-container-id-9 div.sk-label label {font-family: monospace;font-weight: bold;display: inline-block;line-height: 1.2em;}#sk-container-id-9 div.sk-label-container {text-align: center;}#sk-container-id-9 div.sk-container {/* jupyter's `normalize.less` sets `[hidden] { display: none; }` but bootstrap.min.css set `[hidden] { display: none !important; }` so we also need the `!important` here to be able to override the default hidden behavior on the sphinx rendered scikit-learn.org. See: https://github.com/scikit-learn/scikit-learn/issues/21755 */display: inline-block !important;position: relative;}#sk-container-id-9 div.sk-text-repr-fallback {display: none;}</style><div id=\"sk-container-id-9\" class=\"sk-top-container\"><div class=\"sk-text-repr-fallback\"><pre>LinearRegression()</pre><b>In a Jupyter environment, please rerun this cell to show the HTML representation or trust the notebook. <br />On GitHub, the HTML representation is unable to render, please try loading this page with nbviewer.org.</b></div><div class=\"sk-container\" hidden><div class=\"sk-item\"><div class=\"sk-estimator sk-toggleable\"><input class=\"sk-toggleable__control sk-hidden--visually\" id=\"sk-estimator-id-9\" type=\"checkbox\" checked><label for=\"sk-estimator-id-9\" class=\"sk-toggleable__label sk-toggleable__label-arrow\">LinearRegression</label><div class=\"sk-toggleable__content\"><pre>LinearRegression()</pre></div></div></div></div></div>"
      ],
      "text/plain": [
       "LinearRegression()"
      ]
     },
     "execution_count": 248,
     "metadata": {},
     "output_type": "execute_result"
    }
   ],
   "source": [
    "from sklearn.tree import DecisionTreeRegressor\n",
    "\n",
    "model = LinearRegression()\n",
    "\n",
    "model.fit(x_train,np.log(y_train))"
   ]
  },
  {
   "cell_type": "code",
   "execution_count": null,
   "id": "f3be9e57",
   "metadata": {},
   "outputs": [],
   "source": []
  },
  {
   "cell_type": "code",
   "execution_count": null,
   "id": "a9e15355",
   "metadata": {},
   "outputs": [],
   "source": []
  },
  {
   "cell_type": "markdown",
   "id": "b692d018",
   "metadata": {},
   "source": [
    "### Model Evaluation"
   ]
  },
  {
   "cell_type": "code",
   "execution_count": 249,
   "id": "8df58471",
   "metadata": {
    "ExecuteTime": {
     "end_time": "2022-12-12T05:32:13.104647Z",
     "start_time": "2022-12-12T05:32:13.092641Z"
    }
   },
   "outputs": [],
   "source": [
    "def process_test_data(Data):\n",
    "    Data['Days_since_launch'] = (dt.datetime.now() - Data['Latest_Launch']).dt.days\n",
    "    Data = Data.drop(columns=['Latest_Launch'])\n",
    "    Data['Manufacturer'] = np.where(Data['Manufacturer'].isin( final_manf),Data.Manufacturer,'Others')\n",
    "    Data = Data.fillna(missing_imputer)\n",
    "    Data = pd.get_dummies(Data,columns=['Manufacturer','Vehicle_type']).drop(columns=['Manufacturer_Others','Vehicle_type_Passenger'])\n",
    "    for j in [i for i in final_cols if i not in Data.columns]:\n",
    "        Data[j] = 0\n",
    "    Data = Data[final_cols]\n",
    "    \n",
    "    return Data.convert_dtypes()\n"
   ]
  },
  {
   "cell_type": "code",
   "execution_count": 250,
   "id": "17e667f2",
   "metadata": {
    "ExecuteTime": {
     "end_time": "2022-12-12T05:32:13.135639Z",
     "start_time": "2022-12-12T05:32:13.109643Z"
    }
   },
   "outputs": [],
   "source": [
    "def validate(true, predict):\n",
    "    from sklearn import metrics\n",
    "    \n",
    "    print('MAE:', metrics.mean_absolute_error(true, predict))\n",
    "    print('MAE / Mean:', metrics.mean_absolute_error(true, predict) / true.mean())\n",
    "    print('RMSE:', np.sqrt(metrics.mean_squared_error(true, predict)))\n",
    "    print('R2:', metrics.r2_score(true, predict))\n",
    "    print('MAPE:', metrics.mean_absolute_percentage_error(true, predict)) \n",
    "    \n",
    "    \n",
    "    plt.hist(true - predict)\n",
    "    \n",
    "    plt.show()\n",
    "    \n",
    "    "
   ]
  },
  {
   "cell_type": "code",
   "execution_count": 251,
   "id": "b68cd0e7",
   "metadata": {
    "ExecuteTime": {
     "end_time": "2022-12-12T05:32:13.165641Z",
     "start_time": "2022-12-12T05:32:13.140642Z"
    }
   },
   "outputs": [
    {
     "data": {
      "text/html": [
       "<style>#sk-container-id-10 {color: black;background-color: white;}#sk-container-id-10 pre{padding: 0;}#sk-container-id-10 div.sk-toggleable {background-color: white;}#sk-container-id-10 label.sk-toggleable__label {cursor: pointer;display: block;width: 100%;margin-bottom: 0;padding: 0.3em;box-sizing: border-box;text-align: center;}#sk-container-id-10 label.sk-toggleable__label-arrow:before {content: \"▸\";float: left;margin-right: 0.25em;color: #696969;}#sk-container-id-10 label.sk-toggleable__label-arrow:hover:before {color: black;}#sk-container-id-10 div.sk-estimator:hover label.sk-toggleable__label-arrow:before {color: black;}#sk-container-id-10 div.sk-toggleable__content {max-height: 0;max-width: 0;overflow: hidden;text-align: left;background-color: #f0f8ff;}#sk-container-id-10 div.sk-toggleable__content pre {margin: 0.2em;color: black;border-radius: 0.25em;background-color: #f0f8ff;}#sk-container-id-10 input.sk-toggleable__control:checked~div.sk-toggleable__content {max-height: 200px;max-width: 100%;overflow: auto;}#sk-container-id-10 input.sk-toggleable__control:checked~label.sk-toggleable__label-arrow:before {content: \"▾\";}#sk-container-id-10 div.sk-estimator input.sk-toggleable__control:checked~label.sk-toggleable__label {background-color: #d4ebff;}#sk-container-id-10 div.sk-label input.sk-toggleable__control:checked~label.sk-toggleable__label {background-color: #d4ebff;}#sk-container-id-10 input.sk-hidden--visually {border: 0;clip: rect(1px 1px 1px 1px);clip: rect(1px, 1px, 1px, 1px);height: 1px;margin: -1px;overflow: hidden;padding: 0;position: absolute;width: 1px;}#sk-container-id-10 div.sk-estimator {font-family: monospace;background-color: #f0f8ff;border: 1px dotted black;border-radius: 0.25em;box-sizing: border-box;margin-bottom: 0.5em;}#sk-container-id-10 div.sk-estimator:hover {background-color: #d4ebff;}#sk-container-id-10 div.sk-parallel-item::after {content: \"\";width: 100%;border-bottom: 1px solid gray;flex-grow: 1;}#sk-container-id-10 div.sk-label:hover label.sk-toggleable__label {background-color: #d4ebff;}#sk-container-id-10 div.sk-serial::before {content: \"\";position: absolute;border-left: 1px solid gray;box-sizing: border-box;top: 0;bottom: 0;left: 50%;z-index: 0;}#sk-container-id-10 div.sk-serial {display: flex;flex-direction: column;align-items: center;background-color: white;padding-right: 0.2em;padding-left: 0.2em;position: relative;}#sk-container-id-10 div.sk-item {position: relative;z-index: 1;}#sk-container-id-10 div.sk-parallel {display: flex;align-items: stretch;justify-content: center;background-color: white;position: relative;}#sk-container-id-10 div.sk-item::before, #sk-container-id-10 div.sk-parallel-item::before {content: \"\";position: absolute;border-left: 1px solid gray;box-sizing: border-box;top: 0;bottom: 0;left: 50%;z-index: -1;}#sk-container-id-10 div.sk-parallel-item {display: flex;flex-direction: column;z-index: 1;position: relative;background-color: white;}#sk-container-id-10 div.sk-parallel-item:first-child::after {align-self: flex-end;width: 50%;}#sk-container-id-10 div.sk-parallel-item:last-child::after {align-self: flex-start;width: 50%;}#sk-container-id-10 div.sk-parallel-item:only-child::after {width: 0;}#sk-container-id-10 div.sk-dashed-wrapped {border: 1px dashed gray;margin: 0 0.4em 0.5em 0.4em;box-sizing: border-box;padding-bottom: 0.4em;background-color: white;}#sk-container-id-10 div.sk-label label {font-family: monospace;font-weight: bold;display: inline-block;line-height: 1.2em;}#sk-container-id-10 div.sk-label-container {text-align: center;}#sk-container-id-10 div.sk-container {/* jupyter's `normalize.less` sets `[hidden] { display: none; }` but bootstrap.min.css set `[hidden] { display: none !important; }` so we also need the `!important` here to be able to override the default hidden behavior on the sphinx rendered scikit-learn.org. See: https://github.com/scikit-learn/scikit-learn/issues/21755 */display: inline-block !important;position: relative;}#sk-container-id-10 div.sk-text-repr-fallback {display: none;}</style><div id=\"sk-container-id-10\" class=\"sk-top-container\"><div class=\"sk-text-repr-fallback\"><pre>HuberRegressor()</pre><b>In a Jupyter environment, please rerun this cell to show the HTML representation or trust the notebook. <br />On GitHub, the HTML representation is unable to render, please try loading this page with nbviewer.org.</b></div><div class=\"sk-container\" hidden><div class=\"sk-item\"><div class=\"sk-estimator sk-toggleable\"><input class=\"sk-toggleable__control sk-hidden--visually\" id=\"sk-estimator-id-10\" type=\"checkbox\" checked><label for=\"sk-estimator-id-10\" class=\"sk-toggleable__label sk-toggleable__label-arrow\">HuberRegressor</label><div class=\"sk-toggleable__content\"><pre>HuberRegressor()</pre></div></div></div></div></div>"
      ],
      "text/plain": [
       "HuberRegressor()"
      ]
     },
     "execution_count": 251,
     "metadata": {},
     "output_type": "execute_result"
    }
   ],
   "source": [
    "from sklearn.linear_model import HuberRegressor\n",
    "\n",
    "HuberRegressor()"
   ]
  },
  {
   "cell_type": "code",
   "execution_count": 252,
   "id": "fcdcdbbc",
   "metadata": {
    "ExecuteTime": {
     "end_time": "2022-12-12T05:32:13.386966Z",
     "start_time": "2022-12-12T05:32:13.171646Z"
    }
   },
   "outputs": [
    {
     "name": "stdout",
     "output_type": "stream",
     "text": [
      "MAE: 0.6941685833802789\n",
      "MAE / Mean: 0.21138164188231356\n",
      "RMSE: 0.9619258735010074\n",
      "R2: 0.47004135939206104\n",
      "MAPE: 0.8038149307550944\n"
     ]
    },
    {
     "data": {
      "image/png": "[encoded data removed]",
      "text/plain": [
       "<Figure size 432x288 with 1 Axes>"
      ]
     },
     "metadata": {},
     "output_type": "display_data"
    }
   ],
   "source": [
    "validate(np.log(y_train),model.predict(x_train))"
   ]
  },
  {
   "cell_type": "code",
   "execution_count": 253,
   "id": "5c8116fb",
   "metadata": {
    "ExecuteTime": {
     "end_time": "2022-12-12T05:32:13.577981Z",
     "start_time": "2022-12-12T05:32:13.389964Z"
    },
    "scrolled": false
   },
   "outputs": [
    {
     "name": "stdout",
     "output_type": "stream",
     "text": [
      "MAE: 0.8268710685339837\n",
      "MAE / Mean: 0.24900433172458783\n",
      "RMSE: 0.9736455446280593\n",
      "R2: 0.4389799047429377\n",
      "MAPE: 0.3204786584565276\n"
     ]
    },
    {
     "data": {
      "image/png": "[encoded data removed]",
      "text/plain": [
       "<Figure size 432x288 with 1 Axes>"
      ]
     },
     "metadata": {},
     "output_type": "display_data"
    }
   ],
   "source": [
    "validate(np.log(y_test),model.predict(process_test_data(x_test)))"
   ]
  },
  {
   "cell_type": "raw",
   "id": "ff7318c6",
   "metadata": {},
   "source": [
    "Overfitting is also known as Variance : \n",
    "\n",
    "\n",
    "Variance : how much will your model change if you used a differnt set for the training data \n",
    "\n",
    "Ideally ( when there is no overfitting) , no matter what training data you use the model should stay the same "
   ]
  },
  {
   "cell_type": "raw",
   "id": "b12392d9",
   "metadata": {},
   "source": [
    "# Conclusion \n",
    "\n",
    "# Outliers \n",
    "This will cause overfitting \n",
    "\n",
    "Fix ?\n",
    "To use a cost function that is robust to outliers ( MAE / Mean absolute error) / HuberRegressor \n",
    "\n",
    "HuberRegressor: Linear Regression itself, but during training robust to outliers  \n",
    "\n",
    "Overfitting\n",
    "\n",
    "Model performs well on train but poorly on test data ( proxy for unseen data ) \n",
    "\n",
    "- Collect more train data \n",
    "\n",
    "- Elimanate outlier influence or use a model that is robust to outliers \n",
    "-Better Outlier Treatment ( Multivariate ) \n",
    "-Delete the outlier data before trainin g\n",
    "- Use a model that is robust to outliers ( HuberRegressor ,  ANN, XGBoost ) \n",
    "- Regularization \n",
    "\n",
    "\n",
    "\n",
    "Underfitting \n",
    "\n",
    "- More powerful / complex models ( ANN, XGBoost , svm etc ) \n",
    "\n",
    "- Make the data more normal ( we have already made the log of train ) \n",
    "\n",
    "\n",
    "\n",
    "\n",
    "\n",
    "\n",
    "\n",
    "\n"
   ]
  },
  {
   "cell_type": "code",
   "execution_count": 254,
   "id": "69ed3f7b",
   "metadata": {
    "ExecuteTime": {
     "end_time": "2022-12-12T05:32:13.592967Z",
     "start_time": "2022-12-12T05:32:13.580969Z"
    }
   },
   "outputs": [],
   "source": [
    "#The units are different it will not be possible to interpret \n",
    "\n",
    "# MAke the units the same \n",
    "\n",
    "# Z- Transformation \n",
    "\n",
    "\n",
    "z_train = (x_train - x_train.mean()) / x_train.std()"
   ]
  },
  {
   "cell_type": "code",
   "execution_count": 255,
   "id": "028d6669",
   "metadata": {
    "ExecuteTime": {
     "end_time": "2022-12-12T05:32:13.640971Z",
     "start_time": "2022-12-12T05:32:13.596977Z"
    }
   },
   "outputs": [
    {
     "data": {
      "text/html": [
       "<table class=\"simpletable\">\n",
       "<caption>OLS Regression Results</caption>\n",
       "<tr>\n",
       "  <th>Dep. Variable:</th>    <td>Sales_in_thousands</td> <th>  R-squared:         </th> <td>   0.470</td>\n",
       "</tr>\n",
       "<tr>\n",
       "  <th>Model:</th>                    <td>OLS</td>        <th>  Adj. R-squared:    </th> <td>   0.433</td>\n",
       "</tr>\n",
       "<tr>\n",
       "  <th>Method:</th>              <td>Least Squares</td>   <th>  F-statistic:       </th> <td>   12.75</td>\n",
       "</tr>\n",
       "<tr>\n",
       "  <th>Date:</th>              <td>Mon, 12 Dec 2022</td>  <th>  Prob (F-statistic):</th> <td>5.38e-13</td>\n",
       "</tr>\n",
       "<tr>\n",
       "  <th>Time:</th>                  <td>11:02:13</td>      <th>  Log-Likelihood:    </th> <td> -171.13</td>\n",
       "</tr>\n",
       "<tr>\n",
       "  <th>No. Observations:</th>       <td>   124</td>       <th>  AIC:               </th> <td>   360.3</td>\n",
       "</tr>\n",
       "<tr>\n",
       "  <th>Df Residuals:</th>           <td>   115</td>       <th>  BIC:               </th> <td>   385.7</td>\n",
       "</tr>\n",
       "<tr>\n",
       "  <th>Df Model:</th>               <td>     8</td>       <th>                     </th>     <td> </td>   \n",
       "</tr>\n",
       "<tr>\n",
       "  <th>Covariance Type:</th>       <td>nonrobust</td>     <th>                     </th>     <td> </td>   \n",
       "</tr>\n",
       "</table>\n",
       "<table class=\"simpletable\">\n",
       "<tr>\n",
       "             <td></td>                <th>coef</th>     <th>std err</th>      <th>t</th>      <th>P>|t|</th>  <th>[0.025</th>    <th>0.975]</th>  \n",
       "</tr>\n",
       "<tr>\n",
       "  <th>const</th>                   <td>    3.2840</td> <td>    0.090</td> <td>   36.610</td> <td> 0.000</td> <td>    3.106</td> <td>    3.462</td>\n",
       "</tr>\n",
       "<tr>\n",
       "  <th>Fuel_efficiency</th>         <td>   -0.0367</td> <td>    0.163</td> <td>   -0.226</td> <td> 0.822</td> <td>   -0.359</td> <td>    0.285</td>\n",
       "</tr>\n",
       "<tr>\n",
       "  <th>Manufacturer_Chevrolet</th>  <td>    0.0593</td> <td>    0.094</td> <td>    0.630</td> <td> 0.530</td> <td>   -0.127</td> <td>    0.246</td>\n",
       "</tr>\n",
       "<tr>\n",
       "  <th>Manufacturer_Dodge</th>      <td>    0.0946</td> <td>    0.096</td> <td>    0.987</td> <td> 0.326</td> <td>   -0.095</td> <td>    0.284</td>\n",
       "</tr>\n",
       "<tr>\n",
       "  <th>Manufacturer_Ford</th>       <td>    0.3108</td> <td>    0.093</td> <td>    3.339</td> <td> 0.001</td> <td>    0.126</td> <td>    0.495</td>\n",
       "</tr>\n",
       "<tr>\n",
       "  <th>Manufacturer_Mitsubishi</th> <td>   -0.2528</td> <td>    0.093</td> <td>   -2.713</td> <td> 0.008</td> <td>   -0.437</td> <td>   -0.068</td>\n",
       "</tr>\n",
       "<tr>\n",
       "  <th>Manufacturer_Pontiac</th>    <td>    0.1259</td> <td>    0.092</td> <td>    1.375</td> <td> 0.172</td> <td>   -0.055</td> <td>    0.307</td>\n",
       "</tr>\n",
       "<tr>\n",
       "  <th>Price_in_thousands</th>      <td>   -0.7128</td> <td>    0.127</td> <td>   -5.598</td> <td> 0.000</td> <td>   -0.965</td> <td>   -0.461</td>\n",
       "</tr>\n",
       "<tr>\n",
       "  <th>Vehicle_type_Car</th>        <td>    0.2511</td> <td>    0.135</td> <td>    1.864</td> <td> 0.065</td> <td>   -0.016</td> <td>    0.518</td>\n",
       "</tr>\n",
       "</table>\n",
       "<table class=\"simpletable\">\n",
       "<tr>\n",
       "  <th>Omnibus:</th>       <td>32.452</td> <th>  Durbin-Watson:     </th> <td>   2.039</td>\n",
       "</tr>\n",
       "<tr>\n",
       "  <th>Prob(Omnibus):</th> <td> 0.000</td> <th>  Jarque-Bera (JB):  </th> <td>  73.720</td>\n",
       "</tr>\n",
       "<tr>\n",
       "  <th>Skew:</th>          <td>-1.039</td> <th>  Prob(JB):          </th> <td>9.82e-17</td>\n",
       "</tr>\n",
       "<tr>\n",
       "  <th>Kurtosis:</th>      <td> 6.155</td> <th>  Cond. No.          </th> <td>    3.45</td>\n",
       "</tr>\n",
       "</table><br/><br/>Notes:<br/>[1] Standard Errors assume that the covariance matrix of the errors is correctly specified."
      ],
      "text/plain": [
       "<class 'statsmodels.iolib.summary.Summary'>\n",
       "\"\"\"\n",
       "                            OLS Regression Results                            \n",
       "==============================================================================\n",
       "Dep. Variable:     Sales_in_thousands   R-squared:                       0.470\n",
       "Model:                            OLS   Adj. R-squared:                  0.433\n",
       "Method:                 Least Squares   F-statistic:                     12.75\n",
       "Date:                Mon, 12 Dec 2022   Prob (F-statistic):           5.38e-13\n",
       "Time:                        11:02:13   Log-Likelihood:                -171.13\n",
       "No. Observations:                 124   AIC:                             360.3\n",
       "Df Residuals:                     115   BIC:                             385.7\n",
       "Df Model:                           8                                         \n",
       "Covariance Type:            nonrobust                                         \n",
       "===========================================================================================\n",
       "                              coef    std err          t      P>|t|      [0.025      0.975]\n",
       "-------------------------------------------------------------------------------------------\n",
       "const                       3.2840      0.090     36.610      0.000       3.106       3.462\n",
       "Fuel_efficiency            -0.0367      0.163     -0.226      0.822      -0.359       0.285\n",
       "Manufacturer_Chevrolet      0.0593      0.094      0.630      0.530      -0.127       0.246\n",
       "Manufacturer_Dodge          0.0946      0.096      0.987      0.326      -0.095       0.284\n",
       "Manufacturer_Ford           0.3108      0.093      3.339      0.001       0.126       0.495\n",
       "Manufacturer_Mitsubishi    -0.2528      0.093     -2.713      0.008      -0.437      -0.068\n",
       "Manufacturer_Pontiac        0.1259      0.092      1.375      0.172      -0.055       0.307\n",
       "Price_in_thousands         -0.7128      0.127     -5.598      0.000      -0.965      -0.461\n",
       "Vehicle_type_Car            0.2511      0.135      1.864      0.065      -0.016       0.518\n",
       "==============================================================================\n",
       "Omnibus:                       32.452   Durbin-Watson:                   2.039\n",
       "Prob(Omnibus):                  0.000   Jarque-Bera (JB):               73.720\n",
       "Skew:                          -1.039   Prob(JB):                     9.82e-17\n",
       "Kurtosis:                       6.155   Cond. No.                         3.45\n",
       "==============================================================================\n",
       "\n",
       "Notes:\n",
       "[1] Standard Errors assume that the covariance matrix of the errors is correctly specified.\n",
       "\"\"\""
      ]
     },
     "execution_count": 255,
     "metadata": {},
     "output_type": "execute_result"
    }
   ],
   "source": [
    "from statsmodels.api import OLS\n",
    "\n",
    "model = OLS(np.log(y_train).astype(float),add_constant(z_train).astype(float))\n",
    "\n",
    "model = model.fit()\n",
    "\n",
    "\n",
    "model.summary()"
   ]
  },
  {
   "cell_type": "code",
   "execution_count": 256,
   "id": "ab48f5fb",
   "metadata": {
    "ExecuteTime": {
     "end_time": "2022-12-12T05:32:13.672964Z",
     "start_time": "2022-12-12T05:32:13.646975Z"
    },
    "scrolled": true
   },
   "outputs": [
    {
     "data": {
      "text/plain": [
       "const                      3.283959\n",
       "Fuel_efficiency           -0.036743\n",
       "Manufacturer_Chevrolet     0.059345\n",
       "Manufacturer_Dodge         0.094568\n",
       "Manufacturer_Ford          0.310801\n",
       "Manufacturer_Mitsubishi   -0.252844\n",
       "Manufacturer_Pontiac       0.125877\n",
       "Price_in_thousands        -0.712819\n",
       "Vehicle_type_Car           0.251061\n",
       "dtype: float64"
      ]
     },
     "execution_count": 256,
     "metadata": {},
     "output_type": "execute_result"
    }
   ],
   "source": [
    "model.params"
   ]
  },
  {
   "cell_type": "raw",
   "id": "5a4ab4f5",
   "metadata": {},
   "source": [
    "#### Interpretation \n",
    "\n",
    "const                      3.283959\n",
    "Fuel_efficiency           -0.036743\n",
    "Manufacturer_Chevrolet     0.059345\n",
    "Manufacturer_Dodge         0.094568\n",
    "Manufacturer_Ford          0.310801\n",
    "Manufacturer_Mitsubishi   -0.252844\n",
    "Manufacturer_Pontiac       0.125877\n",
    "Price_in_thousands        -0.712819\n",
    "Vehicle_type_Car           0.251061\n",
    "\n",
    "\n",
    "\n"
   ]
  },
  {
   "cell_type": "code",
   "execution_count": null,
   "id": "302a54e5",
   "metadata": {},
   "outputs": [],
   "source": []
  },
  {
   "cell_type": "code",
   "execution_count": null,
   "id": "10c53799",
   "metadata": {},
   "outputs": [],
   "source": []
  },
  {
   "cell_type": "code",
   "execution_count": null,
   "id": "0313c389",
   "metadata": {},
   "outputs": [],
   "source": []
  }
 ],
 "metadata": {
  "kernelspec": {
   "display_name": "Python 3 (ipykernel)",
   "language": "python",
   "name": "python3"
  },
  "language_info": {
   "codemirror_mode": {
    "name": "ipython",
    "version": 3
   },
   "file_extension": ".py",
   "mimetype": "text/x-python",
   "name": "python",
   "nbconvert_exporter": "python",
   "pygments_lexer": "ipython3",
   "version": "3.9.13"
  }
 },
 "nbformat": 4,
 "nbformat_minor": 5
}
